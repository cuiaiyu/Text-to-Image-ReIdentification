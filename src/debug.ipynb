{
 "cells": [
  {
   "cell_type": "code",
   "execution_count": 4,
   "metadata": {},
   "outputs": [
    {
     "name": "stdout",
     "output_type": "stream",
     "text": [
      "Namespace(anno_path='/shared/rsaas/aiyucui2/wider_person/wider/train/train_anns_train.json', batch_size=64, cap_backbone_opt='bigru', cap_embed_type='sent', cheap_candidate_fn='/shared/rsaas/aiyucui2/wider_person/wider_graph/summer_best_val1_top100.pkl', cheap_eval=True, ckpt_freq=10, cos_margin=0.5, data_root='/shared/rsaas/aiyucui2/wider_person/', debug=True, dim=(384, 128), dist_fn_opt='euclidean', embed_size=2048, exp_name='dist_fn_euclidean_imgbb_resnet50_capbb_bigru_embed_size_2048_batch_64_lr_0.0001_captype_sent_img_meltlayer_1_cos_margin_0.5_np_True', experiment_name='default', gt_file_fn='/shared/rsaas/aiyucui2/wider_person/wider/val1/val_label.json', image_melt_layer=1, img_backbone_opt='resnet50', img_dir='/shared/rsaas/aiyucui2/wider_person/wider/train/img', img_num_cut=1, load_ckpt_fn='0', load_model_path='starter_bert_resnet50_2048.pt', lr=0.0001, mode='train', model_path='/shared/rsaas/aiyucui2/wider_person/checkpoints/reID/dist_fn_euclidean_imgbb_resnet50_capbb_bigru_embed_size_2048_batch_64_lr_0.0001_captype_sent_img_meltlayer_1_cos_margin_0.5_np_True', momentum=0.9, np=False, num_epochs=25, num_epochs_stage1=20, num_epochs_stage2=60, num_gpu=1, num_gpus=1, num_workers=8, optimizer='Adam', output_path='/shared/rsaas/aiyucui2/wider_person/outputs/reID/dist_fn_euclidean_imgbb_resnet50_capbb_bigru_embed_size_2048_batch_64_lr_0.0001_captype_sent_img_meltlayer_1_cos_margin_0.5_np_True', print_freq=50, regional_embed_size=256, step_size=15, text_melt_layer=0, token_length=40, val_anno_path='/shared/rsaas/aiyucui2/wider_person/wider/val1/val1_anns.json', val_img_dir='/shared/rsaas/aiyucui2/wider_person/wider/val1/img', vocab_path='/shared/rsaas/aiyucui2/wider_person/wider_graph/raw_vocab_th20.json', weight_decay=0.0005)\n"
     ]
    }
   ],
   "source": [
    "from datasets.wider_global_dataset import build_wider_dataloader\n",
    "from datasets.text_test_datasets import build_text_test_loader\n",
    "from datasets.image_test_datasets import build_image_test_loader\n",
    "from manager import Manager, build_graph_optimizer\n",
    "from evaluators.global_evaluator import GlobalEvaluator\n",
    "from evaluators.np_evaluator import NPEvaluator\n",
    "\n",
    "from loggers.logger import Logger\n",
    "from tqdm import tqdm as tqdm\n",
    "import os\n",
    "import numpy as np\n",
    "import torch.nn as nn\n",
    "import torch.optim as optim\n",
    "import torch\n",
    "from configs.args import load_arg_parser\n",
    "\n",
    "#------------------\n",
    "## args\n",
    "#------------------\n",
    "parser = load_arg_parser()\n",
    "cfg = parser.parse_args(\"\")\n",
    "root = cfg.data_root\n",
    "\n",
    "# data path\n",
    "cfg.anno_path = os.path.join(root, cfg.anno_path)\n",
    "cfg.img_dir = os.path.join(root, cfg.img_dir)\n",
    "cfg.val_anno_path = os.path.join(root, cfg.val_anno_path)\n",
    "cfg.val_img_dir = os.path.join(root, cfg.val_img_dir)\n",
    "cfg.gt_file_fn = os.path.join(root, cfg.gt_file_fn)\n",
    "\n",
    "# meta data path\n",
    "cfg.cheap_candidate_fn = os.path.join(root, cfg.cheap_candidate_fn)\n",
    "cfg.vocab_path = os.path.join(root, cfg.vocab_path)\n",
    "\n",
    "# sys path\n",
    "\n",
    "cfg.dim = (384,128)\n",
    "cfg.exp_name = \"dist_fn_{}_imgbb_{}_capbb_{}_embed_size_{}_batch_{}_lr_{}_captype_{}_img_meltlayer_{}_cos_margin_{}_np_{}\".format(\n",
    "    cfg.dist_fn_opt,\n",
    "    cfg.img_backbone_opt,\n",
    "    cfg.cap_backbone_opt,\n",
    "    cfg.embed_size,\n",
    "    cfg.batch_size,\n",
    "    cfg.lr,\n",
    "    cfg.cap_embed_type,\n",
    "    cfg.image_melt_layer,\n",
    "    cfg.cos_margin,\n",
    "    cfg.np)\n",
    "\n",
    "cfg.np=False\n",
    "cfg.model_path = os.path.join(\"/shared/rsaas/aiyucui2/wider_person\", cfg.model_path, cfg.exp_name)\n",
    "cfg.output_path = os.path.join(\"/shared/rsaas/aiyucui2/wider_person\", cfg.output_path, cfg.exp_name)\n",
    "\n",
    "if not os.path.exists(cfg.model_path):\n",
    "    os.mkdir(cfg.model_path)\n",
    "if not os.path.exists(cfg.output_path):\n",
    "    os.mkdir(cfg.output_path)\n",
    "\n",
    "logger = Logger(os.path.join(cfg.output_path, \"log.txt\"))\n",
    "logger.log(str(cfg))\n",
    "\n",
    "\n"
   ]
  },
  {
   "cell_type": "code",
   "execution_count": 5,
   "metadata": {},
   "outputs": [
    {
     "name": "stdout",
     "output_type": "stream",
     "text": [
      "[ds] load annotations from /shared/rsaas/aiyucui2/wider_person/wider/train/train_anns_train.json\n",
      "size of dataset: 1000\n",
      "[Trainer][init] initialize fresh model.\n",
      "[Trainer][init] model initialized.\n",
      "[Trainer][init] criterion initialized.\n"
     ]
    }
   ],
   "source": [
    "#------------------\n",
    "## agents\n",
    "#------------------\n",
    "# Data loaders\n",
    "train_loader = build_wider_dataloader(cfg)\n",
    "cfg.num_ids = len(train_loader.dataset.person2label.values())\n",
    "test_text_loader = build_text_test_loader(cfg) \n",
    "test_image_loader = build_image_test_loader(cfg) \n",
    "\n",
    "# Evaluators \n",
    "Evaluator = NPEvaluator if cfg.np else GlobalEvaluator\n",
    "\n",
    "evaluator = Evaluator(img_loader=test_image_loader, \n",
    "                          cap_loader=test_text_loader, \n",
    "                          gt_file_path=cfg.gt_file_fn,\n",
    "                          embed_size=cfg.embed_size,\n",
    "                          logger=logger,\n",
    "                          dist_fn_opt=\"euclidean\")\n",
    "cos_evaluator = Evaluator(img_loader=test_image_loader, \n",
    "                          cap_loader=test_text_loader, \n",
    "                          gt_file_path=cfg.gt_file_fn,\n",
    "                          embed_size=cfg.embed_size,\n",
    "                          logger=logger,\n",
    "                          dist_fn_opt=\"cosine\")\n",
    "# Trainer\n",
    "manager = Manager(cfg, logger)\n",
    "\n",
    "\n"
   ]
  },
  {
   "cell_type": "code",
   "execution_count": 6,
   "metadata": {},
   "outputs": [
    {
     "name": "stdout",
     "output_type": "stream",
     "text": [
      "======== [Stage 1] ============\n"
     ]
    },
    {
     "name": "stderr",
     "output_type": "stream",
     "text": [
      "train-stage-1, epoch0: 9it [00:03,  2.87it/s]\n"
     ]
    },
    {
     "ename": "KeyboardInterrupt",
     "evalue": "",
     "output_type": "error",
     "traceback": [
      "\u001b[0;31m---------------------------------------------------------------------------\u001b[0m",
      "\u001b[0;31mKeyboardInterrupt\u001b[0m                         Traceback (most recent call last)",
      "\u001b[0;32m<ipython-input-6-c8f2c98821fc>\u001b[0m in \u001b[0;36m<module>\u001b[0;34m\u001b[0m\n\u001b[1;32m     10\u001b[0m \u001b[0;34m\u001b[0m\u001b[0m\n\u001b[1;32m     11\u001b[0m \u001b[0;32mfor\u001b[0m \u001b[0mepoch\u001b[0m \u001b[0;32min\u001b[0m \u001b[0mrange\u001b[0m\u001b[0;34m(\u001b[0m\u001b[0mcfg\u001b[0m\u001b[0;34m.\u001b[0m\u001b[0mnum_epochs_stage1\u001b[0m\u001b[0;34m)\u001b[0m\u001b[0;34m:\u001b[0m\u001b[0;34m\u001b[0m\u001b[0;34m\u001b[0m\u001b[0m\n\u001b[0;32m---> 12\u001b[0;31m     \u001b[0mmanager\u001b[0m\u001b[0;34m.\u001b[0m\u001b[0mtrain_epoch_id\u001b[0m\u001b[0;34m(\u001b[0m\u001b[0mtrain_loader\u001b[0m\u001b[0;34m,\u001b[0m \u001b[0moptimizer\u001b[0m\u001b[0;34m,\u001b[0m \u001b[0mepoch\u001b[0m\u001b[0;34m,\u001b[0m \u001b[0;34m\"train-stage-1\"\u001b[0m\u001b[0;34m)\u001b[0m\u001b[0;34m\u001b[0m\u001b[0;34m\u001b[0m\u001b[0m\n\u001b[0m\u001b[1;32m     13\u001b[0m     \u001b[0macc\u001b[0m \u001b[0;34m=\u001b[0m \u001b[0mevaluator\u001b[0m\u001b[0;34m.\u001b[0m\u001b[0mevaluate\u001b[0m\u001b[0;34m(\u001b[0m\u001b[0mmanager\u001b[0m\u001b[0;34m.\u001b[0m\u001b[0mmodel\u001b[0m\u001b[0;34m)\u001b[0m\u001b[0;34m\u001b[0m\u001b[0;34m\u001b[0m\u001b[0m\n\u001b[1;32m     14\u001b[0m     \u001b[0mlogger\u001b[0m\u001b[0;34m.\u001b[0m\u001b[0mlog\u001b[0m\u001b[0;34m(\u001b[0m\u001b[0;34m'[euclidean][global] R@1: %.4f | R@5: %.4f | R@10: %.4f'\u001b[0m \u001b[0;34m%\u001b[0m \u001b[0;34m(\u001b[0m\u001b[0macc\u001b[0m\u001b[0;34m[\u001b[0m\u001b[0;34m'top-1'\u001b[0m\u001b[0;34m]\u001b[0m\u001b[0;34m,\u001b[0m \u001b[0macc\u001b[0m\u001b[0;34m[\u001b[0m\u001b[0;34m'top-5'\u001b[0m\u001b[0;34m]\u001b[0m\u001b[0;34m,\u001b[0m \u001b[0macc\u001b[0m\u001b[0;34m[\u001b[0m\u001b[0;34m'top-10'\u001b[0m\u001b[0;34m]\u001b[0m\u001b[0;34m)\u001b[0m\u001b[0;34m)\u001b[0m\u001b[0;34m\u001b[0m\u001b[0;34m\u001b[0m\u001b[0m\n",
      "\u001b[0;32m~/cross_ReID/src/manager.py\u001b[0m in \u001b[0;36mtrain_epoch_id\u001b[0;34m(self, train_data, optimizer, epoch, note)\u001b[0m\n\u001b[1;32m    245\u001b[0m         \u001b[0;32mfor\u001b[0m \u001b[0mi\u001b[0m\u001b[0;34m,\u001b[0m \u001b[0mdata\u001b[0m \u001b[0;32min\u001b[0m \u001b[0mtqdm\u001b[0m\u001b[0;34m(\u001b[0m\u001b[0menumerate\u001b[0m\u001b[0;34m(\u001b[0m\u001b[0mtrain_data\u001b[0m\u001b[0;34m)\u001b[0m\u001b[0;34m,\u001b[0m \u001b[0;34m\"%s, epoch%d\"\u001b[0m \u001b[0;34m%\u001b[0m \u001b[0;34m(\u001b[0m\u001b[0mnote\u001b[0m\u001b[0;34m,\u001b[0m\u001b[0mepoch\u001b[0m\u001b[0;34m)\u001b[0m\u001b[0;34m)\u001b[0m\u001b[0;34m:\u001b[0m\u001b[0;34m\u001b[0m\u001b[0;34m\u001b[0m\u001b[0m\n\u001b[1;32m    246\u001b[0m             \u001b[0;31m# load data\u001b[0m\u001b[0;34m\u001b[0m\u001b[0;34m\u001b[0m\u001b[0;34m\u001b[0m\u001b[0m\n\u001b[0;32m--> 247\u001b[0;31m             \u001b[0mdata\u001b[0m \u001b[0;34m=\u001b[0m \u001b[0mself\u001b[0m\u001b[0;34m.\u001b[0m\u001b[0mtodevice\u001b[0m\u001b[0;34m(\u001b[0m\u001b[0mdata\u001b[0m\u001b[0;34m)\u001b[0m\u001b[0;34m\u001b[0m\u001b[0;34m\u001b[0m\u001b[0m\n\u001b[0m\u001b[1;32m    248\u001b[0m             \u001b[0;34m(\u001b[0m\u001b[0mimg\u001b[0m\u001b[0;34m,\u001b[0m\u001b[0mpos_img\u001b[0m\u001b[0;34m,\u001b[0m\u001b[0mneg_img\u001b[0m\u001b[0;34m,\u001b[0m \u001b[0mcap\u001b[0m\u001b[0;34m,\u001b[0m \u001b[0mpos_cap\u001b[0m\u001b[0;34m,\u001b[0m \u001b[0mneg_cap\u001b[0m\u001b[0;34m,\u001b[0m \u001b[0mpid\u001b[0m\u001b[0;34m,\u001b[0m \u001b[0mpos_pid\u001b[0m\u001b[0;34m,\u001b[0m \u001b[0mneg_pid\u001b[0m\u001b[0;34m)\u001b[0m \u001b[0;34m=\u001b[0m \u001b[0mdata\u001b[0m\u001b[0;34m\u001b[0m\u001b[0;34m\u001b[0m\u001b[0m\n\u001b[1;32m    249\u001b[0m             \u001b[0mimg\u001b[0m \u001b[0;34m=\u001b[0m \u001b[0mself\u001b[0m\u001b[0;34m.\u001b[0m\u001b[0mmodel\u001b[0m\u001b[0;34m(\u001b[0m\u001b[0mimg\u001b[0m\u001b[0;34m)\u001b[0m\u001b[0;34m\u001b[0m\u001b[0;34m\u001b[0m\u001b[0m\n",
      "\u001b[0;32m~/cross_ReID/src/manager.py\u001b[0m in \u001b[0;36mtodevice\u001b[0;34m(self, batch)\u001b[0m\n\u001b[1;32m    118\u001b[0m         \u001b[0;32mfor\u001b[0m \u001b[0marg\u001b[0m \u001b[0;32min\u001b[0m \u001b[0mbatch\u001b[0m\u001b[0;34m:\u001b[0m\u001b[0;34m\u001b[0m\u001b[0;34m\u001b[0m\u001b[0m\n\u001b[1;32m    119\u001b[0m             \u001b[0;32mif\u001b[0m \u001b[0misinstance\u001b[0m\u001b[0;34m(\u001b[0m\u001b[0marg\u001b[0m\u001b[0;34m,\u001b[0m \u001b[0mtorch\u001b[0m\u001b[0;34m.\u001b[0m\u001b[0mTensor\u001b[0m\u001b[0;34m)\u001b[0m\u001b[0;34m:\u001b[0m\u001b[0;34m\u001b[0m\u001b[0;34m\u001b[0m\u001b[0m\n\u001b[0;32m--> 120\u001b[0;31m                 \u001b[0marg\u001b[0m \u001b[0;34m=\u001b[0m \u001b[0marg\u001b[0m\u001b[0;34m.\u001b[0m\u001b[0mcuda\u001b[0m\u001b[0;34m(\u001b[0m\u001b[0;34m)\u001b[0m\u001b[0;34m\u001b[0m\u001b[0;34m\u001b[0m\u001b[0m\n\u001b[0m\u001b[1;32m    121\u001b[0m             \u001b[0mret\u001b[0m\u001b[0;34m.\u001b[0m\u001b[0mappend\u001b[0m\u001b[0;34m(\u001b[0m\u001b[0marg\u001b[0m\u001b[0;34m)\u001b[0m\u001b[0;34m\u001b[0m\u001b[0;34m\u001b[0m\u001b[0m\n\u001b[1;32m    122\u001b[0m         \u001b[0;32mreturn\u001b[0m \u001b[0mtuple\u001b[0m\u001b[0;34m(\u001b[0m\u001b[0mret\u001b[0m\u001b[0;34m)\u001b[0m\u001b[0;34m\u001b[0m\u001b[0;34m\u001b[0m\u001b[0m\n",
      "\u001b[0;31mKeyboardInterrupt\u001b[0m: "
     ]
    }
   ],
   "source": [
    "#------------------\n",
    "## Train\n",
    "#------------------\n",
    "# Stage 1 (ID)\n",
    "logger.log(\"======== [Stage 1] ============\")\n",
    "manager.melt_img_layer(num_layer_to_melt=1)\n",
    "param_to_optimize = build_graph_optimizer([manager.model, manager.id_cls])\n",
    "optimizer = optim.Adam(param_to_optimize, lr=1e-3)\n",
    "scheduler = optim.lr_scheduler.StepLR(optimizer, step_size=10)\n",
    "\n",
    "for epoch in range(cfg.num_epochs_stage1):\n",
    "    manager.train_epoch_id(train_loader, optimizer, epoch, \"train-stage-1\")\n",
    "    acc = evaluator.evaluate(manager.model)\n",
    "    logger.log('[euclidean][global] R@1: %.4f | R@5: %.4f | R@10: %.4f' % (acc['top-1'], acc['top-5'], acc['top-10']))\n",
    "    acc = cos_evaluator.evaluate(manager.model)\n",
    "    logger.log('[cosine   ][global] R@1: %.4f | R@5: %.4f | R@10: %.4f' % (acc['top-1'], acc['top-5'], acc['top-10']))\n",
    "    scheduler.step()\n",
    "    manager.save_ckpt(epoch, acc, 'stage_1_id_last.pt')\n",
    "manager.save_ckpt(epoch, acc, 'id_initialized.pt')\n",
    "\n",
    "# Stage 2 (ID + Matching)\n",
    "manager.melt_img_layer(num_layer_to_melt=cfg.image_melt_layer)\n",
    "if cfg.np:\n",
    "    param_to_optimize = build_graph_optimizer([manager.model, manager.id_cls, manager.rga_img_mlp, manager.rga_cap_mlp]) \n",
    "else:\n",
    "    param_to_optimize = build_graph_optimizer([manager.model, manager.id_cls])    \n",
    "optimizer = optim.Adam(param_to_optimize, lr=2e-4, weight_decay=1e-5)\n",
    "scheduler = optim.lr_scheduler.StepLR(optimizer, step_size=10)\n",
    "\n",
    "train_epoch = manager.train_epoch_regional if cfg.np else manager.train_epoch_global\n",
    "for epoch in range(cfg.num_epochs_stage2):\n",
    "    train_epoch(train_loader, optimizer, epoch, \"train-stage-2\")\n",
    "    if cfg.np:\n",
    "        acc = evaluator.evaluate(manager.model, manager.rga_img_mlp, manager.rga_cap_mlp)\n",
    "        cos_acc = cos_evaluator.evaluate(manager.model, manager.rga_img_mlp, manager.rga_cap_mlp)\n",
    "    else:\n",
    "        acc = evaluator.evaluate(manager.model)\n",
    "        cos_acc = cos_evaluator.evaluate(manager.model)\n",
    "    logger.log('[euclidean][global] R@1: %.4f | R@5: %.4f | R@10: %.4f' % (acc['top-1'], acc['top-5'], acc['top-10']))\n",
    "    logger.log('[cosine   ][global] R@1: %.4f | R@5: %.4f | R@10: %.4f' % (cos_acc['top-1'], cos_acc['top-5'], cos_acc['top-10']))\n",
    "    scheduler.step()\n",
    "    manager.save_ckpt(epoch, acc, 'stage_2_id_match_last.pt')\n"
   ]
  }
 ],
 "metadata": {
  "kernelspec": {
   "display_name": "Python 3",
   "language": "python",
   "name": "python3"
  },
  "language_info": {
   "codemirror_mode": {
    "name": "ipython",
    "version": 3
   },
   "file_extension": ".py",
   "mimetype": "text/x-python",
   "name": "python",
   "nbconvert_exporter": "python",
   "pygments_lexer": "ipython3",
   "version": "3.7.3"
  },
  "toc": {
   "base_numbering": 1,
   "nav_menu": {},
   "number_sections": true,
   "sideBar": true,
   "skip_h1_title": false,
   "title_cell": "Table of Contents",
   "title_sidebar": "Contents",
   "toc_cell": false,
   "toc_position": {},
   "toc_section_display": true,
   "toc_window_display": false
  },
  "varInspector": {
   "cols": {
    "lenName": 16,
    "lenType": 16,
    "lenVar": 40
   },
   "kernels_config": {
    "python": {
     "delete_cmd_postfix": "",
     "delete_cmd_prefix": "del ",
     "library": "var_list.py",
     "varRefreshCmd": "print(var_dic_list())"
    },
    "r": {
     "delete_cmd_postfix": ") ",
     "delete_cmd_prefix": "rm(",
     "library": "var_list.r",
     "varRefreshCmd": "cat(var_dic_list()) "
    }
   },
   "types_to_exclude": [
    "module",
    "function",
    "builtin_function_or_method",
    "instance",
    "_Feature"
   ],
   "window_display": false
  }
 },
 "nbformat": 4,
 "nbformat_minor": 2
}
