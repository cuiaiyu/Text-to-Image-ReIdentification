{
 "cells": [
  {
   "cell_type": "code",
   "execution_count": 1,
   "metadata": {},
   "outputs": [],
   "source": [
    "from datasets.wider_part_dataset import build_wider_dataloader\n",
    "from datasets.text_test_datasets import build_text_test_loader\n",
    "from datasets.image_test_datasets import build_image_test_loader\n",
    "from models.encoder import Model, MLP\n",
    "from evaluators.global_evaluator import GlobalEvaluator\n",
    "from evaluators.np_evaluator import NPEvaluator\n",
    "from loss.loss import crossmodal_triplet_loss, cos_distance, triplet_cos_loss\n",
    "from loggers.logger import Logger\n",
    "from manager import build_graph_optimizer\n",
    "from tqdm import tqdm_notebook as tqdm\n",
    "from sklearn.neighbors import DistanceMetric\n",
    "\n",
    "from attentions.rga_attention import RGA_attend_one_to_many_batch, RGA_attend_one_to_many\n",
    "import os\n",
    "\n",
    "import torch.nn as nn\n",
    "import torch.optim as optim\n",
    "\n",
    "from configs.args import load_arg_parser"
   ]
  },
  {
   "cell_type": "code",
   "execution_count": null,
   "metadata": {},
   "outputs": [],
   "source": []
  },
  {
   "cell_type": "code",
   "execution_count": 2,
   "metadata": {},
   "outputs": [
    {
     "name": "stdout",
     "output_type": "stream",
     "text": [
      "debug\n"
     ]
    }
   ],
   "source": [
    "parser = load_arg_parser()\n",
    "cfg = parser.parse_args(\"\")\n",
    "cfg.data_root = \"/data/aiyucui2/wider\"\n",
    "root = cfg.data_root\n",
    "\n",
    "# data path\n",
    "cfg.anno_path = os.path.join(root, cfg.anno_path)\n",
    "cfg.img_dir = os.path.join(root, cfg.img_dir)\n",
    "cfg.val_anno_path = os.path.join(root, cfg.val_anno_path)\n",
    "cfg.val_img_dir = os.path.join(root, cfg.val_img_dir)\n",
    "cfg.gt_file_fn = os.path.join(root, cfg.gt_file_fn)\n",
    "\n",
    "# meta data path\n",
    "cfg.cheap_candidate_fn = os.path.join(root, cfg.cheap_candidate_fn)\n",
    "cfg.vocab_path = os.path.join(root, cfg.vocab_path)\n",
    "os.environ[\"CUDA_VISIBLE_DEVICES\"] = \"3\"\n",
    "# sys path\n",
    "cfg.model_path = os.path.join(root, cfg.model_path)\n",
    "cfg.output_path = os.path.join(root, cfg.output_path)\n",
    "ckpt_root = \"/shared/rsaas/aiyucui2/wider_person/checkpoints/reID/baseline\"\n",
    "load_exp_name = \"dist_fn_cosine_imgbb_resnet50_capbb_bigru_embed_size_1024_batch_96_lr_0.0001_captype_sent_img_meltlayer_2_cos_margin_0.2_np_False\"\n",
    "cfg.load_ckpt_fn = os.path.join(ckpt_root, load_exp_name, \"stage_1_id_last.pt\")\n",
    "cfg.debug = False\n",
    "cfg.embed_size = 1024\n",
    "cfg.batch_size = 96\n",
    "cfg.img_backbone_opt = \"resnet50\"\n",
    "cfg.num_gpus = 1\n",
    "cfg.cap_backbone_opt = \"bigru\"\n",
    "cfg.dim = (384,128)\n",
    "cfg.dist_fn_opt = \"cosine\"\n",
    "cfg.np = True\n",
    "cfg.img_num_cut = 6\n",
    "cfg.img_num_cut = 1 if not cfg.np else cfg.img_num_cut\n",
    "cfg.sent_token_length = 60\n",
    "cfg.np_token_length = 6\n",
    "cfg.num_np_per_sent = 10\n",
    "\n",
    "\n",
    "\n",
    "cfg.cap_embed_type='sent'\n",
    "# exp_name\n",
    "cfg.exp_name = 'debug'\n",
    "cfg.model_path = os.path.join(\"/shared/rsaas/aiyucui2/wider_person\", cfg.model_path, cfg.exp_name)\n",
    "cfg.output_path = os.path.join(\"/shared/rsaas/aiyucui2/wider_person\", cfg.output_path, cfg.exp_name)\n",
    "\n",
    "if not os.path.exists(cfg.model_path):\n",
    "    os.mkdir(cfg.model_path)\n",
    "if not os.path.exists(cfg.output_path):\n",
    "    os.mkdir(cfg.output_path)\n",
    "# logger\n",
    "logger = Logger(\"test_np.txt\") #os.path.join(cfg.output_path, cfg.exp_name+\".txt\"))\n",
    "print(cfg.exp_name)"
   ]
  },
  {
   "cell_type": "code",
   "execution_count": 3,
   "metadata": {
    "code_folding": []
   },
   "outputs": [],
   "source": [
    "from evaluators.evaluator import *\n",
    "import torch\n",
    "import numpy as np\n",
    "# from attentions.rga_attention import RGA_attend_one_to_many_batch\n",
    "from sklearn.neighbors import DistanceMetric\n",
    "from loss.loss import cos_distance\n",
    "import torch.nn.functional as F\n",
    "\n",
    "\n",
    "class NPEvaluator(Evaluator):\n",
    "    def __init__(self, img_loader, cap_loader, gt_file_path,  embed_size, logger, dist_fn_opt):\n",
    "        super(NPEvaluator, self).__init__(img_loader, cap_loader, gt_file_path,  embed_size, logger)\n",
    "        # dist fn\n",
    "        self.dist_fn_opt = dist_fn_opt\n",
    "        if dist_fn_opt == 'euclidean':\n",
    "            self.dist = DistanceMetric.get_metric('euclidean').pairwise\n",
    "        else:\n",
    "            self.dist = cos_distance\n",
    "        \n",
    "    def populate_img_db(self, encoder, img_mlp):\n",
    "        K = self.embed_size\n",
    "        self.global_imgs = []\n",
    "        self.img_parts = []\n",
    "        encoder.eval(); img_mlp.eval()\n",
    "        with torch.no_grad():\n",
    "            for i, data in tqdm(enumerate(self.img_loader),desc='build db global imgs'):\n",
    "                img, file_names = data\n",
    "                img_em, img_part = encoder(img.cuda())\n",
    "                self.img_parts.append(img_mlp(img_part))\n",
    "                self.global_imgs.append(img_em)\n",
    "        self.global_imgs = torch.cat(self.global_imgs)\n",
    "        self.img_parts = torch.cat(self.img_parts)\n",
    "        return self.global_imgs\n",
    "    \n",
    "    def populate_cap_db(self, encoder, text_mlp):\n",
    "        K = self.embed_size\n",
    "        encoder.eval(); text_mlp.eval()\n",
    "        self.global_caps = []\n",
    "        self.cap_parts = []\n",
    "        self.n2cs = []\n",
    "        with torch.no_grad():\n",
    "            for i, batch in tqdm(enumerate(self.cap_loader),desc='build db global caps'):\n",
    "                caps, nps, n2c, file_names = batch\n",
    "                N, M, T = nps.size()\n",
    "                global_cap = encoder(caps.cuda())\n",
    "                nps = encoder(nps.reshape(N*M, T).cuda())\n",
    "                self.global_caps.append(global_cap)\n",
    "                self.n2cs.append(n2c)\n",
    "                self.cap_parts.append(text_mlp(nps).reshape(N, M, -1))\n",
    "        self.global_caps = torch.cat(self.global_caps)\n",
    "        self.cap_parts = torch.cat(self.cap_parts)\n",
    "        self.n2cs = torch.cat(self.n2cs)\n",
    "        return self.global_caps\n",
    "    \n",
    "    def regional_alignment_image(self, caps, img_parts, dist_fn_opt):\n",
    "        scoremats = []\n",
    "        N, M, K = img_parts.size()\n",
    "        for cap in tqdm(caps, \"scoremat_rga_img\"):\n",
    "            with torch.no_grad():\n",
    "                parts = RGA_attend_one_to_many_batch(cap[None], img_parts, dist_fn_opt)\n",
    "                if dist_fn_opt == \"cosine\":\n",
    "                    scores = 1 - F.cosine_similarity(cap[None], parts)\n",
    "                else:\n",
    "                    scores = F.pairwise_distance(cap[None], parts)\n",
    "                scoremats.append(scores.detach().cpu().numpy())\n",
    "        return np.array(scoremats)\n",
    "    \n",
    "    def regional_alignment_text(self, imgs, cap_parts, n2cs, dist_fn_opt):\n",
    "        scoremats = []\n",
    "        N, M, K = cap_parts.size()\n",
    "        for cap_part, n2c in tqdm(zip(cap_parts, n2cs), \"scoremat_rga_cap(nps)\"):\n",
    "            with torch.no_grad():\n",
    "                parts = RGA_attend_one_to_many_batch(imgs, cap_part[None,:n2c,:].expand(imgs.size(0), n2c, imgs.size(1)), dist_fn_opt)\n",
    "                if dist_fn_opt == \"cosine\":\n",
    "                    scores = 1 - F.cosine_similarity(imgs, parts)\n",
    "                else:\n",
    "                    scores = F.pairwise_distance(imgs, parts)\n",
    "                scoremats.append(scores.detach().cpu().numpy())\n",
    "        return np.array(scoremats)\n",
    "    \n",
    "    def evaluate(self, encoder, mlp_img, mlp_text, output_path=\"tmp.txt\"):\n",
    "        # compute global features\n",
    "        self.populate_img_db(encoder, mlp_img)\n",
    "        self.populate_cap_db(encoder, mlp_text)\n",
    "    \n",
    "        # global eval\n",
    "        # scoremat = self.retrieval()\n",
    "        scoremat_global, scoremat_img_rga, scoremat_cap_rga = self.retrieval()\n",
    "        acc = self.compute_acc(scoremat_global, output_path)\n",
    "        self.logger.log(\"[global] R@1: %.4f | R@5: %.4f | R@10: %.4f\" % (acc['top-1'], acc['top-5'], acc['top-10']))\n",
    "        acc = self.compute_acc(scoremat_img_rga, output_path)\n",
    "        self.logger.log(\"[img_rga] R@1: %.4f | R@5: %.4f | R@10: %.4f\" % (acc['top-1'], acc['top-5'], acc['top-10']))\n",
    "        acc = self.compute_acc(scoremat_cap_rga, output_path)\n",
    "        self.logger.log(\"[cap_rga] R@1: %.4f | R@5: %.4f | R@10: %.4f\" % (acc['top-1'], acc['top-5'], acc['top-10']))\n",
    "        \n",
    "        acc = self.compute_acc(scoremat_global + 0.5*scoremat_img_rga + 0.5*scoremat_cap_rga, output_path)\n",
    "        self.logger.log(\"[fusion] R@1: %.4f | R@5: %.4f | R@10: %.4f\" % (acc['top-1'], acc['top-5'], acc['top-10']))\n",
    "        return acc                         \n",
    "            \n",
    "    \n",
    "    def retrieval(self):\n",
    "        querys = self.global_caps.cpu().detach().numpy()\n",
    "        candidates = self.global_imgs.cpu().detach().numpy()\n",
    "        scoremat = self.dist(querys, candidates)\n",
    "        scoremat2 = self.regional_alignment_image(self.global_caps, self.img_parts, self.dist_fn_opt)\n",
    "        scoremat3 = self.regional_alignment_text(self.global_imgs, self.cap_parts, self.n2cs, self.dist_fn_opt)\n",
    "        return scoremat, scoremat2, scoremat3"
   ]
  },
  {
   "cell_type": "code",
   "execution_count": 4,
   "metadata": {
    "code_folding": [
     9
    ]
   },
   "outputs": [
    {
     "name": "stdout",
     "output_type": "stream",
     "text": [
      "[ds] load annotations from /data/aiyucui2/wider/wider/train/train_anns_train.json\n",
      "size of dataset: 74264\n"
     ]
    }
   ],
   "source": [
    "# train loader\n",
    "train_loader = build_wider_dataloader(cfg)\n",
    "# test loader (loading image and text separately)\n",
    "test_text_loader = build_text_test_loader(cfg) \n",
    "test_image_loader = build_image_test_loader(cfg) \n",
    "\n",
    "# Evaluator\n",
    "Evaluator = NPEvaluator if cfg.np else GlobalEvaluator\n",
    "evaluator = Evaluator(img_loader=test_image_loader, \n",
    "                          cap_loader=test_text_loader, \n",
    "                          gt_file_path=cfg.gt_file_fn,\n",
    "                          embed_size=cfg.embed_size,\n",
    "                          logger=logger,\n",
    "                          dist_fn_opt=\"cosine\")"
   ]
  },
  {
   "cell_type": "code",
   "execution_count": 5,
   "metadata": {
    "code_folding": [
     0
    ]
   },
   "outputs": [],
   "source": [
    "if False:\n",
    "    ds = test_text_loader.dataset\n",
    "    extractor = ds.np_extractor\n",
    "    import nltk\n",
    "    import collections\n",
    "    num_nps_per_sent = collections.defaultdict(int)\n",
    "    num_nps = collections.defaultdict(int)\n",
    "    for cap in tqdm(ds.captions):\n",
    "        nps = extractor.sent_parse(cap)\n",
    "        num_nps_per_sent[len(nps)] += 1\n",
    "        for np in nps:\n",
    "            num_nps[len(np.split())] += 1\n",
    "\n",
    "    all_cnts = []\n",
    "    for num in num_nps_per_sent:\n",
    "        all_cnts += [num] * num_nps_per_sent[num]\n",
    "    all_cnts = sorted(all_cnts)\n",
    "    print(all_cnts[int(len(all_cnts)*0.98)])\n",
    "\n",
    "    all_cnts_np = []\n",
    "    for num in num_nps:\n",
    "        all_cnts_np += [num] * num_nps[num]\n",
    "    all_cnts_np = sorted(all_cnts_np)\n",
    "    print(all_cnts_np[int(len(all_cnts_np)*0.98)])\n"
   ]
  },
  {
   "cell_type": "code",
   "execution_count": null,
   "metadata": {},
   "outputs": [],
   "source": []
  },
  {
   "cell_type": "code",
   "execution_count": 6,
   "metadata": {
    "code_folding": [
     42
    ]
   },
   "outputs": [],
   "source": [
    "from tqdm import tqdm\n",
    "import torch\n",
    "import torch.nn as nn\n",
    "import torch.optim as optim \n",
    "import os\n",
    "\n",
    "import torch.nn.functional as F\n",
    "from models.encoder import Model, MLP\n",
    "from loss.loss import triplet_cos_loss, crossmodal_triplet_loss, triplet_cos_loss_inner\n",
    "\n",
    "from attentions.rga_attention import RGA_attend_one_to_many_batch, RGA_attend_one_to_many\n",
    "     \n",
    "from manager import Manager, regional_alignment_text\n",
    "\n",
    "\n",
    "def triplet_cos_loss_attention(fulls, parts, n2cs, pids):\n",
    "    \"\"\"\n",
    "    fulls: N x E\n",
    "    parts: N x Z x E\n",
    "    pids: N\n",
    "    \"\"\"\n",
    "    loss = 0.0\n",
    "    N, E = fulls.size()\n",
    "    Z = parts.size(1)\n",
    "    for i, (pid, n2c) in enumerate(zip(pids, n2cs)):\n",
    "        curr_part = parts[i:i+1].expand(N, Z, E)\n",
    "        curr_full = fulls[i:i+1]\n",
    "        cum_parts = RGA_attend_one_to_many_batch(fulls, curr_part, 'cosine')\n",
    "         # 1 x Z x E\n",
    "        neg_part = cum_parts[pids != pid]\n",
    "        pos_part = cum_parts[i:i+1].expand_as(neg_part)\n",
    "        \n",
    "        neg_full = fulls[pids != pid]\n",
    "        pos_full = fulls[i:i+1].expand_as(neg_full)\n",
    "        \n",
    "        loss = loss + triplet_cos_loss_inner(pos_part, pos_full, neg_full)\n",
    "        loss = loss + triplet_cos_loss_inner(pos_full, pos_part, neg_part)\n",
    "        \n",
    "    return loss / N\n",
    "        \n",
    "\n",
    "\n",
    "def regional_alignment_image(fulls, parts, dist_fn_opt):\n",
    "    return RGA_attend_one_to_many_batch(fulls, parts, dist_fn_opt)\n",
    "\n",
    "class AiyuManager(Manager):\n",
    "    def __init__(self, args, logger):\n",
    "        super(AiyuManager, self).__init__(args, logger)\n",
    "        \n",
    "    def train_epoch_regional(self, train_data, optimizer, epoch, note=\"train\"):\n",
    "        self.model.train(); self.rga_img_mlp.train(); self.rga_cap_mlp.train(); \n",
    "\n",
    "        cum_tri_loss, cum_tri_image_regional_loss, cum_tri_text_regional_loss, cum_id_loss = 0.0, 0.0, 0.0, 0.0\n",
    "        for i, data in tqdm(enumerate(train_data), \"%s, epoch%d\" % (note,epoch)):\n",
    "            # load data\n",
    "            data = self.todevice(data)\n",
    "            (img, cap, nps, n2c, pid) = data\n",
    "            import pdb;pdb.set_trace()\n",
    "\n",
    "\n",
    "            img, img_part = self.model(img)\n",
    "            cap = self.model(cap)\n",
    "            \n",
    "            N, M, T = nps.size()\n",
    "            #nps = self.rga_cap_mlp(self.np_encoder(nps))\n",
    "            nps = self.rga_cap_mlp(self.model(nps.view(-1, T))).view(N, M, -1)\n",
    "            \n",
    "            # part\n",
    "            img_part = self.rga_img_mlp(img_part)\n",
    "\n",
    "            img_part1 = RGA_attend_one_to_many_batch(cap, img_part, self.cfg.dist_fn_opt)\n",
    "            cap_part1 = regional_alignment_text(img, nps, n2c, self.cfg.dist_fn_opt)\n",
    "            # cap_part = RGA_attend_one_to_many_batch(img, nps, self.cfg.dist_fn_opt)\n",
    "\n",
    "            # loss\n",
    "            tri_loss =  self.triplet_loss(img, cap, pid) \n",
    "            tri_text_regional_loss = self.triplet_loss(cap_part1, img, pid) #triplet_cos_loss_attention(img, nps, n2c, pid) ##s\n",
    "            tri_image_regional_loss = self.triplet_loss(img_part1, cap, pid) \n",
    "            id_loss = self.cls_loss(self.id_cls(img), pid) +  self.cls_loss(self.id_cls(cap), pid)\n",
    "            # id_loss = id_loss + self.cls_loss(self.id_cls(img_part), pid) +  self.cls_loss(self.id_cls(cap_part), pid)\n",
    "\n",
    "\n",
    "            loss = tri_loss + tri_image_regional_loss  + tri_text_regional_loss + id_loss\n",
    "\n",
    "            # backpropagation\n",
    "            optimizer.zero_grad()\n",
    "            loss.backward()\n",
    "            optimizer.step()\n",
    "\n",
    "\n",
    "            # log\n",
    "            cum_tri_loss += tri_loss.item()\n",
    "            cum_tri_image_regional_loss += tri_image_regional_loss.item()\n",
    "            cum_tri_text_regional_loss += tri_text_regional_loss.item()\n",
    "            cum_id_loss += id_loss.item()\n",
    "            \n",
    "            if (i+1) % self.cfg.print_freq == 0:\n",
    "                out_string = \"[ep-%d, bs-%d] \" % (epoch, i)\n",
    "                out_string += \"[id-loss] %.6f, \" % (cum_id_loss / self.cfg.print_freq)\n",
    "                out_string += \"[tri-loss] %.6f, \" % (cum_tri_loss / self.cfg.print_freq)\n",
    "                out_string += \"[img_rga] %.6f, \" %  (cum_tri_image_regional_loss / self.cfg.print_freq)\n",
    "                out_string += \"[cap_rga] %.6f \" % (cum_tri_text_regional_loss / self.cfg.print_freq)\n",
    "                self.log(out_string)\n",
    "                cum_tri_loss, cum_tri_image_regional_loss, cum_tri_text_regional_loss, cum_id_loss = 0.0, 0.0, 0.0, 0.0       \n",
    "    \n"
   ]
  },
  {
   "cell_type": "code",
   "execution_count": 7,
   "metadata": {
    "code_folding": []
   },
   "outputs": [
    {
     "name": "stdout",
     "output_type": "stream",
     "text": [
      "[Trainer][init] load pre-trained model from /shared/rsaas/aiyucui2/wider_person/checkpoints/reID/baseline/dist_fn_cosine_imgbb_resnet50_capbb_bigru_embed_size_1024_batch_96_lr_0.0001_captype_sent_img_meltlayer_2_cos_margin_0.2_np_False/stage_1_id_last.pt.\n",
      "[Trainer][init] load pre-trained id_cls from /shared/rsaas/aiyucui2/wider_person/checkpoints/reID/baseline/dist_fn_cosine_imgbb_resnet50_capbb_bigru_embed_size_1024_batch_96_lr_0.0001_captype_sent_img_meltlayer_2_cos_margin_0.2_np_False/stage_1_id_last.pt.\n",
      "[Trainer][init] load pre-trained rga_img_mlp from /shared/rsaas/aiyucui2/wider_person/checkpoints/reID/baseline/dist_fn_cosine_imgbb_resnet50_capbb_bigru_embed_size_1024_batch_96_lr_0.0001_captype_sent_img_meltlayer_2_cos_margin_0.2_np_False/stage_1_id_last.pt.\n",
      "[Trainer][init] load pre-trained rga_cap_mlp from /shared/rsaas/aiyucui2/wider_person/checkpoints/reID/baseline/dist_fn_cosine_imgbb_resnet50_capbb_bigru_embed_size_1024_batch_96_lr_0.0001_captype_sent_img_meltlayer_2_cos_margin_0.2_np_False/stage_1_id_last.pt.\n",
      "[Trainer][init] model initialized.\n",
      "[Trainer][init] criterion initialized.\n"
     ]
    }
   ],
   "source": [
    "cfg.num_ids = len(train_loader.dataset.person2label.values())\n",
    "manager = AiyuManager(cfg, logger)"
   ]
  },
  {
   "cell_type": "code",
   "execution_count": 8,
   "metadata": {},
   "outputs": [],
   "source": [
    "if False:\n",
    "    if cfg.np:\n",
    "        acc = evaluator.evaluate(manager.model, manager.rga_img_mlp, manager.rga_cap_mlp)\n",
    "    else:\n",
    "        acc = evaluator.evaluate(manager.model)\n",
    "    logger.log('[cosine   ][global] R@1: %.4f | R@5: %.4f | R@10: %.4f' % (acc['top-1'], acc['top-5'], acc['top-10']))\n"
   ]
  },
  {
   "cell_type": "markdown",
   "metadata": {},
   "source": [
    "## Stage 1: ID Loss only"
   ]
  },
  {
   "cell_type": "code",
   "execution_count": 9,
   "metadata": {
    "code_folding": [
     1
    ]
   },
   "outputs": [],
   "source": [
    "if False:\n",
    "    logger.log(\"======== [Stage 1] ============\")\n",
    "    manager.melt_img_layer(num_layer_to_melt=1)\n",
    "    param_to_optimize = build_graph_optimizer([manager.model, manager.id_cls])\n",
    "    optimizer = optim.Adam(param_to_optimize, lr=1e-3)\n",
    "    scheduler = optim.lr_scheduler.StepLR(optimizer, step_size=10)\n",
    "    \n",
    "    for epoch in range(0):\n",
    "        manager.train_epoch_id(train_loader, optimizer, epoch, \"train-stage-1\")\n",
    "        acc = evaluator.evaluate(manager.model)\n",
    "        logger.log('[euclidean][global] R@1: %.4f | R@5: %.4f | R@10: %.4f' % (acc['top-1'], acc['top-5'], acc['top-10']))\n",
    "        acc = cos_evaluator.evaluate(manager.model)\n",
    "        logger.log('[cosine   ][global] R@1: %.4f | R@5: %.4f | R@10: %.4f' % (acc['top-1'], acc['top-5'], acc['top-10']))\n",
    "        scheduler.step()\n",
    "        manager.save_ckpt(epoch, acc, 'stage_1_id_last.pt')\n",
    "    manager.save_ckpt(epoch, acc, 'id_initialized.pt')"
   ]
  },
  {
   "cell_type": "markdown",
   "metadata": {},
   "source": [
    "## Stage 2: Matching + ID Loss"
   ]
  },
  {
   "cell_type": "code",
   "execution_count": null,
   "metadata": {},
   "outputs": [
    {
     "data": {
      "application/vnd.jupyter.widget-view+json": {
       "model_id": "6854ed2bd2644060957e5166181e3101",
       "version_major": 2,
       "version_minor": 0
      },
      "text/plain": [
       "HBox(children=(IntProgress(value=1, bar_style='info', description='train-stage-2, epoch0', max=1, style=Progre…"
      ]
     },
     "metadata": {},
     "output_type": "display_data"
    },
    {
     "name": "stdout",
     "output_type": "stream",
     "text": [
      "> <ipython-input-6-35cb9463ce4a>(61)train_epoch_regional()\n",
      "-> img, img_part = self.model(img)\n",
      "(Pdb) n\n",
      "> <ipython-input-6-35cb9463ce4a>(62)train_epoch_regional()\n",
      "-> cap = self.model(cap)\n",
      "(Pdb) img_part.size()\n",
      "torch.Size([96, 6, 256])\n",
      "(Pdb) n\n",
      "> <ipython-input-6-35cb9463ce4a>(64)train_epoch_regional()\n",
      "-> N, M, T = nps.size()\n",
      "(Pdb) n\n",
      "> <ipython-input-6-35cb9463ce4a>(66)train_epoch_regional()\n",
      "-> nps = self.rga_cap_mlp(self.model(nps.view(-1, T))).view(N, M, -1)\n",
      "(Pdb) nps.size()\n",
      "torch.Size([96, 10, 6])\n",
      "(Pdb) n\n",
      "> <ipython-input-6-35cb9463ce4a>(69)train_epoch_regional()\n",
      "-> img_part = self.rga_img_mlp(img_part)\n",
      "(Pdb) n\n",
      "> <ipython-input-6-35cb9463ce4a>(71)train_epoch_regional()\n",
      "-> img_part1 = RGA_attend_one_to_many_batch(cap, img_part, self.cfg.dist_fn_opt)\n",
      "(Pdb) img_part.size()\n",
      "torch.Size([96, 6, 1024])\n",
      "(Pdb) q\n"
     ]
    }
   ],
   "source": [
    "from tqdm import tqdm_notebook as tqdm\n",
    "manager.melt_img_layer(num_layer_to_melt=2)\n",
    "if cfg.np:\n",
    "    param_to_optimize = build_graph_optimizer([manager.model, manager.id_cls, manager.rga_img_mlp, manager.rga_cap_mlp]) \n",
    "else:\n",
    "    param_to_optimize = build_graph_optimizer([manager.model, manager.id_cls])  \n",
    "    \n",
    "optimizer = optim.Adam(param_to_optimize, lr=2e-4, weight_decay=1e-5)\n",
    "scheduler = optim.lr_scheduler.StepLR(optimizer, step_size=10)\n",
    "train_epoch = manager.train_epoch_regional if cfg.np else manager.train_epoch_global\n",
    "for epoch in range(15):\n",
    "    train_epoch(train_loader, optimizer, epoch, \"train-stage-2\")\n",
    "    if cfg.np:\n",
    "        cos_acc = evaluator.evaluate(manager.model, manager.rga_img_mlp, manager.rga_cap_mlp)\n",
    "    else:\n",
    "        cos_acc = evaluator.evaluate(manager.model)\n",
    "    logger.log('[cosine   ][global] R@1: %.4f | R@5: %.4f | R@10: %.4f' % (cos_acc['top-1'], cos_acc['top-5'], cos_acc['top-10']))\n",
    "    scheduler.step()"
   ]
  },
  {
   "cell_type": "code",
   "execution_count": null,
   "metadata": {},
   "outputs": [],
   "source": [
    "!nvidia-smi"
   ]
  },
  {
   "cell_type": "code",
   "execution_count": null,
   "metadata": {},
   "outputs": [],
   "source": [
    "if cfg.np:\n",
    "    cos_acc = cos_evaluator.evaluate(manager.model, manager.rga_img_mlp, manager.rga_cap_mlp)\n",
    "else:\n",
    "    cos_acc = cos_evaluator.evaluate(manager.model)\n",
    "logger.log('[cosine   ][global] R@1: %.4f | R@5: %.4f | R@10: %.4f' % (cos_acc['top-1'], cos_acc['top-5'], cos_acc['top-10']))\n"
   ]
  },
  {
   "cell_type": "code",
   "execution_count": null,
   "metadata": {},
   "outputs": [],
   "source": []
  }
 ],
 "metadata": {
  "kernelspec": {
   "display_name": "Python 3",
   "language": "python",
   "name": "python3"
  },
  "language_info": {
   "codemirror_mode": {
    "name": "ipython",
    "version": 3
   },
   "file_extension": ".py",
   "mimetype": "text/x-python",
   "name": "python",
   "nbconvert_exporter": "python",
   "pygments_lexer": "ipython3",
   "version": "3.7.3"
  },
  "toc": {
   "base_numbering": 1,
   "nav_menu": {},
   "number_sections": true,
   "sideBar": true,
   "skip_h1_title": false,
   "title_cell": "Table of Contents",
   "title_sidebar": "Contents",
   "toc_cell": false,
   "toc_position": {},
   "toc_section_display": true,
   "toc_window_display": false
  },
  "varInspector": {
   "cols": {
    "lenName": 16,
    "lenType": 16,
    "lenVar": 40
   },
   "kernels_config": {
    "python": {
     "delete_cmd_postfix": "",
     "delete_cmd_prefix": "del ",
     "library": "var_list.py",
     "varRefreshCmd": "print(var_dic_list())"
    },
    "r": {
     "delete_cmd_postfix": ") ",
     "delete_cmd_prefix": "rm(",
     "library": "var_list.r",
     "varRefreshCmd": "cat(var_dic_list()) "
    }
   },
   "types_to_exclude": [
    "module",
    "function",
    "builtin_function_or_method",
    "instance",
    "_Feature"
   ],
   "window_display": false
  }
 },
 "nbformat": 4,
 "nbformat_minor": 2
}
