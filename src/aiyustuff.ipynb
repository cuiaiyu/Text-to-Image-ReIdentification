{
 "cells": [
  {
   "cell_type": "markdown",
   "metadata": {},
   "source": [
    "# Active FULL Training Code (Basic - Global)"
   ]
  },
  {
   "cell_type": "code",
   "execution_count": 1,
   "metadata": {},
   "outputs": [],
   "source": [
    "from datasets.wider_global_dataset import build_wider_dataloader\n",
    "from datasets.wider_global_test_dataset import build_wider_test_dataloader\n",
    "from models.encoder import Model\n",
    "from evaluators.global_evaluator import GlobalEvaluator\n",
    "from loss.loss import crossmodal_triplet_loss, cos_distance\n",
    "from loggers.logger import Logger\n",
    "from tqdm import tqdm_notebook as tqdm\n",
    "from sklearn.neighbors import DistanceMetric\n",
    "import os\n",
    "\n",
    "import torch.nn as nn\n",
    "import torch.optim as optim\n",
    "\n",
    "from configs.args import load_arg_parser"
   ]
  },
  {
   "cell_type": "markdown",
   "metadata": {},
   "source": [
    "## config"
   ]
  },
  {
   "cell_type": "code",
   "execution_count": 2,
   "metadata": {
    "code_folding": [
     2
    ]
   },
   "outputs": [
    {
     "name": "stdout",
     "output_type": "stream",
     "text": [
      "dist_fn_cosine_imgbb_resnet18_capbb_bigru_embed_size_512_batch_96_lr_0.0001_captype_sent\n"
     ]
    }
   ],
   "source": [
    "parser = load_arg_parser()\n",
    "cfg = parser.parse_args(\"\")\n",
    "cfg.data_root = \"/data/aiyucui2/wider\"\n",
    "root = cfg.data_root\n",
    "\n",
    "# data path\n",
    "cfg.anno_path = os.path.join(root, cfg.anno_path)\n",
    "cfg.img_dir = os.path.join(root, cfg.img_dir)\n",
    "cfg.val_anno_path = os.path.join(root, cfg.val_anno_path)\n",
    "cfg.val_img_dir = os.path.join(root, cfg.val_img_dir)\n",
    "cfg.gt_file_fn = os.path.join(root, cfg.gt_file_fn)\n",
    "\n",
    "# meta data path\n",
    "cfg.cheap_candidate_fn = os.path.join(root, cfg.cheap_candidate_fn)\n",
    "cfg.vocab_path = os.path.join(root, cfg.vocab_path)\n",
    "\n",
    "# sys path\n",
    "cfg.model_path = os.path.join(root, cfg.model_path)\n",
    "cfg.output_path = os.path.join(root, cfg.output_path)\n",
    "\n",
    "\n",
    "cfg.debug = False\n",
    "cfg.embed_size = 512\n",
    "cfg.batch_size = 96\n",
    "cfg.img_backbone_opt = \"resnet18\"\n",
    "cfg.cap_backbone_opt = \"bigru\"\n",
    "cfg.dim = (384,128)\n",
    "cfg.dist_fn_opt = \"cosine\"\n",
    "\n",
    "# exp_name\n",
    "exp_name = \"dist_fn_{}_imgbb_{}_capbb_{}_embed_size_{}_batch_{}_lr_{}_captype_{}\".format(cfg.dist_fn_opt,\n",
    "                                                                       cfg.img_backbone_opt,\n",
    "                                                                       cfg.cap_backbone_opt,\n",
    "                                                                       cfg.embed_size,\n",
    "                                                                       cfg.batch_size,\n",
    "                                                                       cfg.lr,\n",
    "                                                                                        cfg.cap_embed_type)\n",
    "# logger\n",
    "logger = Logger(\"test.txt\")#os.path.join(cfg.output_path, cfg.exp_name+\".txt\"))\n",
    "print(exp_name)"
   ]
  },
  {
   "cell_type": "code",
   "execution_count": null,
   "metadata": {},
   "outputs": [],
   "source": []
  },
  {
   "cell_type": "markdown",
   "metadata": {},
   "source": [
    "## Loading data"
   ]
  },
  {
   "cell_type": "code",
   "execution_count": 3,
   "metadata": {
    "code_folding": [],
    "scrolled": true
   },
   "outputs": [
    {
     "name": "stdout",
     "output_type": "stream",
     "text": [
      "[ds] load annotations from /data/aiyucui2/wider/wider/train/train_anns_train.json\n",
      "size of dataset: 37132\n"
     ]
    }
   ],
   "source": [
    "# train loader\n",
    "train_loader = build_wider_dataloader(anno_path=cfg.anno_path,\n",
    "                                    img_dir=cfg.img_dir,\n",
    "                                    vocab_fn=cfg.vocab_path, \n",
    "                                    dim=cfg.dim,\n",
    "                                    token_length=40,\n",
    "                                    train=True,\n",
    "                                    batch_size=cfg.batch_size,\n",
    "                                    num_workers=8,\n",
    "                                    debug=cfg.debug)\n",
    "\n",
    "# test loader (loading image and text separately)\n",
    "test_text_loader, test_image_loader = build_wider_test_dataloader(anno_path=cfg.val_anno_path,\n",
    "                                                              img_dir=cfg.val_img_dir,\n",
    "                                                              vocab_fn=cfg.vocab_path, \n",
    "                                                              dim=cfg.dim,\n",
    "                                                              batch_size=cfg.batch_size,\n",
    "                                                              num_workers=8,\n",
    "                                                              debug=cfg.debug)"
   ]
  },
  {
   "cell_type": "code",
   "execution_count": 4,
   "metadata": {},
   "outputs": [
    {
     "name": "stdout",
     "output_type": "stream",
     "text": [
      "12003\n"
     ]
    }
   ],
   "source": [
    "print(len(train_loader.dataset.person2label.values()))"
   ]
  },
  {
   "cell_type": "code",
   "execution_count": 5,
   "metadata": {},
   "outputs": [
    {
     "name": "stdout",
     "output_type": "stream",
     "text": [
      "(tensor([  9,  14,   6,   8,   2,  24,   4,  10,  97, 144,  58,   4,  59,  17,\n",
      "          3,  19,  16,  50, 494, 123,  30, 141,   3,   1,   1,   1,   1,   1,\n",
      "          1,   1,   1,   1,   1,   1,   1,   1,   1,   1,   1,   1]), 'train_query/p8848_s17661.jpg')\n",
      "tensor([  9,  14,  40,   2,  66,   4,   5,  12,   3,  19,  40,   5,  17,   4,\n",
      "          5,  13,  11,  30, 112,  25,  30, 446,   3,   1,   1,   1,   1,   1,\n",
      "          1,   1,   1,   1,   1,   1,   1,   1,   1,   1,   1,   1])\n"
     ]
    },
    {
     "name": "stderr",
     "output_type": "stream",
     "text": [
      "Clipping input data to the valid range for imshow with RGB data ([0..1] for floats or [0..255] for integers).\n"
     ]
    },
    {
     "data": {
      "text/plain": [
       "<Figure size 640x480 with 1 Axes>"
      ]
     },
     "metadata": {},
     "output_type": "display_data"
    }
   ],
   "source": [
    "import matplotlib.pyplot as plt\n",
    "import numpy as np\n",
    "import torchvision\n",
    "# functions to show an image\n",
    "print(test_text_loader.dataset[1])\n",
    "print(train_loader.dataset[1][5])\n",
    "def imshow(img):\n",
    "    img = img / 2 + 0.5     # unnormalize\n",
    "    npimg = img.numpy()\n",
    "    plt.imshow(np.transpose(npimg, (1, 2, 0)))\n",
    "    plt.show()\n",
    "dataiter = iter(test_image_loader)\n",
    "images, labels = dataiter.next()\n",
    "\n",
    "# show images\n",
    "imshow(images[0])"
   ]
  },
  {
   "cell_type": "markdown",
   "metadata": {},
   "source": [
    "## Define Model"
   ]
  },
  {
   "cell_type": "code",
   "execution_count": null,
   "metadata": {},
   "outputs": [],
   "source": [
    "\n"
   ]
  },
  {
   "cell_type": "code",
   "execution_count": 6,
   "metadata": {},
   "outputs": [],
   "source": [
    "model = Model(embed_size=cfg.embed_size, \n",
    "              image_opt=cfg.img_backbone_opt, \n",
    "              caption_opt=cfg.cap_backbone_opt).cuda()\n"
   ]
  },
  {
   "cell_type": "markdown",
   "metadata": {},
   "source": [
    "### Distance Metrics"
   ]
  },
  {
   "cell_type": "code",
   "execution_count": 7,
   "metadata": {
    "code_folding": []
   },
   "outputs": [],
   "source": [
    "import torch\n",
    "def triplet_cos_loss(x, pos, neg, margin=0.5):\n",
    "    def cos_dist(x,y):\n",
    "        # import pdb; pdb.set_trace()\n",
    "        return 1 - torch.sum(x*y, 1) / (torch.norm(x, dim=1)*torch.norm(y, dim=1))\n",
    "    pos_dist = cos_dist(x, pos)\n",
    "    neg_dist = cos_dist(x, neg)\n",
    "    scores = torch.clamp(pos_dist - neg_dist + margin, min=0)\n",
    "    return scores.mean()\n",
    "    \n",
    "\n",
    "if cfg.dist_fn_opt == \"euclidean\":\n",
    "    dist_fn = DistanceMetric.get_metric('euclidean').pairwise\n",
    "    triplet_loss = nn.TripletMarginLoss()\n",
    "elif cfg.dist_fn_opt == \"cosine\":\n",
    "    dist_fn = cos_distance\n",
    "    triplet_loss = triplet_cos_loss"
   ]
  },
  {
   "cell_type": "markdown",
   "metadata": {},
   "source": [
    "### Train Misc Setup"
   ]
  },
  {
   "cell_type": "code",
   "execution_count": 8,
   "metadata": {
    "code_folding": [
     12
    ]
   },
   "outputs": [],
   "source": [
    "evaluator = GlobalEvaluator(img_loader=test_image_loader, \n",
    "                          cap_loader=test_text_loader, \n",
    "                          gt_file_path=cfg.gt_file_fn,\n",
    "                          embed_size=cfg.embed_size,\n",
    "                          logger=logger,\n",
    "                          dist_fn=DistanceMetric.get_metric('euclidean').pairwise)\n",
    "cos_evaluator = GlobalEvaluator(img_loader=test_image_loader, \n",
    "                          cap_loader=test_text_loader, \n",
    "                          gt_file_path=cfg.gt_file_fn,\n",
    "                          embed_size=cfg.embed_size,\n",
    "                                logger=logger,\n",
    "                          dist_fn=cos_distance)\n",
    "\n",
    "\n",
    "def build_graph_optimizer(models):\n",
    "    if not isinstance(models, list):\n",
    "        models = [models]\n",
    "    params_to_optimize = []\n",
    "    for model in models:\n",
    "        if model and hasattr(model, '_parameters'):\n",
    "            for param in model.parameters():\n",
    "                if param.requires_grad == True:\n",
    "                    params_to_optimize.append(param)\n",
    "    return params_to_optimize"
   ]
  },
  {
   "cell_type": "code",
   "execution_count": 9,
   "metadata": {
    "code_folding": [
     0
    ]
   },
   "outputs": [],
   "source": [
    "def train_epoch_stage1(train_data, model, classifier, optimizer, cls_loss, note=\"train\"):\n",
    "    model.train()\n",
    "    cum_loss = 0.0\n",
    "    for i, data in tqdm(enumerate(train_data), \"%s, epoch%d\" % (note,epoch)):\n",
    "        # load data\n",
    "        (img,pos_img,neg_img, cap, pos_cap, neg_cap, pid, pos_pid, neg_pid) = data\n",
    "        img, pos_img, neg_img = model(img.cuda()), model(pos_img.cuda()), model(neg_img.cuda())\n",
    "        cap, pos_cap, neg_cap = model(cap.cuda()), model(pos_cap.cuda()), model(neg_cap.cuda())\n",
    "        \n",
    "        # loss\n",
    "        loss = 0.0\n",
    "        loss = loss + cls_loss(classifier(img), pid.cuda()) +  cls_loss(classifier(cap), pid.cuda())\n",
    "        \n",
    "        # backpropagation\n",
    "        optimizer.zero_grad()\n",
    "        loss.backward()\n",
    "        optimizer.step()\n",
    "        cum_loss += loss.item()\n",
    "        \n",
    "        # log\n",
    "        if (i+1) % 64 == 0:\n",
    "            print(\"batch %d, loss %.6f\" % (i, cum_loss/64))\n",
    "            cum_loss = 0.0\n",
    "    return model\n",
    "\n",
    "\n",
    "if False:\n",
    "    # stage 1 - image channel forzen\n",
    "    cls_loss = nn.CrossEntropyLoss()\n",
    "    model.img_backbone.melt_layer(8)\n",
    "    param_to_optimize = build_graph_optimizer([model, classifier])\n",
    "    optimizer = optim.Adam(param_to_optimize, lr=1e-3, weight_decay=1e-5)\n",
    "    scheduler = optim.lr_scheduler.StepLR(optimizer, step_size=20)\n",
    "    for epoch in range(10):\n",
    "        model = train_epoch_stage1(train_loader, model, classifier, optimizer, cls_loss, \"train-stage-1\")\n",
    "        acc = evaluator.evaluate(model)\n",
    "        scheduler.step()\n",
    "    "
   ]
  },
  {
   "cell_type": "code",
   "execution_count": null,
   "metadata": {},
   "outputs": [
    {
     "data": {
      "application/vnd.jupyter.widget-view+json": {
       "model_id": "2926b206b5494a6b8e5dbf9881ab58bc",
       "version_major": 2,
       "version_minor": 0
      },
      "text/plain": [
       "HBox(children=(IntProgress(value=1, bar_style='info', description='train-stage-1, epoch0', max=1, style=Progre…"
      ]
     },
     "metadata": {},
     "output_type": "display_data"
    },
    {
     "name": "stdout",
     "output_type": "stream",
     "text": [
      "batch 63, [tri-loss] 3.843778\n",
      "batch 127, [tri-loss] 2.802946\n",
      "batch 191, [tri-loss] 2.264086\n",
      "batch 255, [tri-loss] 2.021193\n",
      "batch 319, [tri-loss] 1.832306\n",
      "batch 383, [tri-loss] 1.690771\n",
      "\n"
     ]
    },
    {
     "name": "stderr",
     "output_type": "stream",
     "text": [
      "build db global imgs: 33it [00:02, 17.47it/s]\n",
      "build db global caps: 65it [00:05, 11.69it/s]\n"
     ]
    },
    {
     "name": "stdout",
     "output_type": "stream",
     "text": [
      "[euclidean][global] R@1: 0.0036 | R@5: 0.0150 | R@10: 0.0260\n"
     ]
    },
    {
     "name": "stderr",
     "output_type": "stream",
     "text": [
      "build db global imgs: 33it [00:06,  4.74it/s]\n",
      "build db global caps: 50it [00:00, 24.82it/s]"
     ]
    }
   ],
   "source": [
    "def train_epoch(train_data, model, optimizer, triplet_loss, logger, note=\"train\"):\n",
    "    model.train()\n",
    "    cum_tri_loss, cum_id_loss = 0.0, 0.0\n",
    "    for i, data in tqdm(enumerate(train_data), \"%s, epoch%d\" % (note,epoch)):\n",
    "        # load data\n",
    "        (img,pos_img,neg_img, cap, pos_cap, neg_cap, pid, pos_pid, neg_pid) = data\n",
    "        img, pos_img, neg_img = model(img.cuda()), model(pos_img.cuda()), model(neg_img.cuda())\n",
    "        cap, pos_cap, neg_cap = model(cap.cuda()), model(pos_cap.cuda()), model(neg_cap.cuda())\n",
    "        \n",
    "        # loss\n",
    "        tri_loss =  crossmodal_triplet_loss(img,pos_img,neg_img, \n",
    "                                              cap, pos_cap, neg_cap, \n",
    "                                              triplet_loss, cfg.dist_fn_opt)  \n",
    "        loss = tri_loss\n",
    "        \n",
    "        # backpropagation\n",
    "        optimizer.zero_grad()\n",
    "        loss.backward()\n",
    "        optimizer.step()\n",
    "       \n",
    "        \n",
    "        # log\n",
    "        cum_tri_loss += tri_loss.item()\n",
    "        if (i+1) % 64 == 0:\n",
    "            logger.log(\"batch %d, [tri-loss] %.6f\" % (i, cum_tri_loss/64))\n",
    "            cum_tri_loss = 0.0\n",
    "    return model\n",
    "\n",
    "# stage 1 - image channel forzen\n",
    "model.img_backbone.melt_layer(8)\n",
    "param_to_optimize = build_graph_optimizer([model])\n",
    "optimizer = optim.Adam(param_to_optimize, lr=1e-3, weight_decay=1e-5)\n",
    "scheduler = optim.lr_scheduler.StepLR(optimizer, step_size=20)\n",
    "for epoch in range(10):\n",
    "    model = train_epoch(train_loader, model, optimizer, triplet_loss, logger, \"train-stage-1\")\n",
    "    acc = evaluator.evaluate(model)\n",
    "    logger.log('[euclidean][global] R@1: %.4f | R@5: %.4f | R@10: %.4f' % (acc['top-1'], acc['top-5'], acc['top-10']))\n",
    "    acc = cos_evaluator.evaluate(model)\n",
    "    logger.log('[cosine   ][global] R@1: %.4f | R@5: %.4f | R@10: %.4f' % (acc['top-1'], acc['top-5'], acc['top-10']))\n",
    "    scheduler.step()\n",
    "    \n",
    "\n",
    "    \n",
    "# stage 2 - train all\n",
    "model.img_backbone.melt_layer(7)\n",
    "param_to_optimize = build_graph_optimizer([model])\n",
    "optimizer = optim.Adam(param_to_optimize, lr=2e-4, weight_decay=1e-5)\n",
    "scheduler = optim.lr_scheduler.StepLR(optimizer, step_size=20)\n",
    "for epoch in range(60):\n",
    "    model = train_epoch(train_loader, model, optimizer, triplet_loss, logger, \"train-stage-2\")\n",
    "    acc = evaluator.evaluate(model)\n",
    "    logger.log('[euclidean][global] R@1: %.4f | R@5: %.4f | R@10: %.4f' % (acc['top-1'], acc['top-5'], acc['top-10']))\n",
    "    acc = cos_evaluator.evaluate(model)\n",
    "    logger.log('[cosine   ][global] R@1: %.4f | R@5: %.4f | R@10: %.4f' % (acc['top-1'], acc['top-5'], acc['top-10']))\n",
    "    \n",
    "    scheduler.step()"
   ]
  },
  {
   "cell_type": "code",
   "execution_count": null,
   "metadata": {},
   "outputs": [],
   "source": []
  }
 ],
 "metadata": {
  "kernelspec": {
   "display_name": "Python 3",
   "language": "python",
   "name": "python3"
  },
  "language_info": {
   "codemirror_mode": {
    "name": "ipython",
    "version": 3
   },
   "file_extension": ".py",
   "mimetype": "text/x-python",
   "name": "python",
   "nbconvert_exporter": "python",
   "pygments_lexer": "ipython3",
   "version": "3.7.3"
  },
  "toc": {
   "base_numbering": 1,
   "nav_menu": {},
   "number_sections": true,
   "sideBar": true,
   "skip_h1_title": false,
   "title_cell": "Table of Contents",
   "title_sidebar": "Contents",
   "toc_cell": false,
   "toc_position": {},
   "toc_section_display": true,
   "toc_window_display": false
  },
  "varInspector": {
   "cols": {
    "lenName": 16,
    "lenType": 16,
    "lenVar": 40
   },
   "kernels_config": {
    "python": {
     "delete_cmd_postfix": "",
     "delete_cmd_prefix": "del ",
     "library": "var_list.py",
     "varRefreshCmd": "print(var_dic_list())"
    },
    "r": {
     "delete_cmd_postfix": ") ",
     "delete_cmd_prefix": "rm(",
     "library": "var_list.r",
     "varRefreshCmd": "cat(var_dic_list()) "
    }
   },
   "types_to_exclude": [
    "module",
    "function",
    "builtin_function_or_method",
    "instance",
    "_Feature"
   ],
   "window_display": false
  }
 },
 "nbformat": 4,
 "nbformat_minor": 2
}
