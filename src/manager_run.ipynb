{
 "cells": [
  {
   "cell_type": "code",
   "execution_count": 1,
   "metadata": {},
   "outputs": [],
   "source": [
    "from datasets.wider_global_dataset_new import build_wider_dataloader\n",
    "from datasets.text_test_datasets import build_text_test_loader\n",
    "from datasets.image_test_datasets import build_image_test_loader\n",
    "from models.encoder import Model, MLP\n",
    "from evaluators.global_evaluator import GlobalEvaluator\n",
    "from evaluators.np_evaluator import NPEvaluator\n",
    "from loss.loss import crossmodal_triplet_loss, cos_distance, triplet_cos_loss\n",
    "from loggers.logger import Logger\n",
    "from manager import build_graph_optimizer\n",
    "from tqdm import tqdm_notebook as tqdm\n",
    "from sklearn.neighbors import DistanceMetric\n",
    "\n",
    "from attentions.rga_attention import RGA_attend_one_to_many_batch, RGA_attend_one_to_many\n",
    "import os\n",
    "\n",
    "import torch.nn as nn\n",
    "import torch.optim as optim\n",
    "\n",
    "from configs.args import load_arg_parser"
   ]
  },
  {
   "cell_type": "code",
   "execution_count": 2,
   "metadata": {},
   "outputs": [
    {
     "name": "stdout",
     "output_type": "stream",
     "text": [
      "debug\n"
     ]
    }
   ],
   "source": [
    "parser = load_arg_parser()\n",
    "cfg = parser.parse_args(\"\")\n",
    "cfg.data_root = \"/data/aiyucui2/wider\"\n",
    "root = cfg.data_root\n",
    "\n",
    "# data path\n",
    "cfg.anno_path = os.path.join(root, cfg.anno_path)\n",
    "cfg.img_dir = os.path.join(root, cfg.img_dir)\n",
    "cfg.val_anno_path = os.path.join(root, cfg.val_anno_path)\n",
    "cfg.val_img_dir = os.path.join(root, cfg.val_img_dir)\n",
    "cfg.gt_file_fn = os.path.join(root, cfg.gt_file_fn)\n",
    "\n",
    "# meta data path\n",
    "cfg.cheap_candidate_fn = os.path.join(root, cfg.cheap_candidate_fn)\n",
    "cfg.vocab_path = os.path.join(root, cfg.vocab_path)\n",
    "#os.environ[\"CUDA_VISIBLE_DEVICES\"] = \"2,3\"\n",
    "# sys path\n",
    "cfg.model_path = os.path.join(root, cfg.model_path)\n",
    "cfg.output_path = os.path.join(root, cfg.output_path)\n",
    "ckpt_root = \"/shared/rsaas/aiyucui2/wider_person/checkpoints/initialized\" #\"/shared/rsaas/aiyucui2/wider_person/checkpoints/reID\"\n",
    "load_exp_name = \"dist_fn_cosine_imgbb_resnet18_capbb_bigru_embed_size_512_batch_96_lr_0.0001_captype_sent_img_meltlayer_8_cos_margin_0.2_np_False\"\n",
    "cfg.load_ckpt_fn = os.path.join(ckpt_root, \"resnet18_bigru_512_match_initialized.pt\")\n",
    "cfg.debug = False\n",
    "cfg.embed_size = 512\n",
    "cfg.batch_size = 96\n",
    "cfg.img_backbone_opt = \"resnet18\"\n",
    "cfg.num_gpus = 1\n",
    "cfg.cap_backbone_opt = \"bigru\"\n",
    "cfg.dim = (384,128)\n",
    "cfg.dist_fn_opt = \"cosine\"\n",
    "cfg.np = False\n",
    "cfg.img_num_cut = 6\n",
    "cfg.img_num_cut = 1 if not cfg.np else cfg.img_num_cut\n",
    "\n",
    "cfg.cap_embed_type='sent'\n",
    "# exp_name\n",
    "cfg.exp_name = \"dist_fn_{}_imgbb_{}_capbb_{}_embed_size_{}_batch_{}_lr_{}_captype_{}\".format(cfg.dist_fn_opt,\n",
    "                                                                       cfg.img_backbone_opt,\n",
    "                                                                       cfg.cap_backbone_opt,\n",
    "                                                                       cfg.embed_size,\n",
    "                                                                       cfg.batch_size,\n",
    "                                                                       cfg.lr,\n",
    "                                                                                         cfg.cap_embed_type)\n",
    "cfg.exp_name = 'debug'\n",
    "cfg.model_path = os.path.join(\"/shared/rsaas/aiyucui2/wider_person\", cfg.model_path, cfg.exp_name)\n",
    "cfg.output_path = os.path.join(\"/shared/rsaas/aiyucui2/wider_person\", cfg.output_path, cfg.exp_name)\n",
    "\n",
    "if not os.path.exists(cfg.model_path):\n",
    "    os.mkdir(cfg.model_path)\n",
    "if not os.path.exists(cfg.output_path):\n",
    "    os.mkdir(cfg.output_path)\n",
    "# logger\n",
    "logger = Logger(\"test.txt\") #os.path.join(cfg.output_path, cfg.exp_name+\".txt\"))\n",
    "print(cfg.exp_name)"
   ]
  },
  {
   "cell_type": "code",
   "execution_count": 3,
   "metadata": {},
   "outputs": [
    {
     "name": "stdout",
     "output_type": "stream",
     "text": [
      "[ds] load annotations from /data/aiyucui2/wider/wider/train/train_anns_train.json\n",
      "size of dataset: 74264\n"
     ]
    }
   ],
   "source": [
    "# train loader\n",
    "train_loader = build_wider_dataloader(cfg)\n",
    "cfg.num_ids = len(train_loader.dataset.person2label.values())\n",
    "# test loader (loading image and text separately)\n",
    "test_text_loader = build_text_test_loader(cfg) \n",
    "test_image_loader = build_image_test_loader(cfg) \n",
    "\n",
    "# Evaluator\n",
    "Evaluator = NPEvaluator if cfg.np else GlobalEvaluator\n",
    "\n",
    "evaluator = Evaluator(img_loader=test_image_loader, \n",
    "                          cap_loader=test_text_loader, \n",
    "                          gt_file_path=cfg.gt_file_fn,\n",
    "                          embed_size=cfg.embed_size,\n",
    "                          logger=logger,\n",
    "                          dist_fn_opt=\"euclidean\")\n",
    "cos_evaluator = Evaluator(img_loader=test_image_loader, \n",
    "                          cap_loader=test_text_loader, \n",
    "                          gt_file_path=cfg.gt_file_fn,\n",
    "                          embed_size=cfg.embed_size,\n",
    "                          logger=logger,\n",
    "                          dist_fn_opt=\"cosine\")"
   ]
  },
  {
   "cell_type": "code",
   "execution_count": 4,
   "metadata": {},
   "outputs": [
    {
     "data": {
      "text/plain": [
       "1"
      ]
     },
     "execution_count": 4,
     "metadata": {},
     "output_type": "execute_result"
    }
   ],
   "source": [
    "#ckpt_path = \"/shared/rsaas/aiyucui2/wider_person/checkpoints/reID/resnet18_bigru_512/resnet18_bigru_512_id_initalized.pt\"\n",
    "#ckpt = torch.load(ckpt_path)\n",
    "cfg.num_gpus"
   ]
  },
  {
   "cell_type": "code",
   "execution_count": 10,
   "metadata": {
    "code_folding": [
     101,
     117,
     134,
     182
    ]
   },
   "outputs": [],
   "source": [
    "from tqdm import tqdm\n",
    "import torch\n",
    "import torch.nn as nn\n",
    "import torch.optim as optim \n",
    "import os\n",
    "\n",
    "import torch.nn.functional as F\n",
    "from models.encoder import Model, MLP\n",
    "from loss.loss import triplet_cos_loss, crossmodal_triplet_loss\n",
    "\n",
    "from attentions.rga_attention import RGA_attend_one_to_many_batch, RGA_attend_one_to_many\n",
    "\n",
    "        \n",
    "def regional_alignment_text(fulls, parts, p2fs, dist_fn_opt):\n",
    "    start_index = 0\n",
    "    aligned = []\n",
    "    for i, jump in enumerate(p2fs):\n",
    "        curr_parts = parts[start_index:start_index + jump]\n",
    "        start_index += jump\n",
    "        curr_full = fulls[i:i+1]\n",
    "        aligned.append(RGA_attend_one_to_many(curr_full, curr_parts, dist_fn_opt))\n",
    "    return torch.cat(aligned)\n",
    "\n",
    "def regional_alignment_image(fulls, parts, dist_fn_opt):\n",
    "    return RGA_attend_one_to_many_batch(fulls, parts, dist_fn_opt)\n",
    "  \n",
    "    \n",
    "class Manager:\n",
    "    def __init__(self, args, logger):\n",
    "        self.log = logger.log\n",
    "        self.cfg = args\n",
    "        self._init_models()\n",
    "        self._init_criterion()\n",
    "    \n",
    "    def _init_criterion(self):\n",
    "        if self.cfg.dist_fn_opt == \"cosine\":\n",
    "            self.triplet_loss = triplet_cos_loss\n",
    "        elif self.cfg.dist_fn_opt == \"euclidean\":\n",
    "            self.triplet_loss = nn.TripletMarginLoss()\n",
    "        self.cls_loss = nn.CrossEntropyLoss()\n",
    "        self.log(\"[Trainer][init] criterion initialized.\")\n",
    "\n",
    "    def _init_models(self):\n",
    "        # encoder\n",
    "        self.model = Model(embed_size=self.cfg.embed_size, \n",
    "                          image_opt=self.cfg.img_backbone_opt, \n",
    "                          caption_opt=self.cfg.cap_backbone_opt,\n",
    "                          cap_embed_type=self.cfg.cap_embed_type,\n",
    "                          img_num_cut=self.cfg.img_num_cut,\n",
    "                          regional_embed_size=self.cfg.regional_embed_size).cuda()\n",
    "        # id classifer\n",
    "        self.id_cls = nn.Linear(self.cfg.embed_size, self.cfg.num_ids).cuda()\n",
    "        # RGA image mlp\n",
    "        self.rga_img_mlp = MLP(self.cfg.regional_embed_size, self.cfg.embed_size).cuda()\n",
    "        # RGA text mlp\n",
    "        self.rga_cap_mlp = MLP(self.cfg.embed_size, self.cfg.embed_size).cuda()\n",
    "        # gpu\n",
    "        self.all_models = {\n",
    "            \"model\": self.model,\n",
    "            \"id_cls\": self.id_cls, \n",
    "            \"rga_img_mlp\": self.rga_img_mlp,\n",
    "            \"rga_cap_mlp\": self.rga_cap_mlp,\n",
    "        }\n",
    "        print(self.cfg.num_gpus)\n",
    "        if self.cfg.num_gpus > 1:\n",
    "            print('here')\n",
    "            for name in self.all_models.keys():\n",
    "                print('data parallel')\n",
    "                self.all_models[name] = nn.DataParallel(self.all_models[name])\n",
    "        # load ckpt\n",
    "        self.reset_ckpt()\n",
    "        \n",
    "        \n",
    "        self.log(\"[Trainer][init] model initialized.\")\n",
    "\n",
    "    def reset_ckpt(self):\n",
    "        self.start_epoch = 0\n",
    "        self.acc_history = []\n",
    "        self.best_acc = ({'top-1':0, 'top-1': 0, 'top-1': 0}, self.start_epoch)\n",
    "        if self.cfg.load_ckpt_fn == \"0\":\n",
    "            self.log(\"[Trainer][init] initialize fresh model.\")\n",
    "            return\n",
    "        ckpt = torch.load(self.cfg.load_ckpt_fn)\n",
    "        self.start_epoch = ckpt[\"epoch\"] + 1\n",
    "        self.acc_history = ckpt[\"acc_history\"]\n",
    "        for name, network in self.all_models.items():\n",
    "            if name in ckpt:\n",
    "                network.load_state_dict(ckpt[name], strict=False)\n",
    "                self.log(\"[Trainer][init] load pre-trained %s from %s.\" % (name, self.cfg.load_ckpt_fn))\n",
    "\n",
    "              \n",
    "    def save_ckpt(self, epoch, acc, fn):\n",
    "        # update acc history \n",
    "        self.acc_history.append((acc, epoch))\n",
    "        if acc['top-1'] > self.best_acc[0]['top-1']:\n",
    "            self.best_acc = (acc, epoch)\n",
    "        # ckpt \n",
    "        ckpt = {\n",
    "            \"epoch\": epoch,\n",
    "            \"acc_history\": self.acc_history,\n",
    "            \"best_acc\": self.best_acc,\n",
    "            }\n",
    "        for name, network in self.all_models.items():\n",
    "            ckpt[name] = network.module.state_dict() if isinstance(network, nn.DataParallel) else network.state_dict()\n",
    "\n",
    "        path = os.path.join(self.cfg.model_path, fn)\n",
    "        torch.save(ckpt, path)\n",
    "            \n",
    "    def todevice(self, batch):\n",
    "        ret = []\n",
    "        for arg in batch:\n",
    "            if isinstance(arg, torch.Tensor):\n",
    "                arg = arg.cuda()\n",
    "            ret.append(arg)\n",
    "        return tuple(ret)\n",
    "    \n",
    "    def melt_img_layer(self, num_layer_to_melt=1):\n",
    "        if isinstance(self.model, nn.DataParallel):\n",
    "            self.model.module.img_backbone.melt_layer(8 - num_layer_to_melt)\n",
    "        else:\n",
    "            self.model.img_backbone.melt_layer(8 - num_layer_to_melt)\n",
    "     \n",
    "    def train_epoch_global(self, train_data, optimizer, epoch, note=\"train\"):\n",
    "        self.model.train()\n",
    "        cum_tri_loss, cum_id_loss = 0.0, 0.0\n",
    "        for i, data in tqdm(enumerate(train_data), \"%s, epoch%d\" % (note, epoch)):\n",
    "            # load data\n",
    "            data = self.todevice(data)\n",
    "            img, cap, pid = data\n",
    "            \n",
    "            # encode\n",
    "            #img, pos_img, neg_img = self.model(img), self.model(pos_img), self.model(neg_img)\n",
    "            #cap, pos_cap, neg_cap = self.model(cap), self.model(pos_cap), self.model(neg_cap)\n",
    "            img, cap = self.model(img), self.model(cap)\n",
    "\n",
    "\n",
    "            # loss\n",
    "            tri_loss = triplet_cos_loss(img, cap, pid)\n",
    "            id_loss = self.cls_loss(self.id_cls(img), pid) + self.cls_loss(self.id_cls(cap), pid)\n",
    "            loss = tri_loss + id_loss\n",
    "\n",
    "            # backpropagation\n",
    "            optimizer.zero_grad(); loss.backward(); optimizer.step()\n",
    "            # log\n",
    "            cum_tri_loss += tri_loss.item()\n",
    "            cum_id_loss += id_loss.item()\n",
    "            if (i+1) % self.cfg.print_freq == 0:\n",
    "                out_string = \"[ep-%d, bs-%d] \" % (epoch, i)\n",
    "                out_string += \"[tri-loss] %.6f, \" % (cum_tri_loss / self.cfg.print_freq)\n",
    "                out_string += \"[id-loss] %.6f, \" % (cum_id_loss / self.cfg.print_freq)\n",
    "                self.log(out_string)\n",
    "                cum_tri_loss, cum_id_loss = 0.0, 0.0\n",
    "                \n",
    "    def train_epoch_regional(self, train_data, optimizer, epoch, note=\"train\"):\n",
    "        self.model.train(); self.rga_img_mlp.train(); self.rga_cap_mlp.train()\n",
    "\n",
    "        cum_tri_loss, cum_tri_image_regional_loss, cum_tri_text_regional_loss, cum_id_loss = 0.0, 0.0, 0.0, 0.0\n",
    "        for i, data in tqdm(enumerate(train_data), \"%s, epoch%d\" % (note,epoch)):\n",
    "            # load data\n",
    "            data = self.todevice(data)\n",
    "            (img, pos_img, neg_img, \n",
    "             cap, pos_cap, neg_cap,\n",
    "             nps, pos_nps, neg_nps,\n",
    "             n2c, pos_n2c, neg_n2c,\n",
    "             pid, pos_pid, neg_pid) = data\n",
    "\n",
    "\n",
    "            img, img_part = self.model(img)\n",
    "            pos_img, pos_img_part = self.model(pos_img)\n",
    "            neg_img, neg_img_part = self.model(neg_img)\n",
    "            cap, pos_cap, neg_cap = self.model(cap), self.model(pos_cap), self.model(neg_cap)\n",
    "            \n",
    "            # N, M, T = nps.size()\n",
    "            nps = self.rga_cap_mlp(self.model(nps))\n",
    "            pos_nps = self.rga_cap_mlp(self.model(pos_nps))\n",
    "            neg_nps = self.rga_cap_mlp(self.model(neg_nps))\n",
    "            #nps = self.rga_cap_mlp(self.model(nps.reshape(-1, T))).reshape(N, M, -1)\n",
    "            #pos_nps = self.rga_cap_mlp(self.model(pos_nps.reshape(-1, T))).reshape(N, M, -1)\n",
    "            #neg_nps = self.rga_cap_mlp(self.model(neg_nps.reshape(-1, T))).reshape(N, M, -1)\n",
    "            \n",
    "            # part\n",
    "            img_part = self.rga_img_mlp(img_part)\n",
    "            pos_img_part = self.rga_img_mlp(pos_img_part)\n",
    "            neg_img_part = self.rga_img_mlp(neg_img_part)\n",
    "\n",
    "            img_part = RGA_attend_one_to_many_batch(cap, img_part, self.cfg.dist_fn_opt)\n",
    "            pos_img_part = RGA_attend_one_to_many_batch(pos_cap, pos_img_part, self.cfg.dist_fn_opt)\n",
    "            neg_img_part = RGA_attend_one_to_many_batch(neg_cap, neg_img_part, self.cfg.dist_fn_opt)\n",
    "            cap_part = regional_alignment_text(img, nps, n2c, self.cfg.dist_fn_opt)\n",
    "            pos_cap_part = regional_alignment_text(pos_img, pos_nps, pos_n2c, self.cfg.dist_fn_opt)\n",
    "            neg_cap_part = regional_alignment_text(neg_img, neg_nps, neg_n2c, self.cfg.dist_fn_opt)\n",
    "            #cap_part = RGA_attend_one_to_many_batch(img, nps, self.cfg.dist_fn_opt)\n",
    "            #pos_cap_part = RGA_attend_one_to_many_batch(pos_img, pos_nps, self.cfg.dist_fn_opt)\n",
    "            #neg_cap_part = RGA_attend_one_to_many_batch(neg_img, neg_nps, self.cfg.dist_fn_opt)\n",
    "\n",
    "            # loss\n",
    "            tri_loss =  crossmodal_triplet_loss(img,pos_img,neg_img, \n",
    "                                                  cap, pos_cap, neg_cap, \n",
    "                                                  self.triplet_loss, self.cfg.dist_fn_opt) \n",
    "            tri_image_regional_loss =  crossmodal_triplet_loss(img_part,pos_img_part,neg_img_part, \n",
    "                                                  cap, pos_cap, neg_cap, \n",
    "                                                  self.triplet_loss, self.cfg.dist_fn_opt) \n",
    "            tri_text_regional_loss =  crossmodal_triplet_loss(img,pos_img,neg_img, \n",
    "                                                  cap_part, pos_cap_part, neg_cap_part, \n",
    "                                                  self.triplet_loss, self.cfg.dist_fn_opt) \n",
    "            id_loss = self.cls_loss(self.id_cls(img), pid) +  self.cls_loss(self.id_cls(cap), pid)\n",
    "\n",
    "\n",
    "            loss = tri_loss + tri_image_regional_loss  + tri_text_regional_loss + id_loss\n",
    "\n",
    "            # backpropagation\n",
    "            optimizer.zero_grad()\n",
    "            loss.backward()\n",
    "            optimizer.step()\n",
    "\n",
    "\n",
    "            # log\n",
    "            cum_tri_loss += tri_loss.item()\n",
    "            cum_tri_image_regional_loss += tri_image_regional_loss.item()\n",
    "            cum_tri_text_regional_loss += tri_text_regional_loss.item()\n",
    "            cum_id_loss += id_loss.item()\n",
    "            \n",
    "            if (i+1) % self.cfg.print_freq == 0:\n",
    "                out_string = \"[ep-%d, bs-%d] \" % (epoch, i)\n",
    "                out_string += \"[id-loss] %.6f, \" % (cum_id_loss / self.cfg.print_freq)\n",
    "                out_string += \"[tri-loss] %.6f, \" % (cum_tri_loss / self.cfg.print_freq)\n",
    "                out_string += \"[img_rga] %.6f, \" %  (cum_tri_image_regional_loss / self.cfg.print_freq)\n",
    "                out_string += \"[cap_rga] %.6f \" % (cum_tri_text_regional_loss / self.cfg.print_freq)\n",
    "                self.log(out_string)\n",
    "                cum_tri_loss, cum_tri_image_regional_loss, cum_tri_text_regional_loss, cum_id_loss = 0.0, 0.0, 0.0, 0.0       \n",
    "    def train_epoch_id(self, train_data, optimizer, epoch, note=\"train\"):\n",
    "        self.model.train()\n",
    "        self.id_cls.train()\n",
    "        cum_loss = 0.0\n",
    "        for i, data in tqdm(enumerate(train_data), \"%s, epoch%d\" % (note,epoch)):\n",
    "            # load data\n",
    "            data = self.todevice(data)\n",
    "            (img, cap, pid) = data\n",
    "            img = self.model(img)\n",
    "            cap = self.model(cap)\n",
    "\n",
    "            # loss\n",
    "            loss = 0.0\n",
    "            loss = loss + self.cls_loss(self.id_cls(img), pid) +  self.cls_loss(self.id_cls(cap), pid)\n",
    "            cum_loss += loss.item()\n",
    "            \n",
    "            # backpropagation\n",
    "            optimizer.zero_grad()\n",
    "            loss.backward()\n",
    "            optimizer.step()\n",
    "            \n",
    "\n",
    "            # log\n",
    "            if (i+1) % self.cfg.print_freq == 0:\n",
    "                self.log(\"ep-%d, bs-%d, [id-loss] %.6f\" % (epoch, i, cum_loss / self.cfg.print_freq))\n",
    "                cum_loss = 0.0"
   ]
  },
  {
   "cell_type": "code",
   "execution_count": 11,
   "metadata": {
    "code_folding": []
   },
   "outputs": [
    {
     "name": "stdout",
     "output_type": "stream",
     "text": [
      "1\n",
      "[Trainer][init] load pre-trained model from /shared/rsaas/aiyucui2/wider_person/checkpoints/initialized/resnet18_bigru_512_match_initialized.pt.\n",
      "[Trainer][init] load pre-trained id_cls from /shared/rsaas/aiyucui2/wider_person/checkpoints/initialized/resnet18_bigru_512_match_initialized.pt.\n",
      "[Trainer][init] load pre-trained rga_img_mlp from /shared/rsaas/aiyucui2/wider_person/checkpoints/initialized/resnet18_bigru_512_match_initialized.pt.\n",
      "[Trainer][init] load pre-trained rga_cap_mlp from /shared/rsaas/aiyucui2/wider_person/checkpoints/initialized/resnet18_bigru_512_match_initialized.pt.\n",
      "[Trainer][init] model initialized.\n",
      "[Trainer][init] criterion initialized.\n"
     ]
    }
   ],
   "source": [
    "manager = Manager(cfg, logger)"
   ]
  },
  {
   "cell_type": "code",
   "execution_count": 14,
   "metadata": {},
   "outputs": [
    {
     "name": "stderr",
     "output_type": "stream",
     "text": [
      "\n",
      "build db global imgs: 0it [00:00, ?it/s]\u001b[A\n",
      "build db global imgs: 1it [00:00,  1.61it/s]\u001b[A\n",
      "build db global imgs: 2it [00:00,  2.02it/s]\u001b[A\n",
      "build db global imgs: 4it [00:00,  2.71it/s]\u001b[A\n",
      "build db global imgs: 6it [00:01,  3.62it/s]\u001b[A\n",
      "build db global imgs: 8it [00:01,  4.79it/s]\u001b[A\n",
      "build db global imgs: 10it [00:01,  6.15it/s]\u001b[A\n",
      "build db global imgs: 12it [00:01,  7.47it/s]\u001b[A\n",
      "build db global imgs: 14it [00:01,  8.86it/s]\u001b[A\n",
      "build db global imgs: 16it [00:01, 10.21it/s]\u001b[A\n",
      "build db global imgs: 19it [00:01, 12.01it/s]\u001b[A\n",
      "build db global imgs: 21it [00:01, 13.24it/s]\u001b[A\n",
      "build db global imgs: 24it [00:02, 14.89it/s]\u001b[A\n",
      "build db global imgs: 27it [00:02, 16.29it/s]\u001b[A\n",
      "build db global imgs: 30it [00:02, 17.57it/s]\u001b[A\n",
      "build db global imgs: 33it [00:02, 18.77it/s]\u001b[A\n",
      "build db global caps: 0it [00:00, ?it/s]\u001b[A\n",
      "build db global caps: 1it [00:00,  6.58it/s]\u001b[A\n",
      "build db global caps: 14it [00:00,  9.20it/s]\u001b[A\n",
      "build db global caps: 29it [00:00, 12.80it/s]\u001b[A\n",
      "build db global caps: 45it [00:00, 17.67it/s]\u001b[A\n",
      "build db global caps: 64it [00:00, 24.25it/s]\u001b[A\n",
      "build db global caps: 65it [00:05, 11.56it/s]\u001b[A"
     ]
    },
    {
     "name": "stdout",
     "output_type": "stream",
     "text": [
      "[cosine   ][global] R@1: 0.3910 | R@5: 0.6418 | R@10: 0.7355\n"
     ]
    }
   ],
   "source": [
    "if True:\n",
    "    if cfg.np:\n",
    "        acc = cos_evaluator.evaluate(manager.model, manager.rga_img_mlp, manager.rga_cap_mlp)\n",
    "    else:\n",
    "        acc = cos_evaluator.evaluate(manager.model)\n",
    "    logger.log('[cosine   ][global] R@1: %.4f | R@5: %.4f | R@10: %.4f' % (acc['top-1'], acc['top-5'], acc['top-10']))\n"
   ]
  },
  {
   "cell_type": "markdown",
   "metadata": {},
   "source": [
    "## Stage 1: ID Loss only"
   ]
  },
  {
   "cell_type": "code",
   "execution_count": 8,
   "metadata": {
    "code_folding": [
     1
    ]
   },
   "outputs": [],
   "source": [
    "\n",
    "if False:\n",
    "    logger.log(\"======== [Stage 1] ============\")\n",
    "    manager.melt_img_layer(num_layer_to_melt=1)\n",
    "    param_to_optimize = build_graph_optimizer([manager.model, manager.id_cls])\n",
    "    optimizer = optim.Adam(param_to_optimize, lr=1e-3)\n",
    "    scheduler = optim.lr_scheduler.StepLR(optimizer, step_size=10)\n",
    "    \n",
    "    for epoch in range(0):\n",
    "        manager.train_epoch_id(train_loader, optimizer, epoch, \"train-stage-1\")\n",
    "        acc = evaluator.evaluate(manager.model)\n",
    "        logger.log('[euclidean][global] R@1: %.4f | R@5: %.4f | R@10: %.4f' % (acc['top-1'], acc['top-5'], acc['top-10']))\n",
    "        acc = cos_evaluator.evaluate(manager.model)\n",
    "        logger.log('[cosine   ][global] R@1: %.4f | R@5: %.4f | R@10: %.4f' % (acc['top-1'], acc['top-5'], acc['top-10']))\n",
    "        scheduler.step()\n",
    "        manager.save_ckpt(epoch, acc, 'stage_1_id_last.pt')\n",
    "    manager.save_ckpt(epoch, acc, 'id_initialized.pt')\n"
   ]
  },
  {
   "cell_type": "markdown",
   "metadata": {},
   "source": [
    "## Stage 2: Matching + ID Loss"
   ]
  },
  {
   "cell_type": "code",
   "execution_count": 15,
   "metadata": {},
   "outputs": [
    {
     "data": {
      "application/vnd.jupyter.widget-view+json": {
       "model_id": "44e7a21d12ea4b6a875b8fa926cc7b97",
       "version_major": 2,
       "version_minor": 0
      },
      "text/plain": [
       "HBox(children=(IntProgress(value=1, bar_style='info', description='train-stage-2, epoch0', max=1, style=Progre…"
      ]
     },
     "metadata": {},
     "output_type": "display_data"
    },
    {
     "name": "stdout",
     "output_type": "stream",
     "text": [
      "[ep-0, bs-49] [tri-loss] 0.162344, [id-loss] 3.616422, \n",
      "[ep-0, bs-99] [tri-loss] 0.177356, [id-loss] 5.424442, \n",
      "[ep-0, bs-149] [tri-loss] 0.201314, [id-loss] 6.068118, \n",
      "[ep-0, bs-199] [tri-loss] 0.194129, [id-loss] 6.311744, \n",
      "[ep-0, bs-249] [tri-loss] 0.193401, [id-loss] 6.121080, \n",
      "[ep-0, bs-299] [tri-loss] 0.197741, [id-loss] 5.810260, \n",
      "[ep-0, bs-349] [tri-loss] 0.194180, [id-loss] 5.522797, \n",
      "[ep-0, bs-399] [tri-loss] 0.182322, [id-loss] 5.375436, \n",
      "[ep-0, bs-449] [tri-loss] 0.183560, [id-loss] 5.054340, \n",
      "[ep-0, bs-499] [tri-loss] 0.182816, [id-loss] 5.006310, \n",
      "[ep-0, bs-549] [tri-loss] 0.189250, [id-loss] 4.644267, \n",
      "[ep-0, bs-599] [tri-loss] 0.183038, [id-loss] 4.634500, \n",
      "[ep-0, bs-649] [tri-loss] 0.183607, [id-loss] 4.465513, \n",
      "[ep-0, bs-699] [tri-loss] 0.182451, [id-loss] 4.417586, \n",
      "[ep-0, bs-749] [tri-loss] 0.180647, [id-loss] 4.260442, \n"
     ]
    },
    {
     "name": "stderr",
     "output_type": "stream",
     "text": [
      "\n",
      "build db global imgs: 0it [00:00, ?it/s]\u001b[A\n",
      "build db global imgs: 1it [00:00,  1.30it/s]\u001b[A\n",
      "build db global imgs: 3it [00:00,  1.81it/s]\u001b[A\n",
      "build db global imgs: 5it [00:00,  2.47it/s]\u001b[A\n",
      "build db global imgs: 7it [00:01,  3.34it/s]\u001b[A\n",
      "build db global imgs: 9it [00:01,  4.40it/s]\u001b[A\n",
      "build db global imgs: 11it [00:01,  5.68it/s]\u001b[A\n",
      "build db global imgs: 13it [00:01,  7.12it/s]\u001b[A\n",
      "build db global imgs: 15it [00:01,  8.66it/s]\u001b[A\n",
      "build db global imgs: 17it [00:01, 10.27it/s]\u001b[A\n",
      "build db global imgs: 19it [00:01, 11.42it/s]\u001b[A\n",
      "build db global imgs: 22it [00:01, 13.42it/s]\u001b[A\n",
      "build db global imgs: 25it [00:02, 15.01it/s]\u001b[A\n",
      "build db global imgs: 28it [00:02, 16.30it/s]\u001b[A\n",
      "build db global imgs: 31it [00:02, 17.26it/s]\u001b[A\n",
      "build db global imgs: 33it [00:07,  4.71it/s]\u001b[A\n",
      "build db global caps: 0it [00:00, ?it/s]\u001b[A\n",
      "build db global caps: 1it [00:00,  8.66it/s]\u001b[A\n",
      "build db global caps: 7it [00:00, 11.43it/s]\u001b[A\n",
      "build db global caps: 23it [00:00, 15.84it/s]\u001b[A\n",
      "build db global caps: 38it [00:00, 21.61it/s]\u001b[A\n",
      "build db global caps: 51it [00:00, 28.80it/s]\u001b[A\n",
      "build db global caps: 65it [00:05, 11.49it/s]\u001b[A\n",
      "build db global imgs: 0it [00:00, ?it/s]\u001b[A\n",
      "build db global imgs: 1it [00:00,  1.52it/s]\u001b[A\n",
      "build db global imgs: 3it [00:00,  2.04it/s]\u001b[A\n",
      "build db global imgs: 5it [00:00,  2.77it/s]\u001b[A\n",
      "build db global imgs: 7it [00:01,  3.67it/s]\u001b[A\n",
      "build db global imgs: 10it [00:01,  4.86it/s]\u001b[A\n",
      "build db global imgs: 12it [00:01,  6.06it/s]\u001b[A\n",
      "build db global imgs: 14it [00:01,  7.28it/s]\u001b[A\n",
      "build db global imgs: 16it [00:01,  8.88it/s]\u001b[A\n",
      "build db global imgs: 18it [00:01, 10.62it/s]\u001b[A\n",
      "build db global imgs: 20it [00:01, 11.72it/s]\u001b[A\n",
      "build db global imgs: 23it [00:02, 13.41it/s]\u001b[A\n",
      "build db global imgs: 26it [00:02, 14.95it/s]\u001b[A\n",
      "build db global imgs: 29it [00:02, 16.36it/s]\u001b[A\n",
      "build db global imgs: 32it [00:02, 17.35it/s]\u001b[A\n",
      "build db global imgs: 33it [00:07,  4.66it/s]\u001b[A\n",
      "build db global caps: 0it [00:00, ?it/s]\u001b[A\n",
      "build db global caps: 1it [00:00,  6.30it/s]\u001b[A\n",
      "build db global caps: 17it [00:00,  8.85it/s]\u001b[A\n",
      "build db global caps: 29it [00:00, 12.16it/s]\u001b[A\n",
      "build db global caps: 46it [00:00, 16.86it/s]\u001b[A\n",
      "build db global caps: 64it [00:00, 23.12it/s]\u001b[A\n",
      "build db global caps: 65it [00:05, 11.52it/s]\u001b[A"
     ]
    },
    {
     "name": "stdout",
     "output_type": "stream",
     "text": [
      "[euclidean][global] R@1: 0.3169 | R@5: 0.5608 | R@10: 0.6669\n",
      "[cosine   ][global] R@1: 0.3881 | R@5: 0.6311 | R@10: 0.7271\n"
     ]
    },
    {
     "data": {
      "application/vnd.jupyter.widget-view+json": {
       "model_id": "5dd910b140754fc8a54c41d33472d285",
       "version_major": 2,
       "version_minor": 0
      },
      "text/plain": [
       "HBox(children=(IntProgress(value=1, bar_style='info', description='train-stage-2, epoch1', max=1, style=Progre…"
      ]
     },
     "metadata": {},
     "output_type": "display_data"
    },
    {
     "name": "stdout",
     "output_type": "stream",
     "text": [
      "[ep-1, bs-49] [tri-loss] 0.141492, [id-loss] 3.034552, \n",
      "[ep-1, bs-99] [tri-loss] 0.145947, [id-loss] 3.126549, \n",
      "[ep-1, bs-149] [tri-loss] 0.145547, [id-loss] 3.195612, \n",
      "[ep-1, bs-199] [tri-loss] 0.154682, [id-loss] 3.256456, \n",
      "[ep-1, bs-249] [tri-loss] 0.150297, [id-loss] 3.265904, \n",
      "[ep-1, bs-299] [tri-loss] 0.148756, [id-loss] 3.338955, \n",
      "[ep-1, bs-349] [tri-loss] 0.155277, [id-loss] 3.391064, \n",
      "[ep-1, bs-399] [tri-loss] 0.149029, [id-loss] 3.388000, \n",
      "[ep-1, bs-449] [tri-loss] 0.158131, [id-loss] 3.387330, \n",
      "[ep-1, bs-499] [tri-loss] 0.157327, [id-loss] 3.450862, \n",
      "[ep-1, bs-549] [tri-loss] 0.162094, [id-loss] 3.409548, \n",
      "[ep-1, bs-599] [tri-loss] 0.156192, [id-loss] 3.438409, \n",
      "[ep-1, bs-649] [tri-loss] 0.165403, [id-loss] 3.472240, \n",
      "[ep-1, bs-699] [tri-loss] 0.162495, [id-loss] 3.450916, \n",
      "[ep-1, bs-749] [tri-loss] 0.169969, [id-loss] 3.497372, \n"
     ]
    },
    {
     "name": "stderr",
     "output_type": "stream",
     "text": [
      "\n",
      "build db global imgs: 0it [00:00, ?it/s]\u001b[A\n",
      "build db global imgs: 1it [00:00,  1.42it/s]\u001b[A\n",
      "build db global imgs: 4it [00:00,  1.98it/s]\u001b[A\n",
      "build db global imgs: 6it [00:00,  2.67it/s]\u001b[A\n",
      "build db global imgs: 8it [00:01,  3.56it/s]\u001b[A\n",
      "build db global imgs: 10it [00:01,  4.59it/s]\u001b[A\n",
      "build db global imgs: 12it [00:01,  5.87it/s]\u001b[A\n",
      "build db global imgs: 14it [00:01,  7.24it/s]\u001b[A\n",
      "build db global imgs: 16it [00:01,  8.55it/s]\u001b[A\n",
      "build db global imgs: 18it [00:01, 10.14it/s]\u001b[A\n",
      "build db global imgs: 20it [00:01, 11.62it/s]\u001b[A\n",
      "build db global imgs: 23it [00:01, 13.35it/s]\u001b[A\n",
      "build db global imgs: 26it [00:02, 14.88it/s]\u001b[A\n",
      "build db global imgs: 29it [00:02, 16.16it/s]\u001b[A\n",
      "build db global imgs: 32it [00:02, 17.32it/s]\u001b[A\n",
      "build db global imgs: 33it [00:06,  4.72it/s]\u001b[A\n",
      "build db global caps: 0it [00:00, ?it/s]\u001b[A\n",
      "build db global caps: 1it [00:00,  8.39it/s]\u001b[A\n",
      "build db global caps: 7it [00:00, 11.26it/s]\u001b[A\n",
      "build db global caps: 24it [00:00, 15.50it/s]\u001b[A\n",
      "build db global caps: 34it [00:00, 20.61it/s]\u001b[A\n",
      "build db global caps: 46it [00:00, 26.92it/s]\u001b[A\n",
      "build db global caps: 65it [00:00, 36.18it/s]\u001b[A\n",
      "build db global imgs: 0it [00:00, ?it/s]\u001b[A\n",
      "build db global imgs: 1it [00:00,  1.28it/s]\u001b[A\n",
      "build db global imgs: 3it [00:00,  1.76it/s]\u001b[A\n",
      "build db global imgs: 5it [00:01,  2.41it/s]\u001b[A\n",
      "build db global imgs: 7it [00:01,  3.22it/s]\u001b[A\n",
      "build db global imgs: 9it [00:01,  4.26it/s]\u001b[A\n",
      "build db global imgs: 11it [00:01,  5.49it/s]\u001b[A\n",
      "build db global imgs: 13it [00:01,  6.73it/s]\u001b[A\n",
      "build db global imgs: 15it [00:01,  7.86it/s]\u001b[A\n",
      "build db global imgs: 18it [00:01,  9.73it/s]\u001b[A\n",
      "build db global imgs: 20it [00:01, 11.04it/s]\u001b[A\n",
      "build db global imgs: 23it [00:02, 12.79it/s]\u001b[A\n",
      "build db global imgs: 25it [00:02, 14.33it/s]\u001b[A\n",
      "build db global imgs: 28it [00:02, 15.64it/s]\u001b[A\n",
      "build db global imgs: 31it [00:02, 16.98it/s]\u001b[A\n",
      "build db global imgs: 33it [00:07,  4.64it/s]\u001b[A\n",
      "build db global caps: 0it [00:00, ?it/s]\u001b[A\n",
      "build db global caps: 1it [00:00,  8.21it/s]\u001b[A\n",
      "build db global caps: 11it [00:00, 11.31it/s]\u001b[A\n",
      "build db global caps: 25it [00:00, 15.62it/s]\u001b[A\n",
      "build db global caps: 43it [00:00, 21.50it/s]\u001b[A\n",
      "build db global caps: 60it [00:00, 29.09it/s]\u001b[A\n",
      "build db global caps: 65it [00:05, 11.58it/s]\u001b[A"
     ]
    },
    {
     "name": "stdout",
     "output_type": "stream",
     "text": [
      "[euclidean][global] R@1: 0.3159 | R@5: 0.5664 | R@10: 0.6701\n",
      "[cosine   ][global] R@1: 0.3858 | R@5: 0.6340 | R@10: 0.7323\n"
     ]
    },
    {
     "data": {
      "application/vnd.jupyter.widget-view+json": {
       "model_id": "a47a5870fc2b4e8d8ae7edf8899af863",
       "version_major": 2,
       "version_minor": 0
      },
      "text/plain": [
       "HBox(children=(IntProgress(value=1, bar_style='info', description='train-stage-2, epoch2', max=1, style=Progre…"
      ]
     },
     "metadata": {},
     "output_type": "display_data"
    },
    {
     "name": "stdout",
     "output_type": "stream",
     "text": [
      "[ep-2, bs-49] [tri-loss] 0.126685, [id-loss] 2.405273, \n",
      "[ep-2, bs-99] [tri-loss] 0.127638, [id-loss] 2.423263, \n",
      "[ep-2, bs-149] [tri-loss] 0.130779, [id-loss] 2.491007, \n",
      "[ep-2, bs-199] [tri-loss] 0.133270, [id-loss] 2.617677, \n",
      "[ep-2, bs-249] [tri-loss] 0.133542, [id-loss] 2.658873, \n",
      "[ep-2, bs-299] [tri-loss] 0.132718, [id-loss] 2.719702, \n",
      "[ep-2, bs-349] [tri-loss] 0.139409, [id-loss] 2.745205, \n",
      "[ep-2, bs-399] [tri-loss] 0.141893, [id-loss] 2.832949, \n",
      "[ep-2, bs-449] [tri-loss] 0.142670, [id-loss] 2.857247, \n",
      "[ep-2, bs-499] [tri-loss] 0.146348, [id-loss] 2.851669, \n",
      "[ep-2, bs-549] [tri-loss] 0.151712, [id-loss] 2.947575, \n",
      "[ep-2, bs-599] [tri-loss] 0.147945, [id-loss] 2.947833, \n",
      "[ep-2, bs-649] [tri-loss] 0.151888, [id-loss] 3.023990, \n",
      "[ep-2, bs-699] [tri-loss] 0.157244, [id-loss] 3.020391, \n",
      "[ep-2, bs-749] [tri-loss] 0.151876, [id-loss] 3.051090, \n"
     ]
    },
    {
     "name": "stderr",
     "output_type": "stream",
     "text": [
      "\n",
      "build db global imgs: 0it [00:00, ?it/s]\u001b[A\n",
      "build db global imgs: 1it [00:00,  1.15it/s]\u001b[A\n",
      "build db global imgs: 4it [00:01,  1.60it/s]\u001b[A\n",
      "build db global imgs: 6it [00:01,  2.20it/s]\u001b[A\n",
      "build db global imgs: 8it [00:01,  2.97it/s]\u001b[A\n",
      "build db global imgs: 11it [00:01,  4.00it/s]\u001b[A\n",
      "build db global imgs: 13it [00:01,  5.20it/s]\u001b[A\n",
      "build db global imgs: 15it [00:01,  6.63it/s]\u001b[A\n",
      "build db global imgs: 17it [00:01,  8.01it/s]\u001b[A\n",
      "build db global imgs: 19it [00:01,  9.58it/s]\u001b[A\n",
      "build db global imgs: 22it [00:02, 11.42it/s]\u001b[A\n",
      "build db global imgs: 25it [00:02, 13.14it/s]\u001b[A\n",
      "build db global imgs: 28it [00:02, 14.69it/s]\u001b[A\n",
      "build db global imgs: 31it [00:02, 15.99it/s]\u001b[A\n",
      "build db global imgs: 33it [00:07,  4.68it/s]\u001b[A\n",
      "build db global caps: 0it [00:00, ?it/s]\u001b[A\n",
      "build db global caps: 1it [00:00,  8.09it/s]\u001b[A\n",
      "build db global caps: 8it [00:00, 11.00it/s]\u001b[A\n",
      "build db global caps: 20it [00:00, 15.11it/s]\u001b[A\n",
      "build db global caps: 33it [00:00, 20.50it/s]\u001b[A\n",
      "build db global caps: 45it [00:00, 27.29it/s]\u001b[A\n",
      "build db global caps: 65it [00:05, 11.39it/s]\u001b[A\n",
      "build db global imgs: 0it [00:00, ?it/s]\u001b[A\n",
      "build db global imgs: 1it [00:00,  1.39it/s]\u001b[A\n",
      "build db global imgs: 3it [00:00,  1.92it/s]\u001b[A\n",
      "build db global imgs: 6it [00:01,  2.62it/s]\u001b[A\n",
      "build db global imgs: 8it [00:01,  3.48it/s]\u001b[A\n",
      "build db global imgs: 11it [00:01,  4.63it/s]\u001b[A\n",
      "build db global imgs: 14it [00:01,  6.01it/s]\u001b[A\n",
      "build db global imgs: 16it [00:01,  7.47it/s]\u001b[A\n",
      "build db global imgs: 18it [00:01,  9.12it/s]\u001b[A\n",
      "build db global imgs: 20it [00:01, 10.25it/s]\u001b[A\n",
      "build db global imgs: 23it [00:01, 12.09it/s]\u001b[A\n",
      "build db global imgs: 25it [00:02, 13.71it/s]\u001b[A\n",
      "build db global imgs: 28it [00:02, 15.24it/s]\u001b[A\n",
      "build db global imgs: 31it [00:02, 16.47it/s]\u001b[A\n",
      "build db global imgs: 33it [00:06,  4.73it/s]\u001b[A\n",
      "build db global caps: 0it [00:00, ?it/s]\u001b[A\n",
      "build db global caps: 1it [00:00,  8.31it/s]\u001b[A\n",
      "build db global caps: 13it [00:00, 11.47it/s]\u001b[A\n",
      "build db global caps: 30it [00:00, 15.84it/s]\u001b[A\n",
      "build db global caps: 47it [00:00, 21.72it/s]\u001b[A\n",
      "build db global caps: 65it [00:05, 11.56it/s]\u001b[A"
     ]
    },
    {
     "name": "stdout",
     "output_type": "stream",
     "text": [
      "[euclidean][global] R@1: 0.2980 | R@5: 0.5452 | R@10: 0.6545\n",
      "[cosine   ][global] R@1: 0.3842 | R@5: 0.6272 | R@10: 0.7228\n"
     ]
    },
    {
     "data": {
      "application/vnd.jupyter.widget-view+json": {
       "model_id": "10638a42b4c94d1485e93498f4220004",
       "version_major": 2,
       "version_minor": 0
      },
      "text/plain": [
       "HBox(children=(IntProgress(value=1, bar_style='info', description='train-stage-2, epoch3', max=1, style=Progre…"
      ]
     },
     "metadata": {},
     "output_type": "display_data"
    },
    {
     "name": "stdout",
     "output_type": "stream",
     "text": [
      "[ep-3, bs-49] [tri-loss] 0.121867, [id-loss] 1.987584, \n",
      "[ep-3, bs-99] [tri-loss] 0.123197, [id-loss] 2.061232, \n",
      "[ep-3, bs-149] [tri-loss] 0.119406, [id-loss] 2.104157, \n",
      "[ep-3, bs-199] [tri-loss] 0.124004, [id-loss] 2.177290, \n",
      "[ep-3, bs-249] [tri-loss] 0.120587, [id-loss] 2.225805, \n",
      "[ep-3, bs-299] [tri-loss] 0.127344, [id-loss] 2.268924, \n",
      "[ep-3, bs-349] [tri-loss] 0.120605, [id-loss] 2.325395, \n",
      "[ep-3, bs-399] [tri-loss] 0.143713, [id-loss] 2.423023, \n",
      "[ep-3, bs-449] [tri-loss] 0.135697, [id-loss] 2.453393, \n",
      "[ep-3, bs-499] [tri-loss] 0.132398, [id-loss] 2.533354, \n",
      "[ep-3, bs-549] [tri-loss] 0.133798, [id-loss] 2.576068, \n",
      "[ep-3, bs-599] [tri-loss] 0.141406, [id-loss] 2.630400, \n",
      "[ep-3, bs-649] [tri-loss] 0.140354, [id-loss] 2.650338, \n",
      "[ep-3, bs-699] [tri-loss] 0.145769, [id-loss] 2.658266, \n",
      "[ep-3, bs-749] [tri-loss] 0.138043, [id-loss] 2.652180, \n"
     ]
    },
    {
     "name": "stderr",
     "output_type": "stream",
     "text": [
      "\n",
      "build db global imgs: 0it [00:00, ?it/s]\u001b[A\n",
      "build db global imgs: 1it [00:00,  1.72it/s]\u001b[A\n",
      "build db global imgs: 3it [00:00,  2.36it/s]\u001b[A\n",
      "build db global imgs: 5it [00:00,  3.17it/s]\u001b[A\n",
      "build db global imgs: 7it [00:00,  4.20it/s]\u001b[A\n",
      "build db global imgs: 9it [00:01,  5.42it/s]\u001b[A\n",
      "build db global imgs: 11it [00:01,  6.66it/s]\u001b[A\n",
      "build db global imgs: 13it [00:01,  8.27it/s]\u001b[A\n",
      "build db global imgs: 15it [00:01,  9.77it/s]\u001b[A\n",
      "build db global imgs: 17it [00:01, 10.64it/s]\u001b[A\n",
      "build db global imgs: 19it [00:01, 11.61it/s]\u001b[A\n",
      "build db global imgs: 22it [00:01, 13.39it/s]\u001b[A\n",
      "build db global imgs: 24it [00:01, 14.77it/s]\u001b[A\n",
      "build db global imgs: 26it [00:02, 15.92it/s]\u001b[A\n",
      "build db global imgs: 28it [00:02, 16.95it/s]\u001b[A\n",
      "build db global imgs: 30it [00:02, 17.75it/s]\u001b[A\n",
      "build db global imgs: 33it [00:02, 18.72it/s]\u001b[A\n",
      "build db global caps: 0it [00:00, ?it/s]\u001b[A\n",
      "build db global caps: 1it [00:00,  8.09it/s]\u001b[A\n",
      "build db global caps: 4it [00:00, 10.34it/s]\u001b[A\n",
      "build db global caps: 17it [00:00, 14.27it/s]\u001b[A\n",
      "build db global caps: 32it [00:00, 19.51it/s]\u001b[A\n",
      "build db global caps: 50it [00:00, 26.60it/s]\u001b[A\n",
      "build db global caps: 65it [00:05, 11.46it/s]\u001b[A\n",
      "build db global imgs: 0it [00:00, ?it/s]\u001b[A\n",
      "build db global imgs: 1it [00:00,  1.62it/s]\u001b[A\n",
      "build db global imgs: 3it [00:00,  2.14it/s]\u001b[A\n",
      "build db global imgs: 5it [00:00,  2.91it/s]\u001b[A\n",
      "build db global imgs: 7it [00:01,  3.91it/s]\u001b[A\n",
      "build db global imgs: 9it [00:01,  5.12it/s]\u001b[A\n",
      "build db global imgs: 11it [00:01,  6.34it/s]\u001b[A\n",
      "build db global imgs: 13it [00:01,  7.84it/s]\u001b[A\n",
      "build db global imgs: 15it [00:01,  9.28it/s]\u001b[A\n",
      "build db global imgs: 17it [00:01, 10.63it/s]\u001b[A\n",
      "build db global imgs: 19it [00:01, 11.86it/s]\u001b[A\n",
      "build db global imgs: 21it [00:01, 12.62it/s]\u001b[A\n",
      "build db global imgs: 24it [00:02, 14.60it/s]\u001b[A\n",
      "build db global imgs: 26it [00:02, 15.87it/s]\u001b[A\n",
      "build db global imgs: 28it [00:02, 16.88it/s]\u001b[A\n",
      "build db global imgs: 31it [00:02, 17.72it/s]\u001b[A\n",
      "build db global imgs: 33it [00:07,  4.65it/s]\u001b[A\n",
      "build db global caps: 0it [00:00, ?it/s]\u001b[A\n",
      "build db global caps: 1it [00:00,  8.53it/s]\u001b[A\n",
      "build db global caps: 4it [00:00, 10.82it/s]\u001b[A\n",
      "build db global caps: 20it [00:00, 15.02it/s]\u001b[A\n",
      "build db global caps: 26it [00:00, 18.48it/s]\u001b[A\n",
      "build db global caps: 43it [00:00, 25.19it/s]\u001b[A\n",
      "build db global caps: 64it [00:00, 34.21it/s]\u001b[A\n",
      "build db global caps: 65it [00:05, 11.29it/s]\u001b[A"
     ]
    },
    {
     "name": "stdout",
     "output_type": "stream",
     "text": [
      "[euclidean][global] R@1: 0.2915 | R@5: 0.5260 | R@10: 0.6383\n",
      "[cosine   ][global] R@1: 0.3806 | R@5: 0.6223 | R@10: 0.7254\n"
     ]
    },
    {
     "data": {
      "application/vnd.jupyter.widget-view+json": {
       "model_id": "2f37f771300b4350874ff495e021337e",
       "version_major": 2,
       "version_minor": 0
      },
      "text/plain": [
       "HBox(children=(IntProgress(value=1, bar_style='info', description='train-stage-2, epoch4', max=1, style=Progre…"
      ]
     },
     "metadata": {},
     "output_type": "display_data"
    },
    {
     "name": "stdout",
     "output_type": "stream",
     "text": [
      "[ep-4, bs-49] [tri-loss] 0.113628, [id-loss] 1.655687, \n",
      "[ep-4, bs-99] [tri-loss] 0.117390, [id-loss] 1.724285, \n",
      "[ep-4, bs-149] [tri-loss] 0.115572, [id-loss] 1.844067, \n",
      "[ep-4, bs-199] [tri-loss] 0.114893, [id-loss] 1.826750, \n",
      "[ep-4, bs-249] [tri-loss] 0.118258, [id-loss] 1.880397, \n",
      "[ep-4, bs-299] [tri-loss] 0.128860, [id-loss] 2.044930, \n",
      "[ep-4, bs-349] [tri-loss] 0.126208, [id-loss] 2.105779, \n",
      "[ep-4, bs-399] [tri-loss] 0.124110, [id-loss] 2.096010, \n",
      "[ep-4, bs-449] [tri-loss] 0.126908, [id-loss] 2.135827, \n",
      "[ep-4, bs-499] [tri-loss] 0.135503, [id-loss] 2.180165, \n",
      "[ep-4, bs-549] [tri-loss] 0.130606, [id-loss] 2.249030, \n",
      "[ep-4, bs-599] [tri-loss] 0.127487, [id-loss] 2.275245, \n",
      "[ep-4, bs-649] [tri-loss] 0.134555, [id-loss] 2.297141, \n",
      "[ep-4, bs-699] [tri-loss] 0.133643, [id-loss] 2.346067, \n",
      "[ep-4, bs-749] [tri-loss] 0.136422, [id-loss] 2.331097, \n"
     ]
    },
    {
     "name": "stderr",
     "output_type": "stream",
     "text": [
      "\n",
      "build db global imgs: 0it [00:00, ?it/s]\u001b[A\n",
      "build db global imgs: 1it [00:00,  1.21it/s]\u001b[A\n",
      "build db global imgs: 4it [00:00,  1.69it/s]\u001b[A\n",
      "build db global imgs: 6it [00:01,  2.33it/s]\u001b[A\n",
      "build db global imgs: 9it [00:01,  3.17it/s]\u001b[A\n",
      "build db global imgs: 11it [00:01,  4.19it/s]\u001b[A\n",
      "build db global imgs: 13it [00:01,  5.47it/s]\u001b[A\n",
      "build db global imgs: 15it [00:01,  6.78it/s]\u001b[A\n",
      "build db global imgs: 18it [00:01,  8.55it/s]\u001b[A\n",
      "build db global imgs: 20it [00:01, 10.09it/s]\u001b[A\n",
      "build db global imgs: 23it [00:01, 11.90it/s]\u001b[A\n",
      "build db global imgs: 25it [00:02, 13.52it/s]\u001b[A\n",
      "build db global imgs: 27it [00:02, 14.94it/s]\u001b[A\n",
      "build db global imgs: 30it [00:02, 16.16it/s]\u001b[A\n",
      "build db global imgs: 32it [00:02, 17.09it/s]\u001b[A\n",
      "build db global imgs: 33it [00:06,  4.75it/s]\u001b[A\n",
      "build db global caps: 0it [00:00, ?it/s]\u001b[A\n",
      "build db global caps: 1it [00:00,  6.29it/s]\u001b[A\n",
      "build db global caps: 19it [00:00,  8.82it/s]\u001b[A\n",
      "build db global caps: 30it [00:00, 12.15it/s]\u001b[A\n",
      "build db global caps: 48it [00:00, 16.86it/s]\u001b[A\n",
      "build db global caps: 65it [00:05, 11.53it/s]\u001b[A\n",
      "build db global imgs: 0it [00:00, ?it/s]\u001b[A\n",
      "build db global imgs: 1it [00:00,  1.77it/s]\u001b[A\n",
      "build db global imgs: 4it [00:00,  2.45it/s]\u001b[A\n",
      "build db global imgs: 6it [00:00,  3.32it/s]\u001b[A\n",
      "build db global imgs: 8it [00:00,  4.40it/s]\u001b[A\n",
      "build db global imgs: 10it [00:01,  5.63it/s]\u001b[A\n",
      "build db global imgs: 12it [00:01,  7.09it/s]\u001b[A\n",
      "build db global imgs: 14it [00:01,  8.41it/s]\u001b[A\n",
      "build db global imgs: 16it [00:01, 10.08it/s]\u001b[A\n",
      "build db global imgs: 18it [00:01, 11.77it/s]\u001b[A\n",
      "build db global imgs: 20it [00:01, 13.35it/s]\u001b[A\n",
      "build db global imgs: 22it [00:01, 14.40it/s]\u001b[A\n",
      "build db global imgs: 25it [00:01, 15.81it/s]\u001b[A\n",
      "build db global imgs: 28it [00:02, 16.96it/s]\u001b[A\n",
      "build db global imgs: 31it [00:02, 18.01it/s]\u001b[A\n",
      "build db global imgs: 33it [00:06,  4.78it/s]\u001b[A\n",
      "build db global caps: 0it [00:00, ?it/s]\u001b[A\n",
      "build db global caps: 1it [00:00,  6.30it/s]\u001b[A\n",
      "build db global caps: 8it [00:00,  8.65it/s]\u001b[A\n",
      "build db global caps: 21it [00:00, 11.96it/s]\u001b[A\n",
      "build db global caps: 30it [00:00, 16.03it/s]\u001b[A\n",
      "build db global caps: 46it [00:00, 21.87it/s]\u001b[A\n",
      "build db global caps: 65it [00:05, 11.30it/s]\u001b[A"
     ]
    },
    {
     "name": "stdout",
     "output_type": "stream",
     "text": [
      "[euclidean][global] R@1: 0.2892 | R@5: 0.5260 | R@10: 0.6298\n",
      "[cosine   ][global] R@1: 0.3910 | R@5: 0.6272 | R@10: 0.7160\n"
     ]
    },
    {
     "data": {
      "application/vnd.jupyter.widget-view+json": {
       "model_id": "0924e59ffc674c9a94272f88dc4ef935",
       "version_major": 2,
       "version_minor": 0
      },
      "text/plain": [
       "HBox(children=(IntProgress(value=1, bar_style='info', description='train-stage-2, epoch5', max=1, style=Progre…"
      ]
     },
     "metadata": {},
     "output_type": "display_data"
    },
    {
     "name": "stdout",
     "output_type": "stream",
     "text": [
      "[ep-5, bs-49] [tri-loss] 0.107548, [id-loss] 1.411885, \n",
      "[ep-5, bs-99] [tri-loss] 0.103328, [id-loss] 1.315415, \n",
      "[ep-5, bs-149] [tri-loss] 0.098290, [id-loss] 1.308456, \n",
      "[ep-5, bs-199] [tri-loss] 0.093910, [id-loss] 1.260318, \n",
      "[ep-5, bs-249] [tri-loss] 0.095190, [id-loss] 1.233652, \n",
      "[ep-5, bs-299] [tri-loss] 0.094158, [id-loss] 1.216988, \n",
      "[ep-5, bs-349] [tri-loss] 0.093696, [id-loss] 1.195290, \n",
      "[ep-5, bs-399] [tri-loss] 0.090441, [id-loss] 1.162971, \n",
      "[ep-5, bs-449] [tri-loss] 0.090072, [id-loss] 1.168806, \n",
      "[ep-5, bs-499] [tri-loss] 0.095242, [id-loss] 1.141417, \n",
      "[ep-5, bs-549] [tri-loss] 0.091477, [id-loss] 1.129582, \n",
      "[ep-5, bs-599] [tri-loss] 0.091730, [id-loss] 1.145275, \n",
      "[ep-5, bs-649] [tri-loss] 0.087487, [id-loss] 1.134144, \n",
      "[ep-5, bs-699] [tri-loss] 0.092387, [id-loss] 1.120992, \n",
      "[ep-5, bs-749] [tri-loss] 0.085889, [id-loss] 1.127919, \n"
     ]
    },
    {
     "name": "stderr",
     "output_type": "stream",
     "text": [
      "\n",
      "build db global imgs: 0it [00:00, ?it/s]\u001b[A\n",
      "build db global imgs: 1it [00:00,  1.28it/s]\u001b[A\n",
      "build db global imgs: 3it [00:00,  1.77it/s]\u001b[A\n",
      "build db global imgs: 5it [00:01,  2.42it/s]\u001b[A\n",
      "build db global imgs: 7it [00:01,  3.19it/s]\u001b[A\n",
      "build db global imgs: 10it [00:01,  4.29it/s]\u001b[A\n",
      "build db global imgs: 12it [00:01,  5.54it/s]\u001b[A\n",
      "build db global imgs: 14it [00:01,  6.96it/s]\u001b[A\n",
      "build db global imgs: 16it [00:01,  8.29it/s]\u001b[A\n",
      "build db global imgs: 18it [00:01,  9.76it/s]\u001b[A\n",
      "build db global imgs: 20it [00:01, 10.88it/s]\u001b[A\n",
      "build db global imgs: 23it [00:02, 12.86it/s]\u001b[A\n",
      "build db global imgs: 25it [00:02, 14.39it/s]\u001b[A\n",
      "build db global imgs: 28it [00:02, 15.77it/s]\u001b[A\n",
      "build db global imgs: 30it [00:02, 16.74it/s]\u001b[A\n",
      "build db global imgs: 33it [00:02, 17.93it/s]\u001b[A\n",
      "build db global caps: 0it [00:00, ?it/s]\u001b[A\n",
      "build db global caps: 1it [00:00,  7.20it/s]\u001b[A\n",
      "build db global caps: 5it [00:00,  9.39it/s]\u001b[A\n",
      "build db global caps: 22it [00:00, 12.96it/s]\u001b[A\n",
      "build db global caps: 30it [00:00, 17.31it/s]\u001b[A\n",
      "build db global caps: 41it [00:00, 23.14it/s]\u001b[A\n",
      "build db global caps: 57it [00:00, 31.09it/s]\u001b[A\n",
      "build db global caps: 65it [00:05, 11.22it/s]\u001b[A\n",
      "build db global imgs: 0it [00:00, ?it/s]\u001b[A\n",
      "build db global imgs: 1it [00:01,  1.00s/it]\u001b[A\n",
      "build db global imgs: 3it [00:01,  1.39it/s]\u001b[A\n",
      "build db global imgs: 5it [00:01,  1.92it/s]\u001b[A\n",
      "build db global imgs: 7it [00:01,  2.63it/s]\u001b[A\n",
      "build db global imgs: 9it [00:01,  3.54it/s]\u001b[A\n",
      "build db global imgs: 11it [00:01,  4.62it/s]\u001b[A\n",
      "build db global imgs: 13it [00:01,  6.00it/s]\u001b[A\n",
      "build db global imgs: 15it [00:01,  7.47it/s]\u001b[A\n",
      "build db global imgs: 17it [00:01,  8.86it/s]\u001b[A\n",
      "build db global imgs: 20it [00:02, 10.64it/s]\u001b[A\n",
      "build db global imgs: 23it [00:02, 12.41it/s]\u001b[A\n",
      "build db global imgs: 26it [00:02, 14.01it/s]\u001b[A\n",
      "build db global imgs: 28it [00:02, 15.37it/s]\u001b[A\n",
      "build db global imgs: 30it [00:02, 16.50it/s]\u001b[A\n",
      "build db global imgs: 32it [00:02, 17.22it/s]\u001b[A\n",
      "build db global imgs: 33it [00:07,  4.58it/s]\u001b[A\n",
      "build db global caps: 0it [00:00, ?it/s]\u001b[A\n",
      "build db global caps: 1it [00:00,  6.81it/s]\u001b[A\n",
      "build db global caps: 18it [00:00,  9.56it/s]\u001b[A\n",
      "build db global caps: 32it [00:00, 13.19it/s]\u001b[A\n",
      "build db global caps: 44it [00:00, 17.99it/s]\u001b[A\n",
      "build db global caps: 64it [00:00, 24.72it/s]\u001b[A\n",
      "build db global caps: 65it [00:05, 11.56it/s]\u001b[A"
     ]
    },
    {
     "name": "stdout",
     "output_type": "stream",
     "text": [
      "[euclidean][global] R@1: 0.3191 | R@5: 0.5560 | R@10: 0.6571\n",
      "[cosine   ][global] R@1: 0.3995 | R@5: 0.6379 | R@10: 0.7284\n"
     ]
    },
    {
     "data": {
      "application/vnd.jupyter.widget-view+json": {
       "model_id": "a8a347249b11417cae93519686fdd4b8",
       "version_major": 2,
       "version_minor": 0
      },
      "text/plain": [
       "HBox(children=(IntProgress(value=1, bar_style='info', description='train-stage-2, epoch6', max=1, style=Progre…"
      ]
     },
     "metadata": {},
     "output_type": "display_data"
    },
    {
     "name": "stdout",
     "output_type": "stream",
     "text": [
      "[ep-6, bs-49] [tri-loss] 0.087590, [id-loss] 0.949804, \n",
      "[ep-6, bs-99] [tri-loss] 0.086209, [id-loss] 0.991704, \n",
      "[ep-6, bs-149] [tri-loss] 0.084570, [id-loss] 0.919595, \n",
      "[ep-6, bs-199] [tri-loss] 0.079648, [id-loss] 0.945855, \n",
      "[ep-6, bs-249] [tri-loss] 0.083709, [id-loss] 0.988440, \n",
      "[ep-6, bs-299] [tri-loss] 0.083108, [id-loss] 0.954406, \n",
      "[ep-6, bs-349] [tri-loss] 0.083195, [id-loss] 0.964982, \n",
      "[ep-6, bs-399] [tri-loss] 0.086121, [id-loss] 1.006287, \n",
      "[ep-6, bs-449] [tri-loss] 0.085460, [id-loss] 0.963422, \n",
      "[ep-6, bs-499] [tri-loss] 0.083928, [id-loss] 0.970792, \n",
      "[ep-6, bs-549] [tri-loss] 0.081578, [id-loss] 0.992091, \n",
      "[ep-6, bs-599] [tri-loss] 0.084736, [id-loss] 0.995792, \n",
      "[ep-6, bs-649] [tri-loss] 0.084343, [id-loss] 0.997732, \n",
      "[ep-6, bs-699] [tri-loss] 0.081137, [id-loss] 1.004852, \n",
      "[ep-6, bs-749] [tri-loss] 0.080978, [id-loss] 0.997953, \n"
     ]
    },
    {
     "name": "stderr",
     "output_type": "stream",
     "text": [
      "\n",
      "build db global imgs: 0it [00:00, ?it/s]\u001b[A\n",
      "build db global imgs: 1it [00:00,  1.28it/s]\u001b[A\n",
      "build db global imgs: 4it [00:00,  1.78it/s]\u001b[A\n",
      "build db global imgs: 6it [00:01,  2.43it/s]\u001b[A\n",
      "build db global imgs: 8it [00:01,  3.30it/s]\u001b[A\n",
      "build db global imgs: 10it [00:01,  4.32it/s]\u001b[A\n",
      "build db global imgs: 12it [00:01,  5.62it/s]\u001b[A\n",
      "build db global imgs: 14it [00:01,  7.08it/s]\u001b[A\n",
      "build db global imgs: 16it [00:01,  8.67it/s]\u001b[A\n",
      "build db global imgs: 19it [00:01, 10.44it/s]\u001b[A\n",
      "build db global imgs: 21it [00:01, 12.04it/s]\u001b[A\n",
      "build db global imgs: 24it [00:02, 13.68it/s]\u001b[A\n",
      "build db global imgs: 27it [00:02, 15.12it/s]\u001b[A\n",
      "build db global imgs: 30it [00:02, 16.48it/s]\u001b[A\n",
      "build db global imgs: 32it [00:02, 17.36it/s]\u001b[A\n",
      "build db global imgs: 33it [00:06,  4.72it/s]\u001b[A\n",
      "build db global caps: 0it [00:00, ?it/s]\u001b[A\n",
      "build db global caps: 1it [00:00,  7.16it/s]\u001b[A\n",
      "build db global caps: 15it [00:00,  9.99it/s]\u001b[A\n",
      "build db global caps: 32it [00:00, 13.86it/s]\u001b[A\n",
      "build db global caps: 44it [00:00, 18.82it/s]\u001b[A\n",
      "build db global caps: 64it [00:00, 25.81it/s]\u001b[A\n",
      "build db global caps: 65it [00:05, 11.55it/s]\u001b[A\n",
      "build db global imgs: 0it [00:00, ?it/s]\u001b[A\n",
      "build db global imgs: 1it [00:00,  1.58it/s]\u001b[A\n",
      "build db global imgs: 2it [00:00,  2.08it/s]\u001b[A\n",
      "build db global imgs: 5it [00:00,  2.84it/s]\u001b[A\n",
      "build db global imgs: 7it [00:01,  3.79it/s]\u001b[A\n",
      "build db global imgs: 10it [00:01,  4.99it/s]\u001b[A\n",
      "build db global imgs: 12it [00:01,  6.39it/s]\u001b[A\n",
      "build db global imgs: 14it [00:01,  7.66it/s]\u001b[A\n",
      "build db global imgs: 16it [00:01,  8.93it/s]\u001b[A\n",
      "build db global imgs: 19it [00:01, 10.73it/s]\u001b[A\n",
      "build db global imgs: 21it [00:01, 12.13it/s]\u001b[A\n",
      "build db global imgs: 23it [00:01, 13.48it/s]\u001b[A\n",
      "build db global imgs: 26it [00:02, 15.00it/s]\u001b[A\n",
      "build db global imgs: 29it [00:02, 16.38it/s]\u001b[A\n",
      "build db global imgs: 31it [00:02, 17.26it/s]\u001b[A\n",
      "build db global imgs: 33it [00:06,  4.76it/s]\u001b[A\n",
      "build db global caps: 0it [00:00, ?it/s]\u001b[A\n",
      "build db global caps: 1it [00:00,  9.28it/s]\u001b[A\n",
      "build db global caps: 10it [00:00, 12.69it/s]\u001b[A\n",
      "build db global caps: 26it [00:00, 17.53it/s]\u001b[A\n",
      "build db global caps: 42it [00:00, 23.89it/s]\u001b[A\n",
      "build db global caps: 62it [00:00, 32.41it/s]\u001b[A\n",
      "build db global caps: 65it [00:05, 11.64it/s]\u001b[A"
     ]
    },
    {
     "name": "stdout",
     "output_type": "stream",
     "text": [
      "[euclidean][global] R@1: 0.3214 | R@5: 0.5680 | R@10: 0.6597\n",
      "[cosine   ][global] R@1: 0.4008 | R@5: 0.6386 | R@10: 0.7332\n"
     ]
    },
    {
     "data": {
      "application/vnd.jupyter.widget-view+json": {
       "model_id": "b447508d13ff43748d521b91e8b67262",
       "version_major": 2,
       "version_minor": 0
      },
      "text/plain": [
       "HBox(children=(IntProgress(value=1, bar_style='info', description='train-stage-2, epoch7', max=1, style=Progre…"
      ]
     },
     "metadata": {},
     "output_type": "display_data"
    },
    {
     "name": "stdout",
     "output_type": "stream",
     "text": [
      "[ep-7, bs-49] [tri-loss] 0.080264, [id-loss] 0.852685, \n",
      "[ep-7, bs-99] [tri-loss] 0.077832, [id-loss] 0.852932, \n",
      "[ep-7, bs-149] [tri-loss] 0.079881, [id-loss] 0.862093, \n",
      "[ep-7, bs-199] [tri-loss] 0.080058, [id-loss] 0.898013, \n",
      "[ep-7, bs-249] [tri-loss] 0.080510, [id-loss] 0.901724, \n",
      "[ep-7, bs-299] [tri-loss] 0.078178, [id-loss] 0.900324, \n",
      "[ep-7, bs-349] [tri-loss] 0.079371, [id-loss] 0.897078, \n",
      "[ep-7, bs-399] [tri-loss] 0.077013, [id-loss] 0.888606, \n",
      "[ep-7, bs-449] [tri-loss] 0.081942, [id-loss] 0.983560, \n",
      "[ep-7, bs-499] [tri-loss] 0.079895, [id-loss] 0.892811, \n",
      "[ep-7, bs-549] [tri-loss] 0.078952, [id-loss] 0.898412, \n",
      "[ep-7, bs-599] [tri-loss] 0.081170, [id-loss] 0.918858, \n",
      "[ep-7, bs-649] [tri-loss] 0.074113, [id-loss] 0.889249, \n",
      "[ep-7, bs-699] [tri-loss] 0.074228, [id-loss] 0.923955, \n",
      "[ep-7, bs-749] [tri-loss] 0.075376, [id-loss] 0.939242, \n"
     ]
    },
    {
     "name": "stderr",
     "output_type": "stream",
     "text": [
      "\n",
      "build db global imgs: 0it [00:00, ?it/s]\u001b[A\n",
      "build db global imgs: 1it [00:00,  1.30it/s]\u001b[A\n",
      "build db global imgs: 3it [00:00,  1.80it/s]\u001b[A\n",
      "build db global imgs: 5it [00:00,  2.46it/s]\u001b[A\n",
      "build db global imgs: 7it [00:01,  3.27it/s]\u001b[A\n",
      "build db global imgs: 9it [00:01,  4.25it/s]\u001b[A\n",
      "build db global imgs: 11it [00:01,  5.47it/s]\u001b[A\n",
      "build db global imgs: 13it [00:01,  6.69it/s]\u001b[A\n",
      "build db global imgs: 15it [00:01,  8.10it/s]\u001b[A\n",
      "build db global imgs: 17it [00:01,  9.64it/s]\u001b[A\n",
      "build db global imgs: 19it [00:01, 10.83it/s]\u001b[A\n",
      "build db global imgs: 22it [00:02, 12.69it/s]\u001b[A\n",
      "build db global imgs: 25it [00:02, 14.27it/s]\u001b[A\n",
      "build db global imgs: 27it [00:02, 15.60it/s]\u001b[A\n",
      "build db global imgs: 29it [00:02, 16.69it/s]\u001b[A\n",
      "build db global imgs: 32it [00:02, 17.59it/s]\u001b[A\n",
      "build db global imgs: 33it [00:07,  4.62it/s]\u001b[A\n",
      "build db global caps: 0it [00:00, ?it/s]\u001b[A\n",
      "build db global caps: 1it [00:00,  7.28it/s]\u001b[A\n",
      "build db global caps: 17it [00:00, 10.20it/s]\u001b[A\n",
      "build db global caps: 30it [00:00, 14.08it/s]\u001b[A\n",
      "build db global caps: 44it [00:00, 19.27it/s]\u001b[A\n",
      "build db global caps: 64it [00:00, 26.40it/s]\u001b[A\n",
      "build db global caps: 65it [00:05, 11.51it/s]\u001b[A\n",
      "build db global imgs: 0it [00:00, ?it/s]\u001b[A\n",
      "build db global imgs: 1it [00:00,  1.05it/s]\u001b[A\n",
      "build db global imgs: 4it [00:01,  1.47it/s]\u001b[A\n",
      "build db global imgs: 7it [00:01,  2.04it/s]\u001b[A\n",
      "build db global imgs: 9it [00:01,  2.78it/s]\u001b[A\n",
      "build db global imgs: 11it [00:01,  3.69it/s]\u001b[A\n",
      "build db global imgs: 13it [00:01,  4.81it/s]\u001b[A\n",
      "build db global imgs: 15it [00:01,  6.19it/s]\u001b[A\n",
      "build db global imgs: 17it [00:01,  7.70it/s]\u001b[A\n",
      "build db global imgs: 19it [00:01,  9.42it/s]\u001b[A\n",
      "build db global imgs: 21it [00:02, 10.73it/s]\u001b[A\n",
      "build db global imgs: 24it [00:02, 12.65it/s]\u001b[A\n",
      "build db global imgs: 26it [00:02, 14.19it/s]\u001b[A\n",
      "build db global imgs: 29it [00:02, 15.58it/s]\u001b[A\n",
      "build db global imgs: 32it [00:02, 16.85it/s]\u001b[A\n",
      "build db global imgs: 33it [00:07,  4.60it/s]\u001b[A\n",
      "build db global caps: 0it [00:00, ?it/s]\u001b[A\n",
      "build db global caps: 1it [00:00,  7.03it/s]\u001b[A\n",
      "build db global caps: 4it [00:00,  9.02it/s]\u001b[A\n",
      "build db global caps: 22it [00:00, 12.52it/s]\u001b[A\n",
      "build db global caps: 39it [00:00, 17.31it/s]\u001b[A\n",
      "build db global caps: 52it [00:00, 23.38it/s]\u001b[A\n",
      "build db global caps: 65it [00:05, 11.37it/s]\u001b[A"
     ]
    },
    {
     "name": "stdout",
     "output_type": "stream",
     "text": [
      "[euclidean][global] R@1: 0.3260 | R@5: 0.5758 | R@10: 0.6737\n",
      "[cosine   ][global] R@1: 0.4070 | R@5: 0.6438 | R@10: 0.7339\n"
     ]
    },
    {
     "data": {
      "application/vnd.jupyter.widget-view+json": {
       "model_id": "b2248575fe1f405998989c8b0ffdea24",
       "version_major": 2,
       "version_minor": 0
      },
      "text/plain": [
       "HBox(children=(IntProgress(value=1, bar_style='info', description='train-stage-2, epoch8', max=1, style=Progre…"
      ]
     },
     "metadata": {},
     "output_type": "display_data"
    },
    {
     "name": "stdout",
     "output_type": "stream",
     "text": [
      "[ep-8, bs-49] [tri-loss] 0.071994, [id-loss] 0.794884, \n",
      "[ep-8, bs-99] [tri-loss] 0.075047, [id-loss] 0.817507, \n",
      "[ep-8, bs-149] [tri-loss] 0.076100, [id-loss] 0.828195, \n",
      "[ep-8, bs-199] [tri-loss] 0.071682, [id-loss] 0.801823, \n",
      "[ep-8, bs-249] [tri-loss] 0.076729, [id-loss] 0.842515, \n",
      "[ep-8, bs-299] [tri-loss] 0.076087, [id-loss] 0.799978, \n",
      "[ep-8, bs-349] [tri-loss] 0.076287, [id-loss] 0.835007, \n",
      "[ep-8, bs-399] [tri-loss] 0.069912, [id-loss] 0.830187, \n",
      "[ep-8, bs-449] [tri-loss] 0.074820, [id-loss] 0.892202, \n",
      "[ep-8, bs-499] [tri-loss] 0.071515, [id-loss] 0.881404, \n",
      "[ep-8, bs-549] [tri-loss] 0.074090, [id-loss] 0.857407, \n",
      "[ep-8, bs-599] [tri-loss] 0.073664, [id-loss] 0.855593, \n",
      "[ep-8, bs-649] [tri-loss] 0.076342, [id-loss] 0.901722, \n",
      "[ep-8, bs-699] [tri-loss] 0.077449, [id-loss] 0.892224, \n",
      "[ep-8, bs-749] [tri-loss] 0.072466, [id-loss] 0.905285, \n"
     ]
    },
    {
     "name": "stderr",
     "output_type": "stream",
     "text": [
      "\n",
      "build db global imgs: 0it [00:00, ?it/s]\u001b[A\n",
      "build db global imgs: 1it [00:00,  1.22it/s]\u001b[A\n",
      "build db global imgs: 3it [00:00,  1.69it/s]\u001b[A\n",
      "build db global imgs: 5it [00:01,  2.30it/s]\u001b[A\n",
      "build db global imgs: 7it [00:01,  3.09it/s]\u001b[A\n",
      "build db global imgs: 9it [00:01,  4.13it/s]\u001b[A\n",
      "build db global imgs: 11it [00:01,  5.37it/s]\u001b[A\n",
      "build db global imgs: 13it [00:01,  6.82it/s]\u001b[A\n",
      "build db global imgs: 15it [00:01,  8.38it/s]\u001b[A\n",
      "build db global imgs: 17it [00:01,  9.59it/s]\u001b[A\n",
      "build db global imgs: 19it [00:01, 11.05it/s]\u001b[A\n",
      "build db global imgs: 21it [00:02, 12.22it/s]\u001b[A\n",
      "build db global imgs: 24it [00:02, 13.90it/s]\u001b[A\n",
      "build db global imgs: 26it [00:02, 15.04it/s]\u001b[A\n",
      "build db global imgs: 29it [00:02, 16.26it/s]\u001b[A\n",
      "build db global imgs: 31it [00:02, 17.22it/s]\u001b[A\n",
      "build db global imgs: 33it [00:07,  4.57it/s]\u001b[A\n",
      "build db global caps: 0it [00:00, ?it/s]\u001b[A\n",
      "build db global caps: 1it [00:00,  9.07it/s]\u001b[A\n",
      "build db global caps: 14it [00:00, 12.57it/s]\u001b[A\n",
      "build db global caps: 24it [00:00, 17.00it/s]\u001b[A\n",
      "build db global caps: 41it [00:00, 23.25it/s]\u001b[A\n",
      "build db global caps: 53it [00:00, 30.65it/s]\u001b[A\n",
      "build db global caps: 65it [00:05, 11.57it/s]\u001b[A\n",
      "build db global imgs: 0it [00:00, ?it/s]\u001b[A\n",
      "build db global imgs: 1it [00:00,  1.34it/s]\u001b[A\n",
      "build db global imgs: 4it [00:00,  1.86it/s]\u001b[A\n",
      "build db global imgs: 6it [00:01,  2.52it/s]\u001b[A\n",
      "build db global imgs: 8it [00:01,  3.40it/s]\u001b[A\n",
      "build db global imgs: 10it [00:01,  4.43it/s]\u001b[A\n",
      "build db global imgs: 12it [00:01,  5.75it/s]\u001b[A\n",
      "build db global imgs: 14it [00:01,  7.04it/s]\u001b[A\n",
      "build db global imgs: 16it [00:01,  8.16it/s]\u001b[A\n",
      "build db global imgs: 19it [00:01, 10.00it/s]\u001b[A\n",
      "build db global imgs: 21it [00:01, 11.29it/s]\u001b[A\n",
      "build db global imgs: 23it [00:02, 12.29it/s]\u001b[A\n",
      "build db global imgs: 26it [00:02, 14.04it/s]\u001b[A\n",
      "build db global imgs: 28it [00:02, 15.19it/s]\u001b[A\n",
      "build db global imgs: 31it [00:02, 16.42it/s]\u001b[A\n",
      "build db global imgs: 33it [00:07,  4.59it/s]\u001b[A\n",
      "build db global caps: 0it [00:00, ?it/s]\u001b[A\n",
      "build db global caps: 1it [00:00,  9.59it/s]\u001b[A\n",
      "build db global caps: 13it [00:00, 13.25it/s]\u001b[A\n",
      "build db global caps: 25it [00:00, 18.04it/s]\u001b[A\n",
      "build db global caps: 41it [00:00, 24.58it/s]\u001b[A\n",
      "build db global caps: 58it [00:00, 33.00it/s]\u001b[A\n",
      "build db global caps: 65it [00:05, 11.61it/s]\u001b[A"
     ]
    },
    {
     "name": "stdout",
     "output_type": "stream",
     "text": [
      "[euclidean][global] R@1: 0.3273 | R@5: 0.5719 | R@10: 0.6809\n",
      "[cosine   ][global] R@1: 0.4031 | R@5: 0.6422 | R@10: 0.7358\n"
     ]
    },
    {
     "data": {
      "application/vnd.jupyter.widget-view+json": {
       "model_id": "43567bcdda5747b7b32adac42d7cf959",
       "version_major": 2,
       "version_minor": 0
      },
      "text/plain": [
       "HBox(children=(IntProgress(value=1, bar_style='info', description='train-stage-2, epoch9', max=1, style=Progre…"
      ]
     },
     "metadata": {},
     "output_type": "display_data"
    },
    {
     "name": "stdout",
     "output_type": "stream",
     "text": [
      "[ep-9, bs-49] [tri-loss] 0.068478, [id-loss] 0.728528, \n",
      "[ep-9, bs-99] [tri-loss] 0.073370, [id-loss] 0.764444, \n",
      "[ep-9, bs-149] [tri-loss] 0.067244, [id-loss] 0.781108, \n",
      "[ep-9, bs-199] [tri-loss] 0.070514, [id-loss] 0.752807, \n",
      "[ep-9, bs-249] [tri-loss] 0.070421, [id-loss] 0.760908, \n",
      "[ep-9, bs-299] [tri-loss] 0.068290, [id-loss] 0.791430, \n",
      "[ep-9, bs-349] [tri-loss] 0.071594, [id-loss] 0.815545, \n",
      "[ep-9, bs-399] [tri-loss] 0.073202, [id-loss] 0.817520, \n",
      "[ep-9, bs-449] [tri-loss] 0.070304, [id-loss] 0.821234, \n",
      "[ep-9, bs-499] [tri-loss] 0.068308, [id-loss] 0.818037, \n",
      "[ep-9, bs-549] [tri-loss] 0.070528, [id-loss] 0.801698, \n",
      "[ep-9, bs-599] [tri-loss] 0.070319, [id-loss] 0.855275, \n",
      "[ep-9, bs-649] [tri-loss] 0.070437, [id-loss] 0.855029, \n",
      "[ep-9, bs-699] [tri-loss] 0.071753, [id-loss] 0.841818, \n",
      "[ep-9, bs-749] [tri-loss] 0.066378, [id-loss] 0.850950, \n"
     ]
    },
    {
     "name": "stderr",
     "output_type": "stream",
     "text": [
      "\n",
      "build db global imgs: 0it [00:00, ?it/s]\u001b[A\n",
      "build db global imgs: 1it [00:00,  1.12it/s]\u001b[A\n",
      "build db global imgs: 3it [00:00,  1.56it/s]\u001b[A\n",
      "build db global imgs: 6it [00:01,  2.16it/s]\u001b[A\n",
      "build db global imgs: 8it [00:01,  2.92it/s]\u001b[A\n",
      "build db global imgs: 10it [00:01,  3.92it/s]\u001b[A\n",
      "build db global imgs: 12it [00:01,  5.10it/s]\u001b[A\n",
      "build db global imgs: 14it [00:01,  6.44it/s]\u001b[A\n",
      "build db global imgs: 16it [00:01,  7.79it/s]\u001b[A\n",
      "build db global imgs: 18it [00:01,  9.34it/s]\u001b[A\n",
      "build db global imgs: 21it [00:02, 11.24it/s]\u001b[A\n",
      "build db global imgs: 23it [00:02, 12.40it/s]\u001b[A\n",
      "build db global imgs: 26it [00:02, 14.27it/s]\u001b[A\n",
      "build db global imgs: 29it [00:02, 15.76it/s]\u001b[A\n",
      "build db global imgs: 32it [00:02, 16.85it/s]\u001b[A\n",
      "build db global imgs: 33it [00:07,  4.54it/s]\u001b[A\n",
      "build db global caps: 0it [00:00, ?it/s]\u001b[A\n",
      "build db global caps: 1it [00:00,  6.05it/s]\u001b[A\n",
      "build db global caps: 18it [00:00,  8.51it/s]\u001b[A\n",
      "build db global caps: 30it [00:00, 11.70it/s]\u001b[A\n",
      "build db global caps: 48it [00:00, 16.26it/s]\u001b[A\n",
      "build db global caps: 65it [00:05, 11.53it/s]\u001b[A\n",
      "build db global imgs: 0it [00:00, ?it/s]\u001b[A\n",
      "build db global imgs: 1it [00:00,  1.69it/s]\u001b[A\n",
      "build db global imgs: 2it [00:00,  2.22it/s]\u001b[A\n",
      "build db global imgs: 4it [00:00,  3.02it/s]\u001b[A\n",
      "build db global imgs: 6it [00:00,  4.02it/s]\u001b[A\n",
      "build db global imgs: 8it [00:01,  5.22it/s]\u001b[A\n",
      "build db global imgs: 11it [00:01,  6.76it/s]\u001b[A\n",
      "build db global imgs: 13it [00:01,  8.33it/s]\u001b[A\n",
      "build db global imgs: 16it [00:01, 10.10it/s]\u001b[A\n",
      "build db global imgs: 18it [00:01, 11.71it/s]\u001b[A\n",
      "build db global imgs: 20it [00:01, 12.96it/s]\u001b[A\n",
      "build db global imgs: 22it [00:01, 14.44it/s]\u001b[A\n",
      "build db global imgs: 25it [00:01, 15.85it/s]\u001b[A\n",
      "build db global imgs: 28it [00:02, 16.92it/s]\u001b[A\n",
      "build db global imgs: 31it [00:02, 17.81it/s]\u001b[A\n",
      "build db global imgs: 33it [00:07,  4.70it/s]\u001b[A\n",
      "build db global caps: 0it [00:00, ?it/s]\u001b[A\n",
      "build db global caps: 2it [00:00, 14.00it/s]\u001b[A\n",
      "build db global caps: 13it [00:00, 18.93it/s]\u001b[A\n",
      "build db global caps: 30it [00:00, 25.79it/s]\u001b[A\n",
      "build db global caps: 46it [00:00, 34.45it/s]\u001b[A\n",
      "build db global caps: 65it [00:05, 11.62it/s]\u001b[A"
     ]
    },
    {
     "name": "stdout",
     "output_type": "stream",
     "text": [
      "[euclidean][global] R@1: 0.3299 | R@5: 0.5745 | R@10: 0.6825\n",
      "[cosine   ][global] R@1: 0.4057 | R@5: 0.6444 | R@10: 0.7323\n"
     ]
    },
    {
     "data": {
      "application/vnd.jupyter.widget-view+json": {
       "model_id": "2dec7b873fd9475288e8eaa5f71a2c57",
       "version_major": 2,
       "version_minor": 0
      },
      "text/plain": [
       "HBox(children=(IntProgress(value=1, bar_style='info', description='train-stage-2, epoch10', max=1, style=Progr…"
      ]
     },
     "metadata": {},
     "output_type": "display_data"
    },
    {
     "name": "stdout",
     "output_type": "stream",
     "text": [
      "[ep-10, bs-49] [tri-loss] 0.066136, [id-loss] 0.676101, \n",
      "[ep-10, bs-99] [tri-loss] 0.069461, [id-loss] 0.706062, \n",
      "[ep-10, bs-149] [tri-loss] 0.065673, [id-loss] 0.690122, \n",
      "[ep-10, bs-199] [tri-loss] 0.066559, [id-loss] 0.678616, \n",
      "[ep-10, bs-249] [tri-loss] 0.065945, [id-loss] 0.676199, \n",
      "[ep-10, bs-299] [tri-loss] 0.062095, [id-loss] 0.672960, \n",
      "[ep-10, bs-349] [tri-loss] 0.067873, [id-loss] 0.713094, \n",
      "[ep-10, bs-399] [tri-loss] 0.069087, [id-loss] 0.701148, \n",
      "[ep-10, bs-449] [tri-loss] 0.066564, [id-loss] 0.728780, \n",
      "[ep-10, bs-499] [tri-loss] 0.064184, [id-loss] 0.705732, \n",
      "[ep-10, bs-549] [tri-loss] 0.069000, [id-loss] 0.723121, \n",
      "[ep-10, bs-599] [tri-loss] 0.062692, [id-loss] 0.698682, \n",
      "[ep-10, bs-649] [tri-loss] 0.066121, [id-loss] 0.722012, \n",
      "[ep-10, bs-699] [tri-loss] 0.064924, [id-loss] 0.727670, \n",
      "[ep-10, bs-749] [tri-loss] 0.064328, [id-loss] 0.673219, \n"
     ]
    },
    {
     "name": "stderr",
     "output_type": "stream",
     "text": [
      "\n",
      "build db global imgs: 0it [00:00, ?it/s]\u001b[A\n",
      "build db global imgs: 1it [00:00,  1.66it/s]\u001b[A\n",
      "build db global imgs: 4it [00:00,  2.29it/s]\u001b[A\n",
      "build db global imgs: 6it [00:00,  3.11it/s]\u001b[A\n",
      "build db global imgs: 8it [00:00,  4.05it/s]\u001b[A\n",
      "build db global imgs: 10it [00:01,  5.18it/s]\u001b[A\n",
      "build db global imgs: 13it [00:01,  6.65it/s]\u001b[A\n",
      "build db global imgs: 15it [00:01,  8.09it/s]\u001b[A\n",
      "build db global imgs: 17it [00:01,  9.47it/s]\u001b[A\n",
      "build db global imgs: 19it [00:01, 10.36it/s]\u001b[A\n",
      "build db global imgs: 21it [00:01, 11.96it/s]\u001b[A\n",
      "build db global imgs: 23it [00:01, 13.10it/s]\u001b[A\n",
      "build db global imgs: 26it [00:02, 14.73it/s]\u001b[A\n",
      "build db global imgs: 28it [00:02, 15.96it/s]\u001b[A\n",
      "build db global imgs: 30it [00:02, 16.98it/s]\u001b[A\n",
      "build db global imgs: 33it [00:02, 18.09it/s]\u001b[A\n",
      "build db global caps: 0it [00:00, ?it/s]\u001b[A\n",
      "build db global caps: 1it [00:00,  8.32it/s]\u001b[A\n",
      "build db global caps: 17it [00:00, 11.62it/s]\u001b[A\n",
      "build db global caps: 32it [00:00, 15.99it/s]\u001b[A\n",
      "build db global caps: 48it [00:00, 21.82it/s]\u001b[A\n",
      "build db global caps: 65it [00:05, 11.62it/s]\u001b[A\n",
      "build db global imgs: 0it [00:00, ?it/s]\u001b[A\n",
      "build db global imgs: 1it [00:00,  1.46it/s]\u001b[A\n",
      "build db global imgs: 2it [00:00,  1.95it/s]\u001b[A\n",
      "build db global imgs: 4it [00:00,  2.62it/s]\u001b[A\n",
      "build db global imgs: 6it [00:01,  3.51it/s]\u001b[A\n",
      "build db global imgs: 8it [00:01,  4.53it/s]\u001b[A\n",
      "build db global imgs: 10it [00:01,  5.46it/s]\u001b[A\n",
      "build db global imgs: 12it [00:01,  6.89it/s]\u001b[A\n",
      "build db global imgs: 14it [00:01,  8.46it/s]\u001b[A\n",
      "build db global imgs: 16it [00:01,  9.80it/s]\u001b[A\n",
      "build db global imgs: 18it [00:01, 11.41it/s]\u001b[A\n",
      "build db global imgs: 20it [00:01, 12.57it/s]\u001b[A\n",
      "build db global imgs: 22it [00:02, 13.86it/s]\u001b[A\n",
      "build db global imgs: 24it [00:02, 15.25it/s]\u001b[A\n",
      "build db global imgs: 27it [00:02, 16.57it/s]\u001b[A\n",
      "build db global imgs: 30it [00:02, 17.58it/s]\u001b[A\n",
      "build db global imgs: 33it [00:02, 18.58it/s]\u001b[A\n",
      "build db global caps: 0it [00:00, ?it/s]\u001b[A\n",
      "build db global caps: 1it [00:00,  8.08it/s]\u001b[A\n",
      "build db global caps: 19it [00:00, 11.31it/s]\u001b[A\n",
      "build db global caps: 34it [00:00, 15.56it/s]\u001b[A\n",
      "build db global caps: 44it [00:00, 20.83it/s]\u001b[A\n",
      "build db global caps: 62it [00:00, 28.32it/s]\u001b[A\n",
      "build db global caps: 65it [00:05, 11.57it/s]\u001b[A"
     ]
    },
    {
     "name": "stdout",
     "output_type": "stream",
     "text": [
      "[euclidean][global] R@1: 0.3334 | R@5: 0.5797 | R@10: 0.6861\n",
      "[cosine   ][global] R@1: 0.4053 | R@5: 0.6428 | R@10: 0.7323\n"
     ]
    },
    {
     "data": {
      "application/vnd.jupyter.widget-view+json": {
       "model_id": "4ac7dc4594214085884f86ee7b1c2c0d",
       "version_major": 2,
       "version_minor": 0
      },
      "text/plain": [
       "HBox(children=(IntProgress(value=1, bar_style='info', description='train-stage-2, epoch11', max=1, style=Progr…"
      ]
     },
     "metadata": {},
     "output_type": "display_data"
    },
    {
     "name": "stdout",
     "output_type": "stream",
     "text": [
      "[ep-11, bs-49] [tri-loss] 0.067151, [id-loss] 0.698894, \n"
     ]
    },
    {
     "ename": "KeyboardInterrupt",
     "evalue": "",
     "output_type": "error",
     "traceback": [
      "\u001b[0;31m---------------------------------------------------------------------------\u001b[0m",
      "\u001b[0;31mKeyboardInterrupt\u001b[0m                         Traceback (most recent call last)",
      "\u001b[0;32m<ipython-input-15-f585e362eca6>\u001b[0m in \u001b[0;36m<module>\u001b[0;34m\u001b[0m\n\u001b[1;32m      6\u001b[0m \u001b[0mtrain_epoch\u001b[0m \u001b[0;34m=\u001b[0m \u001b[0mmanager\u001b[0m\u001b[0;34m.\u001b[0m\u001b[0mtrain_epoch_regional\u001b[0m \u001b[0;32mif\u001b[0m \u001b[0mcfg\u001b[0m\u001b[0;34m.\u001b[0m\u001b[0mnp\u001b[0m \u001b[0;32melse\u001b[0m \u001b[0mmanager\u001b[0m\u001b[0;34m.\u001b[0m\u001b[0mtrain_epoch_global\u001b[0m\u001b[0;34m\u001b[0m\u001b[0;34m\u001b[0m\u001b[0m\n\u001b[1;32m      7\u001b[0m \u001b[0;32mfor\u001b[0m \u001b[0mepoch\u001b[0m \u001b[0;32min\u001b[0m \u001b[0mrange\u001b[0m\u001b[0;34m(\u001b[0m\u001b[0;36m40\u001b[0m\u001b[0;34m)\u001b[0m\u001b[0;34m:\u001b[0m\u001b[0;34m\u001b[0m\u001b[0;34m\u001b[0m\u001b[0m\n\u001b[0;32m----> 8\u001b[0;31m     \u001b[0mtrain_epoch\u001b[0m\u001b[0;34m(\u001b[0m\u001b[0mtrain_loader\u001b[0m\u001b[0;34m,\u001b[0m \u001b[0moptimizer\u001b[0m\u001b[0;34m,\u001b[0m \u001b[0mepoch\u001b[0m\u001b[0;34m,\u001b[0m \u001b[0;34m\"train-stage-2\"\u001b[0m\u001b[0;34m)\u001b[0m\u001b[0;34m\u001b[0m\u001b[0;34m\u001b[0m\u001b[0m\n\u001b[0m\u001b[1;32m      9\u001b[0m     \u001b[0;32mif\u001b[0m \u001b[0mcfg\u001b[0m\u001b[0;34m.\u001b[0m\u001b[0mnp\u001b[0m\u001b[0;34m:\u001b[0m\u001b[0;34m\u001b[0m\u001b[0;34m\u001b[0m\u001b[0m\n\u001b[1;32m     10\u001b[0m         \u001b[0macc\u001b[0m \u001b[0;34m=\u001b[0m \u001b[0mevaluator\u001b[0m\u001b[0;34m.\u001b[0m\u001b[0mevaluate\u001b[0m\u001b[0;34m(\u001b[0m\u001b[0mmanager\u001b[0m\u001b[0;34m.\u001b[0m\u001b[0mmodel\u001b[0m\u001b[0;34m,\u001b[0m \u001b[0mmanager\u001b[0m\u001b[0;34m.\u001b[0m\u001b[0mrga_img_mlp\u001b[0m\u001b[0;34m,\u001b[0m \u001b[0mmanager\u001b[0m\u001b[0;34m.\u001b[0m\u001b[0mrga_cap_mlp\u001b[0m\u001b[0;34m)\u001b[0m\u001b[0;34m\u001b[0m\u001b[0;34m\u001b[0m\u001b[0m\n",
      "\u001b[0;32m<ipython-input-10-41c76e5b71b0>\u001b[0m in \u001b[0;36mtrain_epoch_global\u001b[0;34m(self, train_data, optimizer, epoch, note)\u001b[0m\n\u001b[1;32m    141\u001b[0m \u001b[0;34m\u001b[0m\u001b[0m\n\u001b[1;32m    142\u001b[0m             \u001b[0;31m# backpropagation\u001b[0m\u001b[0;34m\u001b[0m\u001b[0;34m\u001b[0m\u001b[0;34m\u001b[0m\u001b[0m\n\u001b[0;32m--> 143\u001b[0;31m             \u001b[0moptimizer\u001b[0m\u001b[0;34m.\u001b[0m\u001b[0mzero_grad\u001b[0m\u001b[0;34m(\u001b[0m\u001b[0;34m)\u001b[0m\u001b[0;34m;\u001b[0m \u001b[0mloss\u001b[0m\u001b[0;34m.\u001b[0m\u001b[0mbackward\u001b[0m\u001b[0;34m(\u001b[0m\u001b[0;34m)\u001b[0m\u001b[0;34m;\u001b[0m \u001b[0moptimizer\u001b[0m\u001b[0;34m.\u001b[0m\u001b[0mstep\u001b[0m\u001b[0;34m(\u001b[0m\u001b[0;34m)\u001b[0m\u001b[0;34m\u001b[0m\u001b[0;34m\u001b[0m\u001b[0m\n\u001b[0m\u001b[1;32m    144\u001b[0m             \u001b[0;31m# log\u001b[0m\u001b[0;34m\u001b[0m\u001b[0;34m\u001b[0m\u001b[0;34m\u001b[0m\u001b[0m\n\u001b[1;32m    145\u001b[0m             \u001b[0mcum_tri_loss\u001b[0m \u001b[0;34m+=\u001b[0m \u001b[0mtri_loss\u001b[0m\u001b[0;34m.\u001b[0m\u001b[0mitem\u001b[0m\u001b[0;34m(\u001b[0m\u001b[0;34m)\u001b[0m\u001b[0;34m\u001b[0m\u001b[0;34m\u001b[0m\u001b[0m\n",
      "\u001b[0;32m~/anaconda3/envs/maskrcnn/lib/python3.7/site-packages/torch/tensor.py\u001b[0m in \u001b[0;36mbackward\u001b[0;34m(self, gradient, retain_graph, create_graph)\u001b[0m\n\u001b[1;32m    116\u001b[0m                 \u001b[0mproducts\u001b[0m\u001b[0;34m.\u001b[0m \u001b[0mDefaults\u001b[0m \u001b[0mto\u001b[0m\u001b[0;31m \u001b[0m\u001b[0;31m`\u001b[0m\u001b[0;31m`\u001b[0m\u001b[0;32mFalse\u001b[0m\u001b[0;31m`\u001b[0m\u001b[0;31m`\u001b[0m\u001b[0;34m.\u001b[0m\u001b[0;34m\u001b[0m\u001b[0;34m\u001b[0m\u001b[0m\n\u001b[1;32m    117\u001b[0m         \"\"\"\n\u001b[0;32m--> 118\u001b[0;31m         \u001b[0mtorch\u001b[0m\u001b[0;34m.\u001b[0m\u001b[0mautograd\u001b[0m\u001b[0;34m.\u001b[0m\u001b[0mbackward\u001b[0m\u001b[0;34m(\u001b[0m\u001b[0mself\u001b[0m\u001b[0;34m,\u001b[0m \u001b[0mgradient\u001b[0m\u001b[0;34m,\u001b[0m \u001b[0mretain_graph\u001b[0m\u001b[0;34m,\u001b[0m \u001b[0mcreate_graph\u001b[0m\u001b[0;34m)\u001b[0m\u001b[0;34m\u001b[0m\u001b[0;34m\u001b[0m\u001b[0m\n\u001b[0m\u001b[1;32m    119\u001b[0m \u001b[0;34m\u001b[0m\u001b[0m\n\u001b[1;32m    120\u001b[0m     \u001b[0;32mdef\u001b[0m \u001b[0mregister_hook\u001b[0m\u001b[0;34m(\u001b[0m\u001b[0mself\u001b[0m\u001b[0;34m,\u001b[0m \u001b[0mhook\u001b[0m\u001b[0;34m)\u001b[0m\u001b[0;34m:\u001b[0m\u001b[0;34m\u001b[0m\u001b[0;34m\u001b[0m\u001b[0m\n",
      "\u001b[0;32m~/anaconda3/envs/maskrcnn/lib/python3.7/site-packages/torch/autograd/__init__.py\u001b[0m in \u001b[0;36mbackward\u001b[0;34m(tensors, grad_tensors, retain_graph, create_graph, grad_variables)\u001b[0m\n\u001b[1;32m     91\u001b[0m     Variable._execution_engine.run_backward(\n\u001b[1;32m     92\u001b[0m         \u001b[0mtensors\u001b[0m\u001b[0;34m,\u001b[0m \u001b[0mgrad_tensors\u001b[0m\u001b[0;34m,\u001b[0m \u001b[0mretain_graph\u001b[0m\u001b[0;34m,\u001b[0m \u001b[0mcreate_graph\u001b[0m\u001b[0;34m,\u001b[0m\u001b[0;34m\u001b[0m\u001b[0;34m\u001b[0m\u001b[0m\n\u001b[0;32m---> 93\u001b[0;31m         allow_unreachable=True)  # allow_unreachable flag\n\u001b[0m\u001b[1;32m     94\u001b[0m \u001b[0;34m\u001b[0m\u001b[0m\n\u001b[1;32m     95\u001b[0m \u001b[0;34m\u001b[0m\u001b[0m\n",
      "\u001b[0;31mKeyboardInterrupt\u001b[0m: "
     ]
    }
   ],
   "source": [
    "from tqdm import tqdm_notebook as tqdm\n",
    "manager.melt_img_layer(num_layer_to_melt=8)\n",
    "param_to_optimize = build_graph_optimizer([manager.model, manager.id_cls])\n",
    "optimizer = optim.Adam(param_to_optimize, lr=2e-4, weight_decay=1e-5)\n",
    "scheduler = optim.lr_scheduler.StepLR(optimizer, step_size=5)\n",
    "train_epoch = manager.train_epoch_regional if cfg.np else manager.train_epoch_global\n",
    "for epoch in range(40):\n",
    "    train_epoch(train_loader, optimizer, epoch, \"train-stage-2\")\n",
    "    if cfg.np:\n",
    "        acc = evaluator.evaluate(manager.model, manager.rga_img_mlp, manager.rga_cap_mlp)\n",
    "        cos_acc = cos_evaluator.evaluate(manager.model, manager.rga_img_mlp, manager.rga_cap_mlp)\n",
    "    else:\n",
    "        acc = evaluator.evaluate(manager.model)\n",
    "        cos_acc = cos_evaluator.evaluate(manager.model)\n",
    "    logger.log('[euclidean][global] R@1: %.4f | R@5: %.4f | R@10: %.4f' % (acc['top-1'], acc['top-5'], acc['top-10']))\n",
    "    logger.log('[cosine   ][global] R@1: %.4f | R@5: %.4f | R@10: %.4f' % (cos_acc['top-1'], cos_acc['top-5'], cos_acc['top-10']))\n",
    "    scheduler.step()"
   ]
  },
  {
   "cell_type": "code",
   "execution_count": 16,
   "metadata": {},
   "outputs": [],
   "source": [
    "manager.save_ckpt(epoch, acc, \"match_stage2_trained.pt\")"
   ]
  },
  {
   "cell_type": "code",
   "execution_count": null,
   "metadata": {},
   "outputs": [],
   "source": []
  }
 ],
 "metadata": {
  "kernelspec": {
   "display_name": "Python 3",
   "language": "python",
   "name": "python3"
  },
  "language_info": {
   "codemirror_mode": {
    "name": "ipython",
    "version": 3
   },
   "file_extension": ".py",
   "mimetype": "text/x-python",
   "name": "python",
   "nbconvert_exporter": "python",
   "pygments_lexer": "ipython3",
   "version": "3.7.3"
  },
  "toc": {
   "base_numbering": 1,
   "nav_menu": {},
   "number_sections": true,
   "sideBar": true,
   "skip_h1_title": false,
   "title_cell": "Table of Contents",
   "title_sidebar": "Contents",
   "toc_cell": false,
   "toc_position": {},
   "toc_section_display": true,
   "toc_window_display": false
  },
  "varInspector": {
   "cols": {
    "lenName": 16,
    "lenType": 16,
    "lenVar": 40
   },
   "kernels_config": {
    "python": {
     "delete_cmd_postfix": "",
     "delete_cmd_prefix": "del ",
     "library": "var_list.py",
     "varRefreshCmd": "print(var_dic_list())"
    },
    "r": {
     "delete_cmd_postfix": ") ",
     "delete_cmd_prefix": "rm(",
     "library": "var_list.r",
     "varRefreshCmd": "cat(var_dic_list()) "
    }
   },
   "types_to_exclude": [
    "module",
    "function",
    "builtin_function_or_method",
    "instance",
    "_Feature"
   ],
   "window_display": false
  }
 },
 "nbformat": 4,
 "nbformat_minor": 2
}
