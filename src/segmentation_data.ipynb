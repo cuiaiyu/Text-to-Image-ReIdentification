{
 "cells": [
  {
   "cell_type": "code",
   "execution_count": 3,
   "metadata": {},
   "outputs": [],
   "source": [
    "import numpy as np\n",
    "import os\n",
    "import json\n",
    "import matplotlib.pyplot as plt\n",
    "import numpy as np\n",
    "import torchvision\n",
    "import imageio\n",
    "%matplotlib inline\n",
    "import cv2\n",
    "from tqdm import tqdm_notebook as tqdm\n",
    "from PIL import Image\n",
    "#img = cv2.imread('your_image.jpg')\n",
    "#res = cv2.resize(img, dsize=(54, 140), interpolation=cv2.INTER_CUBIC)"
   ]
  },
  {
   "cell_type": "markdown",
   "metadata": {},
   "source": [
    "1.Hat\n",
    "2.Hair\n",
    "3.Glove\n",
    "4.Sunglasses\n",
    "5.UpperClothes\n",
    "6.Dress\n",
    "7.Coat\n",
    "8.Socks\n",
    "9.Pants\n",
    "10.Jumpsuits\n",
    "11.Scarf\n",
    "12.Skirt\n",
    "13.Face\n",
    "14.Left-arm\n",
    "15.Right-arm\n",
    "16.Left-leg\n",
    "17.Right-leg\n",
    "18.Left-shoe\n",
    "19.Right-shoe"
   ]
  },
  {
   "cell_type": "code",
   "execution_count": 8,
   "metadata": {},
   "outputs": [
    {
     "name": "stdout",
     "output_type": "stream",
     "text": [
      "3074\n"
     ]
    }
   ],
   "source": [
    "split = 'val1'\n",
    "mask_root = \"/shared/rsaas/aiyucui2/wider_person/wider/%s/peike_masks\" % split\n",
    "image_root = \"/shared/rsaas/aiyucui2/wider_person/wider/%s/img\" % split\n",
    "anno_path = \"/shared/rsaas/aiyucui2/wider_person/wider/%s/val1_anns.json\" % split\n",
    "\n",
    "out_mask_dir = \"/shared/rsaas/aiyucui2/wider_person/wider/%s/aiyu_masks\" % split\n",
    "out_bi_mask_dir = \"/shared/rsaas/aiyucui2/wider_person/wider/%s/aiyu_binary_masks\" % split\n",
    "with open(anno_path, \"r\") as f:\n",
    "    anns = json.load(f)\n",
    "anns = [ann for ann in anns if ann['split'] == 'val']\n",
    "print(len(anns))"
   ]
  },
  {
   "cell_type": "code",
   "execution_count": 9,
   "metadata": {},
   "outputs": [
    {
     "data": {
      "application/vnd.jupyter.widget-view+json": {
       "model_id": "ee9ad95d153d421196993d3bc7651295",
       "version_major": 2,
       "version_minor": 0
      },
      "text/plain": [
       "HBox(children=(IntProgress(value=0, description='save aiyu mask', max=3074, style=ProgressStyle(description_wi…"
      ]
     },
     "metadata": {},
     "output_type": "display_data"
    }
   ],
   "source": [
    "unique_values = set()\n",
    "ATR_LABEL = ['Background', 'Hat', 'Hair', 'Sunglasses', \n",
    "             'Upper-clothes', 'Skirt', 'Pants', 'Dress', \n",
    "             'Belt', 'Left-shoe', 'Right-shoe', 'Face', \n",
    "             'Left-leg', 'Right-leg', 'Left-arm', 'Right-arm', 'Bag', 'Scarf']\n",
    "AIYU_LABEL = ['Background', 'Skirt', 'Accessory', 'Pants', 'Shoes', 'Bag', 'Upper-clothes', 'Dress', 'Hair']\n",
    "\n",
    "ATR_TO_AIYU = {\n",
    "    'Background': 'Background',\n",
    "    'Hat': 'Accessory',\n",
    "    'Hair': 'Hair',\n",
    "    'Sunglasses': 'Accessory',\n",
    "    'Upper-clothes': 'Upper-clothes', \n",
    "    'Skirt': 'Skirt', \n",
    "    \n",
    "    'Pants': 'Pants', \n",
    "    'Dress': 'Dress',\n",
    "    'Belt': 'Accessory',\n",
    "    'Left-shoe': 'Shoes', \n",
    "    'Right-shoe': 'Shoes',\n",
    "    \n",
    "    'Face': 'Background',\n",
    "    'Left-leg': 'Background', \n",
    "    'Right-leg': 'Background', \n",
    "    'Left-arm': 'Background', \n",
    "    'Right-arm': 'Background', \n",
    "    \n",
    "    'Bag': 'Bag', \n",
    "    'Scarf': 'Accessory'\n",
    "}\n",
    "\n",
    "\n",
    "if True:\n",
    "    for ann in tqdm(anns, \"save aiyu mask\"):\n",
    "        img_fn = ann['file_path']\n",
    "        mask_fn = ann['file_path'].replace('/', '_') [:-4] + '.png'\n",
    "        # img = imageio.imread(os.path.join(image_root, img_fn))\n",
    "        #img = cv2.resize(img, dsize=(24,24), interpolation=cv2.INTER_NEAREST)\n",
    "        mask = Image.open(os.path.join(mask_root, mask_fn))#cv2.imread(os.path.join(mask_root, mask_fn), 1)\n",
    "        mask = np.array(mask)\n",
    "        mask = cv2.resize(mask, dsize=(8,24), interpolation=cv2.INTER_NEAREST).astype(int)\n",
    "        \n",
    "        new_mask = np.zeros((mask.shape))\n",
    "        new_mask_binary = np.zeros((len(AIYU_LABEL)-1, mask.shape[0], mask.shape[1]))\n",
    "        for i in range(1, len(ATR_LABEL)):\n",
    "            aiyu_label = ATR_TO_AIYU[ATR_LABEL[i]]\n",
    "            new_mask[mask == i] = AIYU_LABEL.index(aiyu_label)\n",
    "\n",
    "        for i in range(1, len(AIYU_LABEL)):\n",
    "            new_mask_binary[i-1, :,:] = new_mask == i\n",
    "        np.save(os.path.join(out_bi_mask_dir, mask_fn[:-4]+'.npy'), new_mask_binary)\n",
    "        np.save(os.path.join(out_mask_dir, mask_fn[:-4]+'.npy'), new_mask)"
   ]
  },
  {
   "cell_type": "code",
   "execution_count": 60,
   "metadata": {},
   "outputs": [
    {
     "data": {
      "text/plain": [
       "6"
      ]
     },
     "execution_count": 60,
     "metadata": {},
     "output_type": "execute_result"
    },
    {
     "data": {
      "image/png": "[encoded data removed]",
      "text/plain": [
       "<Figure size 432x288 with 1 Axes>"
      ]
     },
     "metadata": {
      "needs_background": "light"
     },
     "output_type": "display_data"
    }
   ],
   "source": [
    "img = imageio.imread(os.path.join(image_root, img_fn))\n",
    "#mask = cv2.resize(mask, dsize=(4,12))\n",
    "plt.imshow(mask)\n",
    "#plt.imshow(img)\n",
    "mask.max()"
   ]
  },
  {
   "cell_type": "code",
   "execution_count": 56,
   "metadata": {},
   "outputs": [
    {
     "data": {
      "text/plain": [
       "18"
      ]
     },
     "execution_count": 56,
     "metadata": {},
     "output_type": "execute_result"
    }
   ],
   "source": [
    "len(ATR_LABEL)"
   ]
  },
  {
   "cell_type": "code",
   "execution_count": null,
   "metadata": {},
   "outputs": [],
   "source": []
  },
  {
   "cell_type": "code",
   "execution_count": null,
   "metadata": {},
   "outputs": [],
   "source": []
  },
  {
   "cell_type": "code",
   "execution_count": 6,
   "metadata": {},
   "outputs": [
    {
     "data": {
      "text/plain": [
       "tensor([[0., 0., 0., 0., 0., 0., 0., 0.],\n",
       "        [0., 1., 0., 0., 0., 0., 0., 0.],\n",
       "        [0., 0., 0., 0., 0., 0., 0., 0.],\n",
       "        [0., 0., 0., 0., 0., 0., 0., 0.],\n",
       "        [0., 0., 0., 0., 0., 0., 0., 0.],\n",
       "        [0., 1., 1., 0., 1., 1., 0., 0.],\n",
       "        [0., 0., 1., 1., 1., 1., 0., 0.],\n",
       "        [0., 0., 1., 1., 1., 1., 0., 0.],\n",
       "        [0., 0., 1., 1., 1., 1., 1., 0.],\n",
       "        [0., 0., 1., 1., 1., 1., 1., 0.],\n",
       "        [0., 0., 1., 1., 1., 1., 1., 1.],\n",
       "        [0., 0., 1., 1., 1., 1., 1., 1.],\n",
       "        [0., 0., 1., 1., 1., 1., 1., 0.],\n",
       "        [0., 0., 1., 1., 1., 1., 0., 0.],\n",
       "        [0., 0., 1., 1., 1., 1., 0., 0.],\n",
       "        [0., 0., 1., 1., 1., 1., 0., 0.],\n",
       "        [0., 0., 1., 0., 1., 1., 0., 0.],\n",
       "        [0., 0., 1., 0., 0., 1., 0., 0.],\n",
       "        [0., 0., 0., 0., 0., 0., 1., 0.],\n",
       "        [0., 0., 0., 0., 0., 0., 1., 0.],\n",
       "        [0., 0., 0., 0., 0., 0., 0., 0.],\n",
       "        [0., 0., 0., 0., 0., 0., 0., 0.],\n",
       "        [0., 0., 0., 0., 0., 0., 0., 0.],\n",
       "        [0., 0., 0., 0., 0., 0., 0., 0.]])"
      ]
     },
     "execution_count": 6,
     "metadata": {},
     "output_type": "execute_result"
    }
   ],
   "source": [
    "import torch\n",
    "\n",
    "a = torch.from_numpy(np.load(os.path.join(out_bi_mask_dir, mask_fn[:-4]+'.npy'))).float()\n",
    "a = torch.flip(a.sum(0), [1])\n",
    "a"
   ]
  }
 ],
 "metadata": {
  "kernelspec": {
   "display_name": "Python 3",
   "language": "python",
   "name": "python3"
  },
  "language_info": {
   "codemirror_mode": {
    "name": "ipython",
    "version": 3
   },
   "file_extension": ".py",
   "mimetype": "text/x-python",
   "name": "python",
   "nbconvert_exporter": "python",
   "pygments_lexer": "ipython3",
   "version": "3.7.3"
  },
  "toc": {
   "base_numbering": 1,
   "nav_menu": {},
   "number_sections": true,
   "sideBar": true,
   "skip_h1_title": false,
   "title_cell": "Table of Contents",
   "title_sidebar": "Contents",
   "toc_cell": false,
   "toc_position": {},
   "toc_section_display": true,
   "toc_window_display": false
  },
  "varInspector": {
   "cols": {
    "lenName": 16,
    "lenType": 16,
    "lenVar": 40
   },
   "kernels_config": {
    "python": {
     "delete_cmd_postfix": "",
     "delete_cmd_prefix": "del ",
     "library": "var_list.py",
     "varRefreshCmd": "print(var_dic_list())"
    },
    "r": {
     "delete_cmd_postfix": ") ",
     "delete_cmd_prefix": "rm(",
     "library": "var_list.r",
     "varRefreshCmd": "cat(var_dic_list()) "
    }
   },
   "types_to_exclude": [
    "module",
    "function",
    "builtin_function_or_method",
    "instance",
    "_Feature"
   ],
   "window_display": false
  }
 },
 "nbformat": 4,
 "nbformat_minor": 2
}
