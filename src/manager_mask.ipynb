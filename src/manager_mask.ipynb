{
 "cells": [
  {
   "cell_type": "code",
   "execution_count": 1,
   "metadata": {},
   "outputs": [],
   "source": [
    "from datasets.wider_part_dataset import build_wider_dataloader\n",
    "from datasets.text_test_datasets import build_text_test_loader\n",
    "from datasets.image_test_datasets import build_image_test_loader\n",
    "\n",
    "from models.encoder import Model, MLP\n",
    "from evaluators.global_evaluator import GlobalEvaluator\n",
    "from evaluators.np_evaluator import NPEvaluator\n",
    "from loss.loss import crossmodal_triplet_loss, cos_distance, triplet_cos_loss\n",
    "from loggers.logger import Logger\n",
    "from manager import build_graph_optimizer\n",
    "from tqdm import tqdm_notebook as tqdm\n",
    "from sklearn.neighbors import DistanceMetric\n",
    "\n",
    "from attentions.rga_attention import RGA_attend_one_to_many_batch, RGA_attend_one_to_many\n",
    "import os\n",
    "\n",
    "import torch.nn as nn\n",
    "import torch.optim as optim\n",
    "\n",
    "from configs.args import load_arg_parser"
   ]
  },
  {
   "cell_type": "code",
   "execution_count": 2,
   "metadata": {},
   "outputs": [
    {
     "name": "stdout",
     "output_type": "stream",
     "text": [
      "debug\n"
     ]
    }
   ],
   "source": [
    "parser = load_arg_parser()\n",
    "cfg = parser.parse_args(\"\")\n",
    "cfg.data_root = \"/data/aiyucui2/wider\"\n",
    "root = cfg.data_root\n",
    "\n",
    "# data path\n",
    "mask_root = \"/shared/rsaas/aiyucui2/wider_person/wider/{}/\"\n",
    "\n",
    "cfg.anno_path = os.path.join(root, cfg.anno_path)\n",
    "cfg.img_dir = os.path.join(root, cfg.img_dir)\n",
    "cfg.mask_dir = os.path.join(mask_root.format('train'), \"aiyu_binary_masks\")\n",
    "\n",
    "cfg.val_anno_path = os.path.join(root, cfg.val_anno_path)\n",
    "cfg.val_img_dir = os.path.join(root, cfg.val_img_dir)\n",
    "cfg.val_mask_dir = os.path.join(mask_root.format('val1'), \"aiyu_binary_masks\")\n",
    "\n",
    "cfg.gt_file_fn = os.path.join(root, cfg.gt_file_fn)\n",
    "\n",
    "# meta data path\n",
    "cfg.cheap_candidate_fn = os.path.join(root, cfg.cheap_candidate_fn)\n",
    "cfg.vocab_path = os.path.join(root, cfg.vocab_path)\n",
    "os.environ[\"CUDA_VISIBLE_DEVICES\"] = \"3\"\n",
    "# sys path\n",
    "cfg.model_path = os.path.join(root, cfg.model_path)\n",
    "cfg.output_path = os.path.join(root, cfg.output_path)\n",
    "ckpt_root = \"/shared/rsaas/aiyucui2/wider_person/checkpoints/reID/baseline\"\n",
    "load_exp_name = \"dist_fn_cosine_imgbb_resnet50_capbb_bigru_embed_size_1024_batch_96_lr_0.0002_step_size_10_captype_sent_img_meltlayer_6_np_False_sent_60_cap_10_6_fix_img_melt\"\n",
    "#\"dist_fn_cosine_imgbb_resnet50_capbb_bigru_embed_size_1024_batch_96_lr_0.0001_captype_sent_img_meltlayer_2_cos_margin_0.2_np_False\"\n",
    "cfg.load_ckpt_fn = os.path.join(ckpt_root, load_exp_name, \"stage_1_id_last.pt\")\n",
    "cfg.debug = False\n",
    "cfg.embed_size = 1024\n",
    "cfg.batch_size = 96\n",
    "cfg.img_backbone_opt = \"resnet50\"\n",
    "cfg.num_gpus = 1\n",
    "cfg.cap_backbone_opt = \"bigru\"\n",
    "cfg.dim = (384,128)\n",
    "cfg.dist_fn_opt = \"cosine\"\n",
    "cfg.np = True\n",
    "cfg.img_num_cut = 6\n",
    "cfg.img_num_cut = 1 if not cfg.np else cfg.img_num_cut\n",
    "cfg.mask = True\n",
    "\n",
    "cfg.sent_token_length = 60\n",
    "cfg.np_token_length = 6\n",
    "cfg.num_np_per_sent = 10\n",
    "\n",
    "cfg.cap_embed_type='sent'\n",
    "# exp_name\n",
    "cfg.exp_name = 'debug'\n",
    "cfg.model_path = os.path.join(\"/shared/rsaas/aiyucui2/wider_person\", cfg.model_path, cfg.exp_name)\n",
    "cfg.output_path = os.path.join(\"/shared/rsaas/aiyucui2/wider_person\", cfg.output_path, cfg.exp_name)\n",
    "\n",
    "if not os.path.exists(cfg.model_path):\n",
    "    os.mkdir(cfg.model_path)\n",
    "if not os.path.exists(cfg.output_path):\n",
    "    os.mkdir(cfg.output_path)\n",
    "# logger\n",
    "logger = Logger(\"test.txt\") #os.path.join(cfg.output_path, cfg.exp_name+\".txt\"))\n",
    "print(cfg.exp_name)"
   ]
  },
  {
   "cell_type": "code",
   "execution_count": 3,
   "metadata": {},
   "outputs": [
    {
     "name": "stdout",
     "output_type": "stream",
     "text": [
      "/data/aiyucui2/wider\n",
      "/shared/rsaas/aiyucui2/wider_person/wider/train/aiyu_binary_masks\n"
     ]
    }
   ],
   "source": [
    "#cfg.mask_dir = os.path.join(root, cfg.mask_dir)\n",
    "print(root)\n",
    "print(cfg.mask_dir)"
   ]
  },
  {
   "cell_type": "code",
   "execution_count": 4,
   "metadata": {
    "code_folding": []
   },
   "outputs": [],
   "source": [
    "from evaluators.evaluator import *\n",
    "import torch\n",
    "import numpy as np\n",
    "from attentions.rga_attention import RGA_attend_one_to_many_batch\n",
    "from sklearn.neighbors import DistanceMetric\n",
    "from loss.loss import cos_distance\n",
    "import torch.nn.functional as F\n",
    "\n",
    "\n",
    "class NPEvaluator(Evaluator):\n",
    "    def __init__(self, img_loader, cap_loader, gt_file_path,  embed_size, logger, dist_fn_opt):\n",
    "        super(NPEvaluator, self).__init__(img_loader, cap_loader, gt_file_path,  embed_size, logger)\n",
    "        # dist fn\n",
    "        self.dist_fn_opt = dist_fn_opt\n",
    "        if dist_fn_opt == 'euclidean':\n",
    "            self.dist = DistanceMetric.get_metric('euclidean').pairwise\n",
    "        else:\n",
    "            self.dist = cos_distance\n",
    "        \n",
    "    def populate_img_db(self, encoder, img_mlp):\n",
    "        K = self.embed_size\n",
    "        self.global_imgs = []\n",
    "        self.img_parts = []\n",
    "        self.num_cnts = []\n",
    "        encoder.eval(); img_mlp.eval()\n",
    "        with torch.no_grad():\n",
    "            for i, data in tqdm(enumerate(self.img_loader),desc='build db global imgs'):\n",
    "                img, mask, file_names = data\n",
    "                img_em, img_part, num_cnts = encoder(img.cuda(), mask.cuda())\n",
    "                self.num_cnts.extend(num_cnts)\n",
    "                self.img_parts.append(img_mlp(img_part))\n",
    "                self.global_imgs.append(img_em)\n",
    "        self.global_imgs = torch.cat(self.global_imgs)\n",
    "        self.img_parts = torch.cat(self.img_parts)\n",
    "        #self.num_cnts = torch.cat(self.num_cnts)\n",
    "        return self.global_imgs\n",
    "    \n",
    "    def populate_cap_db(self, encoder, text_mlp):\n",
    "        K = self.embed_size\n",
    "        encoder.eval(); text_mlp.eval()\n",
    "        self.global_caps = []\n",
    "        self.cap_parts = []\n",
    "        self.n2cs = []\n",
    "        with torch.no_grad():\n",
    "            for i, batch in tqdm(enumerate(self.cap_loader),desc='build db global caps'):\n",
    "                caps, nps, n2c, file_names = batch\n",
    "                N, M, T = nps.size()\n",
    "                global_cap = encoder(caps.cuda())\n",
    "                nps = encoder(nps.reshape(N*M, T).cuda())\n",
    "                self.global_caps.append(global_cap)\n",
    "                self.n2cs.append(n2c)\n",
    "                self.cap_parts.append(text_mlp(nps).reshape(N, M, -1))\n",
    "        self.global_caps = torch.cat(self.global_caps)\n",
    "        self.cap_parts = torch.cat(self.cap_parts)\n",
    "        self.n2cs = torch.cat(self.n2cs)\n",
    "        return self.global_caps\n",
    "    \n",
    "    def regional_alignment_image(self, caps, img_parts, dist_fn_opt):\n",
    "        scoremats = []\n",
    "        #N, M, K = img_parts.size()\n",
    "        start = 0\n",
    "        for num in tqdm(self.num_cnts, \"scoremat_rga_img\"):\n",
    "            with torch.no_grad():\n",
    "                curr_parts = img_parts[None, start:start+num,:].expand(caps.size(0), num, caps.size(1))\n",
    "                start += num\n",
    "                parts = RGA_attend_one_to_many_batch(caps, curr_parts, dist_fn_opt)\n",
    "                if dist_fn_opt == \"cosine\":\n",
    "                    scores = 1 - F.cosine_similarity(caps, parts)\n",
    "                else:\n",
    "                    scores = F.pairwise_distance(caps, parts)\n",
    "                scoremats.append(scores.detach().cpu().numpy())\n",
    "        import pdb; pdb.set_trace()\n",
    "        return np.array(scoremats).transpose(1,0)\n",
    "    \n",
    "    def regional_alignment_text(self, imgs, cap_parts, n2cs, dist_fn_opt):\n",
    "        scoremats = []\n",
    "        N, M, K = cap_parts.size()\n",
    "        for cap_part, n2c in tqdm(zip(cap_parts, n2cs), \"scoremat_rga_cap(nps)\"):\n",
    "            with torch.no_grad():\n",
    "                parts = RGA_attend_one_to_many_batch(imgs, cap_part[None,:n2c,:].expand(imgs.size(0), n2c, imgs.size(1)), dist_fn_opt)\n",
    "                if dist_fn_opt == \"cosine\":\n",
    "                    scores = 1 - F.cosine_similarity(imgs, parts)\n",
    "                else:\n",
    "                    scores = F.pairwise_distance(imgs, parts)\n",
    "                scoremats.append(scores.detach().cpu().numpy())\n",
    "        return np.array(scoremats)\n",
    "    \n",
    "    def evaluate(self, encoder, mlp_img, mlp_text, output_path=\"tmp.txt\"):\n",
    "        # compute global features\n",
    "        self.populate_img_db(encoder, mlp_img)\n",
    "        self.populate_cap_db(encoder, mlp_text)\n",
    "    \n",
    "        # global eval\n",
    "        # scoremat = self.retrieval()\n",
    "        scoremat_global, scoremat_img_rga, scoremat_cap_rga = self.retrieval()\n",
    "        import pdb; pdb.set_trace()\n",
    "        acc = self.compute_acc(scoremat_global, output_path)\n",
    "        self.logger.log(\"[global] R@1: %.4f | R@5: %.4f | R@10: %.4f\" % (acc['top-1'], acc['top-5'], acc['top-10']))\n",
    "        acc = self.compute_acc(scoremat_img_rga, output_path)\n",
    "        self.logger.log(\"[img_rga] R@1: %.4f | R@5: %.4f | R@10: %.4f\" % (acc['top-1'], acc['top-5'], acc['top-10']))\n",
    "        acc = self.compute_acc(scoremat_cap_rga, output_path)\n",
    "        self.logger.log(\"[cap_rga] R@1: %.4f | R@5: %.4f | R@10: %.4f\" % (acc['top-1'], acc['top-5'], acc['top-10']))\n",
    "        \n",
    "        acc = self.compute_acc(scoremat_global + 0.5*scoremat_img_rga + 0.5*scoremat_cap_rga, output_path)\n",
    "        self.logger.log(\"[fusion] R@1: %.4f | R@5: %.4f | R@10: %.4f\" % (acc['top-1'], acc['top-5'], acc['top-10']))\n",
    "        return acc                         \n",
    "            \n",
    "    \n",
    "    def retrieval(self):\n",
    "        querys = self.global_caps.cpu().detach().numpy()\n",
    "        candidates = self.global_imgs.cpu().detach().numpy()\n",
    "        scoremat = self.dist(querys, candidates)\n",
    "        scoremat2 = self.regional_alignment_image(self.global_caps, self.img_parts, self.dist_fn_opt)\n",
    "        scoremat3 = self.regional_alignment_text(self.global_imgs, self.cap_parts, self.n2cs, self.dist_fn_opt)\n",
    "        return scoremat, scoremat2, scoremat3"
   ]
  },
  {
   "cell_type": "code",
   "execution_count": null,
   "metadata": {},
   "outputs": [],
   "source": []
  },
  {
   "cell_type": "code",
   "execution_count": 5,
   "metadata": {},
   "outputs": [
    {
     "name": "stdout",
     "output_type": "stream",
     "text": [
      "[ds] load annotations from /data/aiyucui2/wider/wider/train/train_anns_train.json\n",
      "size of dataset: 74264\n"
     ]
    }
   ],
   "source": [
    "# train loader\n",
    "train_loader = build_wider_dataloader(cfg)\n",
    "# test loader (loading image and text separately)\n",
    "test_text_loader = build_text_test_loader(cfg) \n",
    "test_image_loader = build_image_test_loader(cfg) \n",
    "\n",
    "# Evaluator\n",
    "Evaluator = NPEvaluator if cfg.np else GlobalEvaluator\n",
    "\n",
    "evaluator = Evaluator(img_loader=test_image_loader, \n",
    "                          cap_loader=test_text_loader, \n",
    "                          gt_file_path=cfg.gt_file_fn,\n",
    "                          embed_size=cfg.embed_size,\n",
    "                          logger=logger,\n",
    "                          dist_fn_opt=\"euclidean\")\n",
    "cos_evaluator = Evaluator(img_loader=test_image_loader, \n",
    "                          cap_loader=test_text_loader, \n",
    "                          gt_file_path=cfg.gt_file_fn,\n",
    "                          embed_size=cfg.embed_size,\n",
    "                          logger=logger,\n",
    "                          dist_fn_opt=\"cosine\")"
   ]
  },
  {
   "cell_type": "code",
   "execution_count": null,
   "metadata": {},
   "outputs": [],
   "source": []
  },
  {
   "cell_type": "code",
   "execution_count": null,
   "metadata": {},
   "outputs": [],
   "source": []
  },
  {
   "cell_type": "code",
   "execution_count": 6,
   "metadata": {},
   "outputs": [
    {
     "name": "stderr",
     "output_type": "stream",
     "text": [
      "Clipping input data to the valid range for imshow with RGB data ([0..1] for floats or [0..255] for integers).\n",
      "Clipping input data to the valid range for imshow with RGB data ([0..1] for floats or [0..255] for integers).\n"
     ]
    },
    {
     "data": {
      "image/png": "[encoded data removed]",
      "text/plain": [
       "<Figure size 432x288 with 1 Axes>"
      ]
     },
     "metadata": {
      "needs_background": "light"
     },
     "output_type": "display_data"
    },
    {
     "data": {
      "image/png": "[encoded data removed]",
      "text/plain": [
       "<Figure size 432x288 with 1 Axes>"
      ]
     },
     "metadata": {
      "needs_background": "light"
     },
     "output_type": "display_data"
    },
    {
     "data": {
      "image/png": "[encoded data removed]",
      "text/plain": [
       "<Figure size 432x288 with 1 Axes>"
      ]
     },
     "metadata": {
      "needs_background": "light"
     },
     "output_type": "display_data"
    },
    {
     "data": {
      "image/png": "[encoded data removed]",
      "text/plain": [
       "<Figure size 432x288 with 1 Axes>"
      ]
     },
     "metadata": {
      "needs_background": "light"
     },
     "output_type": "display_data"
    }
   ],
   "source": [
    "#normalize = transforms.Normalize(mean=[0.485, 0.456, 0.406],\n",
    "#                                     std=[0.229, 0.224, 0.225])\n",
    "if True:\n",
    "    import torch\n",
    "    ds = test_image_loader.dataset\n",
    "    image, mask, img_fn = ds[24]\n",
    "    import matplotlib.pyplot as plt\n",
    "    %matplotlib inline\n",
    "    plt.figure()\n",
    "    plt.imshow(image.numpy().transpose(1,2,0))\n",
    "    plt.figure()\n",
    "    plt.imshow(mask.sum(0).numpy())\n",
    "    new_image = torch.flip(image,[2])\n",
    "    new_mask = torch.flip(mask.sum(0), [1])\n",
    "    plt.figure()\n",
    "    plt.imshow(new_image.numpy().transpose(1,2,0))\n",
    "    plt.figure()\n",
    "    plt.imshow(new_mask.numpy())"
   ]
  },
  {
   "cell_type": "code",
   "execution_count": 7,
   "metadata": {},
   "outputs": [
    {
     "name": "stdout",
     "output_type": "stream",
     "text": [
      "tensor([[0., 0., 0., 0., 0., 0., 0., 0.],\n",
      "        [0., 0., 0., 0., 0., 0., 0., 0.],\n",
      "        [0., 0., 0., 0., 0., 0., 0., 0.],\n",
      "        [0., 1., 1., 0., 0., 0., 0., 0.],\n",
      "        [0., 0., 0., 0., 0., 0., 0., 0.],\n",
      "        [0., 0., 0., 0., 0., 0., 0., 0.],\n",
      "        [0., 0., 0., 0., 1., 0., 0., 0.],\n",
      "        [0., 1., 0., 1., 1., 1., 0., 0.],\n",
      "        [0., 1., 1., 1., 1., 1., 0., 0.],\n",
      "        [0., 1., 1., 1., 1., 1., 1., 0.],\n",
      "        [0., 1., 1., 1., 1., 0., 0., 0.],\n",
      "        [0., 0., 0., 1., 1., 0., 1., 0.],\n",
      "        [0., 0., 0., 1., 1., 0., 1., 0.],\n",
      "        [0., 0., 0., 1., 1., 1., 1., 1.],\n",
      "        [0., 0., 0., 1., 0., 1., 1., 0.],\n",
      "        [0., 0., 0., 1., 1., 1., 1., 0.],\n",
      "        [0., 0., 0., 1., 1., 1., 1., 0.],\n",
      "        [0., 0., 0., 0., 1., 1., 1., 0.],\n",
      "        [0., 0., 0., 0., 1., 0., 0., 0.],\n",
      "        [0., 0., 0., 0., 0., 0., 0., 0.],\n",
      "        [0., 0., 0., 0., 0., 0., 0., 0.],\n",
      "        [0., 0., 0., 0., 0., 0., 0., 0.],\n",
      "        [0., 0., 0., 0., 0., 0., 0., 0.],\n",
      "        [0., 0., 0., 0., 0., 0., 0., 0.]])\n"
     ]
    }
   ],
   "source": [
    "print(mask.sum(0))"
   ]
  },
  {
   "cell_type": "code",
   "execution_count": 8,
   "metadata": {
    "code_folding": [
     8,
     99
    ]
   },
   "outputs": [],
   "source": [
    "# import torch.nn as nn\n",
    "import torchvision.models as models\n",
    "import torch\n",
    "import torch.nn as nn\n",
    "import torch.nn.functional as F \n",
    "from models.texts.gru_backbone import BiGRUBackbone as CaptionBackbone\n",
    "\n",
    "\n",
    "class ImageMaskBackbone(nn.Module):\n",
    "    def __init__(self,embed_size, regional_embed_size=256, num_cut=1, model='resnet50',coco=False):\n",
    "        super(ImageMaskBackbone,self).__init__()\n",
    "        self.num_cut = num_cut\n",
    "        self.hidden_size = 512 if model =='resnet18' else 2048\n",
    "        if model == 'resnet101' or coco:\n",
    "            self.img_backbone=models.resnet101(pretrained=True)\n",
    "        elif model == 'resnet50':\n",
    "            self.img_backbone=models.resnet50(pretrained=True)\n",
    "        elif model =='resnet18':\n",
    "            self.img_backbone=models.resnet18(pretrained=True)\n",
    "        else:\n",
    "            assert False\n",
    "        self.img_backbone.fc=nn.Linear(self.hidden_size,embed_size)\n",
    "        self.melt_layer()\n",
    "        \n",
    "        if num_cut > 1:\n",
    "            self.conv_regional = nn.Conv2d(self.hidden_size, regional_embed_size, 1)\n",
    "        \n",
    "    def extract_feature_map(self, x):\n",
    "        out = self.img_backbone.conv1(x)\n",
    "        out = self.img_backbone.bn1(out)\n",
    "        out = self.img_backbone.relu(out)\n",
    "        out = self.img_backbone.maxpool(out)\n",
    "        out = self.img_backbone.layer1(out)\n",
    "        out = self.img_backbone.layer2(out)\n",
    "        out = self.img_backbone.layer3(out)\n",
    "        out = self.img_backbone.layer4(out)\n",
    "        return out\n",
    "    \n",
    "    def mlp(self, x):\n",
    "        #x = self.img_backbone.layer4(x)\n",
    "        x = self.img_backbone.avgpool(x)\n",
    "        x = torch.flatten(x, 1)\n",
    "        x = self.img_backbone.fc(x)\n",
    "        return x\n",
    "    \n",
    "    \n",
    "    def regional_extract(self,x):\n",
    "        x = self.conv_regional(x)\n",
    "        x = self.img_backbone.avgpool(x)\n",
    "        x = torch.flatten(x, 1)\n",
    "        return x\n",
    "        \n",
    "    def forward(self,x, masks):\n",
    "        out = self.extract_feature_map(x)\n",
    "        global_features = self.mlp(out)\n",
    "        N, E, H, W = out.size()\n",
    "        masks.resize_((N, 8, H, W))\n",
    "        ret = []\n",
    "        cuts = []\n",
    "        num_cuts = []\n",
    "        for b in range(N):\n",
    "            before = len(cuts)\n",
    "            for i in range(8):\n",
    "                mask = masks[b, i:i+1, :, :]\n",
    "                if mask.sum() > 0:\n",
    "                    mask = mask.expand_as(out[b]) # 2048 x M x N\n",
    "                    cut = mask * out[b] \n",
    "                    cuts.append(cut[None])\n",
    "            after = len(cuts)\n",
    "            if before == after:\n",
    "                cuts.append(out[b:b+1])\n",
    "                after = len(cuts)\n",
    "            num_cuts.append(after - before)\n",
    "            before = after\n",
    "                \n",
    "        regional_feature = self.regional_extract(torch.cat(cuts))\n",
    "        return global_features, regional_feature, num_cuts\n",
    "        before = 0\n",
    "        for num in num_cuts:\n",
    "            curr_maps = regional_feature[before:before+num]\n",
    "            ret.append(curr_maps.mean(0, keepdim=True))\n",
    "            before += num\n",
    "        regional_features = torch.cat(ret)\n",
    "        return global_features, regional_features\n",
    "\n",
    "        \n",
    "    \n",
    "    def melt_layer(self,forzen_util=7):\n",
    "        ct = 0\n",
    "        for child in self.img_backbone.children():\n",
    "            ct += 1\n",
    "            if ct < forzen_util:\n",
    "                for param in child.parameters():\n",
    "                    param.requires_grad = False\n",
    "            else:\n",
    "                for param in child.parameters():\n",
    "                    param.requires_grad = True\n",
    "                    \n",
    "                    \n",
    "class Model(nn.Module):\n",
    "    def __init__(self, embed_size, image_opt=\"resnet50\", caption_opt=\"bigru\", cap_embed_type=\"sent\", img_num_cut=1, regional_embed_size=256):\n",
    "        super(Model, self).__init__()\n",
    "        self.img_backbone = ImageMaskBackbone(embed_size, regional_embed_size=256, num_cut=img_num_cut, model=image_opt)\n",
    "        self.cap_backbone = CaptionBackbone(embed_size=embed_size, caption_opt=caption_opt,cap_embed_type=cap_embed_type)\n",
    "        \n",
    "    def forward(self, x, mask=None):\n",
    "        if len(x.size()) == 4:\n",
    "            x = self.img_backbone(x, mask)\n",
    "        elif len(x.size()) == 2 or len(x.size()) == 3:\n",
    "            x = self.cap_backbone(x)\n",
    "        else:\n",
    "            assert False\n",
    "        return x      \n",
    "      \n",
    "    \n",
    "    def img_frezee_layer(self, num_layer_to_frezee):\n",
    "        self.img_backbone.melt_layer(num_layer_to_frezee)\n",
    "    "
   ]
  },
  {
   "cell_type": "code",
   "execution_count": 9,
   "metadata": {
    "code_folding": [
     12,
     21,
     35,
     36,
     42,
     84,
     100,
     117,
     125,
     131,
     214
    ]
   },
   "outputs": [],
   "source": [
    "from tqdm import tqdm\n",
    "import torch\n",
    "import torch.nn as nn\n",
    "import torch.optim as optim \n",
    "import os\n",
    "\n",
    "import torch.nn.functional as F\n",
    "from models.encoder import MLP\n",
    "from loss.loss import triplet_cos_loss, crossmodal_triplet_loss\n",
    "\n",
    "from attentions.rga_attention import RGA_attend_one_to_many_batch, RGA_attend_one_to_many\n",
    "\n",
    "def regional_alignment_text_new(fulls, parts, p2fs, dist_fn_opt):\n",
    "    aligned = []\n",
    "    \n",
    "    for i, jump in enumerate(p2fs):\n",
    "        curr_parts = parts[i,:jump,:]\n",
    "        curr_full = fulls[i:i+1]\n",
    "        aligned.append(RGA_attend_one_to_many(curr_full, curr_parts, dist_fn_opt))\n",
    "    return torch.cat(aligned)   \n",
    "\n",
    "def regional_alignment_text(fulls, parts, p2fs, dist_fn_opt):\n",
    "    aligned = []\n",
    "    start = 0\n",
    "    for i, jump in enumerate(p2fs):\n",
    "        curr_parts = parts[start: start+jump,:]\n",
    "        curr_full = fulls[i:i+1]\n",
    "        start = start+jump\n",
    "        aligned.append(RGA_attend_one_to_many(curr_full, curr_parts, dist_fn_opt))\n",
    "    return torch.cat(aligned)\n",
    "\n",
    "def regional_alignment_image(fulls, parts, dist_fn_opt):\n",
    "    return RGA_attend_one_to_many_batch(fulls, parts, dist_fn_opt)\n",
    "  \n",
    "    \n",
    "class Manager:\n",
    "    def __init__(self, args, logger):\n",
    "        self.log = logger.log\n",
    "        self.cfg = args\n",
    "        self._init_models()\n",
    "        self._init_criterion()\n",
    "    \n",
    "    def _init_criterion(self):\n",
    "        if self.cfg.dist_fn_opt == \"cosine\":\n",
    "            self.triplet_loss = triplet_cos_loss\n",
    "        elif self.cfg.dist_fn_opt == \"euclidean\":\n",
    "            self.triplet_loss = nn.TripletMarginLoss()\n",
    "        self.cls_loss = nn.CrossEntropyLoss()\n",
    "        self.log(\"[Trainer][init] criterion initialized.\")\n",
    "\n",
    "    def _init_models(self):\n",
    "        # encoder\n",
    "        self.model = Model(embed_size=self.cfg.embed_size, \n",
    "                          image_opt=self.cfg.img_backbone_opt, \n",
    "                          caption_opt=self.cfg.cap_backbone_opt,\n",
    "                          cap_embed_type=self.cfg.cap_embed_type,\n",
    "                          img_num_cut=self.cfg.img_num_cut,\n",
    "                          regional_embed_size=self.cfg.regional_embed_size).cuda()\n",
    "        # id classifer\n",
    "        self.id_cls = nn.Linear(self.cfg.embed_size, self.cfg.num_ids).cuda()\n",
    "        # RGA image mlp\n",
    "        self.rga_img_mlp = MLP(self.cfg.regional_embed_size, self.cfg.embed_size).cuda()\n",
    "        # RGA text mlp\n",
    "        self.rga_cap_mlp = MLP(self.cfg.embed_size, self.cfg.embed_size).cuda()\n",
    "    \n",
    "        # gpu\n",
    "        self.all_models = {\n",
    "            \"model\": self.model,\n",
    "            \"id_cls\": self.id_cls, \n",
    "            \"rga_img_mlp\": self.rga_img_mlp,\n",
    "            \"rga_cap_mlp\": self.rga_cap_mlp,\n",
    "        }\n",
    "        print(self.cfg.num_gpus)\n",
    "        if self.cfg.num_gpus > 1:\n",
    "            print('here')\n",
    "            for name in self.all_models.keys():\n",
    "                print('data parallel')\n",
    "                self.all_models[name] = nn.DataParallel(self.all_models[name])\n",
    "        # load ckpt\n",
    "        self.reset_ckpt()\n",
    "        \n",
    "        \n",
    "        self.log(\"[Trainer][init] model initialized.\")\n",
    "\n",
    "    def reset_ckpt(self):\n",
    "        self.start_epoch = 0\n",
    "        self.acc_history = []\n",
    "        self.best_acc = ({'top-1':0, 'top-1': 0, 'top-1': 0}, self.start_epoch)\n",
    "        if self.cfg.load_ckpt_fn == \"0\":\n",
    "            self.log(\"[Trainer][init] initialize fresh model.\")\n",
    "            return\n",
    "        ckpt = torch.load(self.cfg.load_ckpt_fn)\n",
    "        self.start_epoch = ckpt[\"epoch\"] + 1\n",
    "        self.acc_history = ckpt[\"acc_history\"]\n",
    "        for name, network in self.all_models.items():\n",
    "            if name in ckpt:\n",
    "                network.load_state_dict(ckpt[name], strict=False)\n",
    "                self.log(\"[Trainer][init] load pre-trained %s from %s.\" % (name, self.cfg.load_ckpt_fn))\n",
    "\n",
    "              \n",
    "    def save_ckpt(self, epoch, acc, fn):\n",
    "        # update acc history \n",
    "        self.acc_history.append((acc, epoch))\n",
    "        if acc['top-1'] > self.best_acc[0]['top-1']:\n",
    "            self.best_acc = (acc, epoch)\n",
    "        # ckpt \n",
    "        ckpt = {\n",
    "            \"epoch\": epoch,\n",
    "            \"acc_history\": self.acc_history,\n",
    "            \"best_acc\": self.best_acc,\n",
    "            }\n",
    "        for name, network in self.all_models.items():\n",
    "            ckpt[name] = network.module.state_dict() if isinstance(network, nn.DataParallel) else network.state_dict()\n",
    "\n",
    "        path = os.path.join(self.cfg.model_path, fn)\n",
    "        torch.save(ckpt, path)\n",
    "            \n",
    "    def todevice(self, batch):\n",
    "        ret = []\n",
    "        for arg in batch:\n",
    "            if isinstance(arg, torch.Tensor):\n",
    "                arg = arg.cuda()\n",
    "            ret.append(arg)\n",
    "        return tuple(ret)\n",
    "    \n",
    "    def melt_img_layer(self, num_layer_to_melt=1):\n",
    "        if isinstance(self.model, nn.DataParallel):\n",
    "            self.model.module.img_backbone.melt_layer(8 - num_layer_to_melt)\n",
    "        else:\n",
    "            self.model.img_backbone.melt_layer(8 - num_layer_to_melt)\n",
    "     \n",
    "    def train_epoch_global(self, train_data, optimizer, epoch, note=\"train\"):\n",
    "        self.model.train()\n",
    "        cum_tri_loss, cum_id_loss = 0.0, 0.0\n",
    "        for i, data in tqdm(enumerate(train_data), \"%s, epoch%d\" % (note, epoch)):\n",
    "            # load data\n",
    "            data = self.todevice(data)\n",
    "            img, cap, pid = data\n",
    "            \n",
    "            # encode\n",
    "            #img, pos_img, neg_img = self.model(img), self.model(pos_img), self.model(neg_img)\n",
    "            #cap, pos_cap, neg_cap = self.model(cap), self.model(pos_cap), self.model(neg_cap)\n",
    "            img, cap = self.model(img), self.model(cap)\n",
    "\n",
    "\n",
    "            # loss\n",
    "            tri_loss = triplet_cos_loss(img, cap, pid)\n",
    "            id_loss = self.cls_loss(self.id_cls(img), pid) + self.cls_loss(self.id_cls(cap), pid)\n",
    "            loss = tri_loss + id_loss\n",
    "\n",
    "            # backpropagation\n",
    "            optimizer.zero_grad(); loss.backward(); optimizer.step()\n",
    "            # log\n",
    "            cum_tri_loss += tri_loss.item()\n",
    "            cum_id_loss += id_loss.item()\n",
    "            if (i+1) % self.cfg.print_freq == 0:\n",
    "                out_string = \"[ep-%d, bs-%d] \" % (epoch, i)\n",
    "                out_string += \"[tri-loss] %.6f, \" % (cum_tri_loss / self.cfg.print_freq)\n",
    "                out_string += \"[id-loss] %.6f, \" % (cum_id_loss / self.cfg.print_freq)\n",
    "                self.log(out_string)\n",
    "                cum_tri_loss, cum_id_loss = 0.0, 0.0\n",
    "                \n",
    "    def train_epoch_regional(self, train_data, optimizer, epoch, note=\"train\"):\n",
    "        self.model.train(); self.rga_img_mlp.train(); self.rga_cap_mlp.train();\n",
    "\n",
    "        cum_tri_loss, cum_tri_image_regional_loss, cum_tri_text_regional_loss, cum_id_loss = 0.0, 0.0, 0.0, 0.0\n",
    "        for i, data in tqdm(enumerate(train_data), \"%s, epoch%d\" % (note,epoch)):\n",
    "            # load data\n",
    "            data = self.todevice(data)\n",
    "            (img, mask, cap, nps, n2c, pid) = data\n",
    "\n",
    "            img, img_part, num_cuts = self.model(img, mask)\n",
    "            cap = self.model(cap)\n",
    "            \n",
    "            N, M, T = nps.size()\n",
    "            #nps = self.rga_cap_mlp(self.np_encoder(nps))\n",
    "            #nps = self.rga_cap_mlp(self.model(nps.reshape(-1, T))).reshape(N, M, -1)\n",
    "            \n",
    "            # part\n",
    "            img_part = self.rga_img_mlp(img_part)\n",
    "\n",
    "            img_part = regional_alignment_text(cap, img_part, num_cuts, self.cfg.dist_fn_opt) #RGA_attend_one_to_many_batch(cap, img_part, self.cfg.dist_fn_opt)\n",
    "            #cap_part = regional_alignment_text(img, nps, n2c, self.cfg.dist_fn_opt)\n",
    "            #cap_part = RGA_attend_one_to_many_batch(img, nps, self.cfg.dist_fn_opt)\n",
    "\n",
    "            # loss\n",
    "            tri_loss =  self.triplet_loss(img, cap, pid) \n",
    "            #tri_text_regional_loss =  self.triplet_loss(img, cap_part, pid) \n",
    "            tri_image_regional_loss =  self.triplet_loss(cap, img_part, pid) \n",
    "            id_loss = self.cls_loss(self.id_cls(img), pid) +  self.cls_loss(self.id_cls(cap), pid)\n",
    "\n",
    "\n",
    "            loss = tri_loss + tri_image_regional_loss + id_loss #  + tri_text_regional_loss\n",
    "\n",
    "            # backpropagation\n",
    "            optimizer.zero_grad()\n",
    "            loss.backward()\n",
    "            optimizer.step()\n",
    "\n",
    "\n",
    "            # log\n",
    "            cum_tri_loss += tri_loss.item()\n",
    "            cum_tri_image_regional_loss += tri_image_regional_loss.item()\n",
    "            # cum_tri_text_regional_loss += tri_text_regional_loss.item()\n",
    "            cum_id_loss += id_loss.item()\n",
    "            \n",
    "            if (i+1) % self.cfg.print_freq == 0:\n",
    "                out_string = \"[ep-%d, bs-%d] \" % (epoch, i)\n",
    "                out_string += \"[id-loss] %.6f, \" % (cum_id_loss / self.cfg.print_freq)\n",
    "                out_string += \"[tri-loss] %.6f, \" % (cum_tri_loss / self.cfg.print_freq)\n",
    "                out_string += \"[img_rga] %.6f, \" %  (cum_tri_image_regional_loss / self.cfg.print_freq)\n",
    "                out_string += \"[cap_rga] %.6f \" % (cum_tri_text_regional_loss / self.cfg.print_freq)\n",
    "                self.log(out_string)\n",
    "                cum_tri_loss, cum_tri_image_regional_loss, cum_tri_text_regional_loss, cum_id_loss = 0.0, 0.0, 0.0, 0.0       \n",
    "    def train_epoch_id(self, train_data, optimizer, epoch, note=\"train\"):\n",
    "        self.model.train()\n",
    "        self.id_cls.train()\n",
    "        cum_loss = 0.0\n",
    "        for i, data in tqdm(enumerate(train_data), \"%s, epoch%d\" % (note,epoch)):\n",
    "            # load data\n",
    "            data = self.todevice(data)\n",
    "            (img, cap, pid) = data\n",
    "            img = self.model(img)\n",
    "            cap = self.model(cap)\n",
    "\n",
    "            # loss\n",
    "            loss = 0.0\n",
    "            loss = loss + self.cls_loss(self.id_cls(img), pid) +  self.cls_loss(self.id_cls(cap), pid)\n",
    "            cum_loss += loss.item()\n",
    "            \n",
    "            # backpropagation\n",
    "            optimizer.zero_grad()\n",
    "            loss.backward()\n",
    "            optimizer.step()\n",
    "            \n",
    "\n",
    "            # log\n",
    "            if (i+1) % self.cfg.print_freq == 0:\n",
    "                self.log(\"ep-%d, bs-%d, [id-loss] %.6f\" % (epoch, i, cum_loss / self.cfg.print_freq))\n",
    "                cum_loss = 0.0"
   ]
  },
  {
   "cell_type": "code",
   "execution_count": 10,
   "metadata": {
    "code_folding": []
   },
   "outputs": [
    {
     "name": "stdout",
     "output_type": "stream",
     "text": [
      "1\n",
      "[Trainer][init] load pre-trained model from /shared/rsaas/aiyucui2/wider_person/checkpoints/reID/baseline/dist_fn_cosine_imgbb_resnet50_capbb_bigru_embed_size_1024_batch_96_lr_0.0002_step_size_10_captype_sent_img_meltlayer_6_np_False_sent_60_cap_10_6_fix_img_melt/stage_1_id_last.pt.\n",
      "[Trainer][init] load pre-trained id_cls from /shared/rsaas/aiyucui2/wider_person/checkpoints/reID/baseline/dist_fn_cosine_imgbb_resnet50_capbb_bigru_embed_size_1024_batch_96_lr_0.0002_step_size_10_captype_sent_img_meltlayer_6_np_False_sent_60_cap_10_6_fix_img_melt/stage_1_id_last.pt.\n",
      "[Trainer][init] load pre-trained rga_img_mlp from /shared/rsaas/aiyucui2/wider_person/checkpoints/reID/baseline/dist_fn_cosine_imgbb_resnet50_capbb_bigru_embed_size_1024_batch_96_lr_0.0002_step_size_10_captype_sent_img_meltlayer_6_np_False_sent_60_cap_10_6_fix_img_melt/stage_1_id_last.pt.\n",
      "[Trainer][init] load pre-trained rga_cap_mlp from /shared/rsaas/aiyucui2/wider_person/checkpoints/reID/baseline/dist_fn_cosine_imgbb_resnet50_capbb_bigru_embed_size_1024_batch_96_lr_0.0002_step_size_10_captype_sent_img_meltlayer_6_np_False_sent_60_cap_10_6_fix_img_melt/stage_1_id_last.pt.\n",
      "[Trainer][init] model initialized.\n",
      "[Trainer][init] criterion initialized.\n"
     ]
    }
   ],
   "source": [
    "cfg.num_ids = len(train_loader.dataset.person2label.values())\n",
    "manager = Manager(cfg, logger)"
   ]
  },
  {
   "cell_type": "code",
   "execution_count": 11,
   "metadata": {},
   "outputs": [],
   "source": [
    "if False:\n",
    "    if cfg.np:\n",
    "        acc = cos_evaluator.evaluate(manager.model, manager.rga_img_mlp, manager.rga_cap_mlp)\n",
    "    else:\n",
    "        acc = cos_evaluator.evaluate(manager.model)\n",
    "    logger.log('[cosine   ][global] R@1: %.4f | R@5: %.4f | R@10: %.4f' % (acc['top-1'], acc['top-5'], acc['top-10']))\n"
   ]
  },
  {
   "cell_type": "code",
   "execution_count": null,
   "metadata": {},
   "outputs": [],
   "source": []
  },
  {
   "cell_type": "code",
   "execution_count": null,
   "metadata": {},
   "outputs": [],
   "source": []
  },
  {
   "cell_type": "markdown",
   "metadata": {},
   "source": [
    "## Stage 1: ID Loss only"
   ]
  },
  {
   "cell_type": "code",
   "execution_count": 12,
   "metadata": {
    "code_folding": [
     1
    ]
   },
   "outputs": [],
   "source": [
    "\n",
    "if False:\n",
    "    logger.log(\"======== [Stage 1] ============\")\n",
    "    manager.melt_img_layer(num_layer_to_melt=1)\n",
    "    param_to_optimize = build_graph_optimizer([manager.model, manager.id_cls])\n",
    "    optimizer = optim.Adam(param_to_optimize, lr=1e-3)\n",
    "    scheduler = optim.lr_scheduler.StepLR(optimizer, step_size=10)\n",
    "    \n",
    "    for epoch in range(0):\n",
    "        manager.train_epoch_id(train_loader, optimizer, epoch, \"train-stage-1\")\n",
    "        acc = evaluator.evaluate(manager.model)\n",
    "        logger.log('[euclidean][global] R@1: %.4f | R@5: %.4f | R@10: %.4f' % (acc['top-1'], acc['top-5'], acc['top-10']))\n",
    "        acc = cos_evaluator.evaluate(manager.model)\n",
    "        logger.log('[cosine   ][global] R@1: %.4f | R@5: %.4f | R@10: %.4f' % (acc['top-1'], acc['top-5'], acc['top-10']))\n",
    "        scheduler.step()\n",
    "        manager.save_ckpt(epoch, acc, 'stage_1_id_last.pt')\n",
    "    manager.save_ckpt(epoch, acc, 'id_initialized.pt')\n"
   ]
  },
  {
   "cell_type": "markdown",
   "metadata": {},
   "source": [
    "## Stage 2: Matching + ID Loss"
   ]
  },
  {
   "cell_type": "code",
   "execution_count": null,
   "metadata": {},
   "outputs": [
    {
     "data": {
      "application/vnd.jupyter.widget-view+json": {
       "model_id": "da0bc444475642bc925c5c527a446988",
       "version_major": 2,
       "version_minor": 0
      },
      "text/plain": [
       "HBox(children=(IntProgress(value=1, bar_style='info', description='train-stage-2, epoch0', max=1, style=Progre…"
      ]
     },
     "metadata": {},
     "output_type": "display_data"
    },
    {
     "name": "stdout",
     "output_type": "stream",
     "text": [
      "[ep-0, bs-49] [id-loss] 3.078731, [tri-loss] 12.245416, [img_rga] 26.023119, [cap_rga] 0.000000 \n",
      "[ep-0, bs-99] [id-loss] 2.985575, [tri-loss] 5.310125, [img_rga] 19.574588, [cap_rga] 0.000000 \n",
      "[ep-0, bs-149] [id-loss] 3.792645, [tri-loss] 4.219028, [img_rga] 14.775048, [cap_rga] 0.000000 \n",
      "[ep-0, bs-199] [id-loss] 4.348468, [tri-loss] 3.509865, [img_rga] 11.224974, [cap_rga] 0.000000 \n",
      "[ep-0, bs-249] [id-loss] 4.343195, [tri-loss] 3.012444, [img_rga] 9.236499, [cap_rga] 0.000000 \n",
      "[ep-0, bs-299] [id-loss] 4.107030, [tri-loss] 2.636675, [img_rga] 7.959398, [cap_rga] 0.000000 \n",
      "[ep-0, bs-349] [id-loss] 3.971394, [tri-loss] 2.382365, [img_rga] 6.933376, [cap_rga] 0.000000 \n",
      "[ep-0, bs-399] [id-loss] 3.297932, [tri-loss] 2.170229, [img_rga] 6.284121, [cap_rga] 0.000000 \n",
      "[ep-0, bs-449] [id-loss] 3.213507, [tri-loss] 2.028612, [img_rga] 5.747965, [cap_rga] 0.000000 \n",
      "[ep-0, bs-499] [id-loss] 2.732611, [tri-loss] 1.938702, [img_rga] 5.451291, [cap_rga] 0.000000 \n",
      "[ep-0, bs-549] [id-loss] 2.422625, [tri-loss] 1.769128, [img_rga] 4.956568, [cap_rga] 0.000000 \n",
      "[ep-0, bs-599] [id-loss] 2.065385, [tri-loss] 1.645503, [img_rga] 4.575398, [cap_rga] 0.000000 \n",
      "[ep-0, bs-649] [id-loss] 1.848589, [tri-loss] 1.605210, [img_rga] 4.325709, [cap_rga] 0.000000 \n",
      "[ep-0, bs-699] [id-loss] 1.583535, [tri-loss] 1.537311, [img_rga] 3.952608, [cap_rga] 0.000000 \n",
      "[ep-0, bs-749] [id-loss] 1.355007, [tri-loss] 1.446340, [img_rga] 3.822096, [cap_rga] 0.000000 \n",
      "\n"
     ]
    },
    {
     "data": {
      "application/vnd.jupyter.widget-view+json": {
       "model_id": "9d09ae86ba4a4aac8f5085b45afcc71f",
       "version_major": 2,
       "version_minor": 0
      },
      "text/plain": [
       "HBox(children=(IntProgress(value=1, bar_style='info', description='build db global imgs', max=1, style=Progres…"
      ]
     },
     "metadata": {},
     "output_type": "display_data"
    },
    {
     "name": "stdout",
     "output_type": "stream",
     "text": [
      "\n"
     ]
    },
    {
     "data": {
      "application/vnd.jupyter.widget-view+json": {
       "model_id": "7c95c598455f4646b803768452694781",
       "version_major": 2,
       "version_minor": 0
      },
      "text/plain": [
       "HBox(children=(IntProgress(value=1, bar_style='info', description='build db global caps', max=1, style=Progres…"
      ]
     },
     "metadata": {},
     "output_type": "display_data"
    },
    {
     "name": "stdout",
     "output_type": "stream",
     "text": [
      "\n"
     ]
    },
    {
     "data": {
      "application/vnd.jupyter.widget-view+json": {
       "model_id": "9cb96d0764794890b97cf2803714ff72",
       "version_major": 2,
       "version_minor": 0
      },
      "text/plain": [
       "HBox(children=(IntProgress(value=0, description='scoremat_rga_img', max=3074, style=ProgressStyle(description_…"
      ]
     },
     "metadata": {},
     "output_type": "display_data"
    },
    {
     "name": "stdout",
     "output_type": "stream",
     "text": [
      "\n",
      "> <ipython-input-4-616a6b5cdf57>(73)regional_alignment_image()\n",
      "-> return np.array(scoremats).transpose(1,0)\n",
      "(Pdb) c\n"
     ]
    },
    {
     "data": {
      "application/vnd.jupyter.widget-view+json": {
       "model_id": "6e26772c51c44d949e8688500eacf793",
       "version_major": 2,
       "version_minor": 0
      },
      "text/plain": [
       "HBox(children=(IntProgress(value=1, bar_style='info', description='scoremat_rga_cap(nps)', max=1, style=Progre…"
      ]
     },
     "metadata": {},
     "output_type": "display_data"
    },
    {
     "name": "stdout",
     "output_type": "stream",
     "text": [
      "\n",
      "> <ipython-input-4-616a6b5cdf57>(97)evaluate()\n",
      "-> acc = self.compute_acc(scoremat_global, output_path)\n",
      "(Pdb) c\n",
      "[global] R@1: 0.3705 | R@5: 0.6126 | R@10: 0.7101\n",
      "[img_rga] R@1: 0.2189 | R@5: 0.4502 | R@10: 0.5556\n",
      "[cap_rga] R@1: 0.0013 | R@5: 0.0059 | R@10: 0.0091\n",
      "[fusion] R@1: 0.3559 | R@5: 0.5940 | R@10: 0.6932\n",
      "[cosine   ][global] R@1: 0.3559 | R@5: 0.5940 | R@10: 0.6932\n"
     ]
    },
    {
     "data": {
      "application/vnd.jupyter.widget-view+json": {
       "model_id": "e4ff21bc8439450a839d55217487df16",
       "version_major": 2,
       "version_minor": 0
      },
      "text/plain": [
       "HBox(children=(IntProgress(value=1, bar_style='info', description='train-stage-2, epoch1', max=1, style=Progre…"
      ]
     },
     "metadata": {},
     "output_type": "display_data"
    },
    {
     "name": "stdout",
     "output_type": "stream",
     "text": [
      "[ep-1, bs-49] [id-loss] 0.496426, [tri-loss] 1.008112, [img_rga] 3.240440, [cap_rga] 0.000000 \n",
      "[ep-1, bs-99] [id-loss] 0.480916, [tri-loss] 0.917633, [img_rga] 3.010802, [cap_rga] 0.000000 \n",
      "[ep-1, bs-149] [id-loss] 0.505513, [tri-loss] 0.932427, [img_rga] 2.881308, [cap_rga] 0.000000 \n",
      "[ep-1, bs-199] [id-loss] 0.490409, [tri-loss] 0.910388, [img_rga] 2.924159, [cap_rga] 0.000000 \n",
      "[ep-1, bs-249] [id-loss] 0.547675, [tri-loss] 0.918140, [img_rga] 2.798573, [cap_rga] 0.000000 \n",
      "[ep-1, bs-299] [id-loss] 0.533737, [tri-loss] 0.964821, [img_rga] 2.792914, [cap_rga] 0.000000 \n",
      "[ep-1, bs-349] [id-loss] 0.544569, [tri-loss] 0.921646, [img_rga] 2.729030, [cap_rga] 0.000000 \n",
      "[ep-1, bs-399] [id-loss] 0.516965, [tri-loss] 0.905187, [img_rga] 2.635051, [cap_rga] 0.000000 \n",
      "[ep-1, bs-449] [id-loss] 0.538384, [tri-loss] 0.873349, [img_rga] 2.546358, [cap_rga] 0.000000 \n",
      "[ep-1, bs-499] [id-loss] 0.535479, [tri-loss] 0.870708, [img_rga] 2.465056, [cap_rga] 0.000000 \n",
      "[ep-1, bs-549] [id-loss] 0.551346, [tri-loss] 0.931022, [img_rga] 2.462876, [cap_rga] 0.000000 \n",
      "[ep-1, bs-599] [id-loss] 0.543249, [tri-loss] 0.885450, [img_rga] 2.457857, [cap_rga] 0.000000 \n",
      "[ep-1, bs-649] [id-loss] 0.589441, [tri-loss] 0.855786, [img_rga] 2.344031, [cap_rga] 0.000000 \n",
      "[ep-1, bs-699] [id-loss] 0.537837, [tri-loss] 0.864133, [img_rga] 2.378264, [cap_rga] 0.000000 \n",
      "[ep-1, bs-749] [id-loss] 0.598413, [tri-loss] 0.904044, [img_rga] 2.316061, [cap_rga] 0.000000 \n",
      "\n"
     ]
    },
    {
     "data": {
      "application/vnd.jupyter.widget-view+json": {
       "model_id": "093ab4e544d04c93beb7037eaf455fca",
       "version_major": 2,
       "version_minor": 0
      },
      "text/plain": [
       "HBox(children=(IntProgress(value=1, bar_style='info', description='build db global imgs', max=1, style=Progres…"
      ]
     },
     "metadata": {},
     "output_type": "display_data"
    },
    {
     "name": "stdout",
     "output_type": "stream",
     "text": [
      "\n"
     ]
    },
    {
     "data": {
      "application/vnd.jupyter.widget-view+json": {
       "model_id": "bf48ae710c1743b09a3084b12e4dfab4",
       "version_major": 2,
       "version_minor": 0
      },
      "text/plain": [
       "HBox(children=(IntProgress(value=1, bar_style='info', description='build db global caps', max=1, style=Progres…"
      ]
     },
     "metadata": {},
     "output_type": "display_data"
    },
    {
     "name": "stdout",
     "output_type": "stream",
     "text": [
      "\n"
     ]
    },
    {
     "data": {
      "application/vnd.jupyter.widget-view+json": {
       "model_id": "f6c42bff42c74241aa86beef07d759b8",
       "version_major": 2,
       "version_minor": 0
      },
      "text/plain": [
       "HBox(children=(IntProgress(value=0, description='scoremat_rga_img', max=3074, style=ProgressStyle(description_…"
      ]
     },
     "metadata": {},
     "output_type": "display_data"
    },
    {
     "name": "stdout",
     "output_type": "stream",
     "text": [
      "\n",
      "> <ipython-input-4-616a6b5cdf57>(73)regional_alignment_image()\n",
      "-> return np.array(scoremats).transpose(1,0)\n",
      "(Pdb) c\n"
     ]
    },
    {
     "data": {
      "application/vnd.jupyter.widget-view+json": {
       "model_id": "e75c74a3fdea42cda346081eeeecad0a",
       "version_major": 2,
       "version_minor": 0
      },
      "text/plain": [
       "HBox(children=(IntProgress(value=1, bar_style='info', description='scoremat_rga_cap(nps)', max=1, style=Progre…"
      ]
     },
     "metadata": {},
     "output_type": "display_data"
    },
    {
     "name": "stdout",
     "output_type": "stream",
     "text": [
      "\n",
      "> <ipython-input-4-616a6b5cdf57>(97)evaluate()\n",
      "-> acc = self.compute_acc(scoremat_global, output_path)\n",
      "(Pdb) c\n",
      "[global] R@1: 0.4008 | R@5: 0.6457 | R@10: 0.7521\n",
      "[img_rga] R@1: 0.2710 | R@5: 0.5231 | R@10: 0.6321\n",
      "[cap_rga] R@1: 0.0013 | R@5: 0.0052 | R@10: 0.0088\n",
      "[fusion] R@1: 0.3887 | R@5: 0.6308 | R@10: 0.7316\n",
      "[cosine   ][global] R@1: 0.3887 | R@5: 0.6308 | R@10: 0.7316\n"
     ]
    },
    {
     "data": {
      "application/vnd.jupyter.widget-view+json": {
       "model_id": "a987c4bc8e1d47cfa7bf45b2e909d51f",
       "version_major": 2,
       "version_minor": 0
      },
      "text/plain": [
       "HBox(children=(IntProgress(value=1, bar_style='info', description='train-stage-2, epoch2', max=1, style=Progre…"
      ]
     },
     "metadata": {},
     "output_type": "display_data"
    },
    {
     "name": "stdout",
     "output_type": "stream",
     "text": [
      "[ep-2, bs-49] [id-loss] 0.345375, [tri-loss] 0.607181, [img_rga] 1.945276, [cap_rga] 0.000000 \n",
      "[ep-2, bs-99] [id-loss] 0.338339, [tri-loss] 0.593599, [img_rga] 1.828497, [cap_rga] 0.000000 \n",
      "[ep-2, bs-149] [id-loss] 0.330727, [tri-loss] 0.571789, [img_rga] 1.823953, [cap_rga] 0.000000 \n",
      "[ep-2, bs-199] [id-loss] 0.696532, [tri-loss] 0.810853, [img_rga] 2.830035, [cap_rga] 0.000000 \n",
      "[ep-2, bs-249] [id-loss] 0.567694, [tri-loss] 0.693715, [img_rga] 2.005724, [cap_rga] 0.000000 \n",
      "[ep-2, bs-299] [id-loss] 0.522929, [tri-loss] 0.608205, [img_rga] 1.812869, [cap_rga] 0.000000 \n",
      "[ep-2, bs-349] [id-loss] 0.490140, [tri-loss] 0.661990, [img_rga] 1.830310, [cap_rga] 0.000000 \n",
      "[ep-2, bs-399] [id-loss] 0.500428, [tri-loss] 0.629545, [img_rga] 1.845297, [cap_rga] 0.000000 \n",
      "[ep-2, bs-449] [id-loss] 0.543152, [tri-loss] 0.626224, [img_rga] 1.732822, [cap_rga] 0.000000 \n",
      "[ep-2, bs-499] [id-loss] 0.552299, [tri-loss] 0.655640, [img_rga] 1.860066, [cap_rga] 0.000000 \n",
      "[ep-2, bs-549] [id-loss] 0.565859, [tri-loss] 0.651061, [img_rga] 1.787458, [cap_rga] 0.000000 \n",
      "[ep-2, bs-599] [id-loss] 0.582254, [tri-loss] 0.675773, [img_rga] 1.770121, [cap_rga] 0.000000 \n",
      "[ep-2, bs-649] [id-loss] 0.557271, [tri-loss] 0.661695, [img_rga] 1.751608, [cap_rga] 0.000000 \n",
      "[ep-2, bs-699] [id-loss] 0.612982, [tri-loss] 0.666457, [img_rga] 1.722136, [cap_rga] 0.000000 \n",
      "[ep-2, bs-749] [id-loss] 0.618437, [tri-loss] 0.638082, [img_rga] 1.761396, [cap_rga] 0.000000 \n",
      "\n"
     ]
    },
    {
     "data": {
      "application/vnd.jupyter.widget-view+json": {
       "model_id": "0ca2d0f7f5f740e0a6f98ea8bbfdf1dc",
       "version_major": 2,
       "version_minor": 0
      },
      "text/plain": [
       "HBox(children=(IntProgress(value=1, bar_style='info', description='build db global imgs', max=1, style=Progres…"
      ]
     },
     "metadata": {},
     "output_type": "display_data"
    },
    {
     "name": "stdout",
     "output_type": "stream",
     "text": [
      "\n"
     ]
    },
    {
     "data": {
      "application/vnd.jupyter.widget-view+json": {
       "model_id": "53d6110169784c86aa352175855edee1",
       "version_major": 2,
       "version_minor": 0
      },
      "text/plain": [
       "HBox(children=(IntProgress(value=1, bar_style='info', description='build db global caps', max=1, style=Progres…"
      ]
     },
     "metadata": {},
     "output_type": "display_data"
    },
    {
     "name": "stdout",
     "output_type": "stream",
     "text": [
      "\n"
     ]
    },
    {
     "data": {
      "application/vnd.jupyter.widget-view+json": {
       "model_id": "e52e326130ca403f9eccbb1ca4e1a448",
       "version_major": 2,
       "version_minor": 0
      },
      "text/plain": [
       "HBox(children=(IntProgress(value=0, description='scoremat_rga_img', max=3074, style=ProgressStyle(description_…"
      ]
     },
     "metadata": {},
     "output_type": "display_data"
    },
    {
     "name": "stdout",
     "output_type": "stream",
     "text": [
      "\n",
      "> <ipython-input-4-616a6b5cdf57>(73)regional_alignment_image()\n",
      "-> return np.array(scoremats).transpose(1,0)\n",
      "(Pdb) c\n"
     ]
    },
    {
     "data": {
      "application/vnd.jupyter.widget-view+json": {
       "model_id": "196ea6092e424d9a9516543aaf6ebee5",
       "version_major": 2,
       "version_minor": 0
      },
      "text/plain": [
       "HBox(children=(IntProgress(value=1, bar_style='info', description='scoremat_rga_cap(nps)', max=1, style=Progre…"
      ]
     },
     "metadata": {},
     "output_type": "display_data"
    },
    {
     "name": "stdout",
     "output_type": "stream",
     "text": [
      "\n",
      "> <ipython-input-4-616a6b5cdf57>(97)evaluate()\n",
      "-> acc = self.compute_acc(scoremat_global, output_path)\n",
      "(Pdb) c\n",
      "[global] R@1: 0.4167 | R@5: 0.6614 | R@10: 0.7593\n",
      "[img_rga] R@1: 0.3003 | R@5: 0.5472 | R@10: 0.6630\n",
      "[cap_rga] R@1: 0.0007 | R@5: 0.0046 | R@10: 0.0094\n",
      "[fusion] R@1: 0.3985 | R@5: 0.6464 | R@10: 0.7498\n",
      "[cosine   ][global] R@1: 0.3985 | R@5: 0.6464 | R@10: 0.7498\n"
     ]
    },
    {
     "data": {
      "application/vnd.jupyter.widget-view+json": {
       "model_id": "6f82959b58f945e2a58c43dc4270b326",
       "version_major": 2,
       "version_minor": 0
      },
      "text/plain": [
       "HBox(children=(IntProgress(value=1, bar_style='info', description='train-stage-2, epoch3', max=1, style=Progre…"
      ]
     },
     "metadata": {},
     "output_type": "display_data"
    },
    {
     "name": "stdout",
     "output_type": "stream",
     "text": [
      "[ep-3, bs-49] [id-loss] 0.347860, [tri-loss] 0.459318, [img_rga] 1.473353, [cap_rga] 0.000000 \n",
      "[ep-3, bs-99] [id-loss] 0.363927, [tri-loss] 0.429511, [img_rga] 1.364969, [cap_rga] 0.000000 \n",
      "[ep-3, bs-149] [id-loss] 0.421594, [tri-loss] 0.452785, [img_rga] 1.385307, [cap_rga] 0.000000 \n",
      "[ep-3, bs-199] [id-loss] 0.415113, [tri-loss] 0.447953, [img_rga] 1.345620, [cap_rga] 0.000000 \n",
      "[ep-3, bs-249] [id-loss] 0.447168, [tri-loss] 0.465062, [img_rga] 1.368851, [cap_rga] 0.000000 \n",
      "[ep-3, bs-299] [id-loss] 0.455274, [tri-loss] 0.489786, [img_rga] 1.490695, [cap_rga] 0.000000 \n",
      "[ep-3, bs-349] [id-loss] 0.506188, [tri-loss] 0.501103, [img_rga] 1.459362, [cap_rga] 0.000000 \n",
      "[ep-3, bs-399] [id-loss] 0.534969, [tri-loss] 0.490447, [img_rga] 1.399005, [cap_rga] 0.000000 \n",
      "[ep-3, bs-449] [id-loss] 0.554074, [tri-loss] 0.497137, [img_rga] 1.427021, [cap_rga] 0.000000 \n",
      "[ep-3, bs-499] [id-loss] 0.550944, [tri-loss] 0.489516, [img_rga] 1.374735, [cap_rga] 0.000000 \n",
      "[ep-3, bs-549] [id-loss] 0.603798, [tri-loss] 0.498607, [img_rga] 1.409052, [cap_rga] 0.000000 \n",
      "[ep-3, bs-599] [id-loss] 0.641557, [tri-loss] 0.558582, [img_rga] 1.457254, [cap_rga] 0.000000 \n",
      "[ep-3, bs-649] [id-loss] 0.663557, [tri-loss] 0.520143, [img_rga] 1.369940, [cap_rga] 0.000000 \n",
      "[ep-3, bs-699] [id-loss] 0.705968, [tri-loss] 0.502597, [img_rga] 1.331992, [cap_rga] 0.000000 \n",
      "[ep-3, bs-749] [id-loss] 0.687695, [tri-loss] 0.517140, [img_rga] 1.400134, [cap_rga] 0.000000 \n",
      "\n"
     ]
    },
    {
     "data": {
      "application/vnd.jupyter.widget-view+json": {
       "model_id": "c49e0ac6b94a49198b06c9ced45c1114",
       "version_major": 2,
       "version_minor": 0
      },
      "text/plain": [
       "HBox(children=(IntProgress(value=1, bar_style='info', description='build db global imgs', max=1, style=Progres…"
      ]
     },
     "metadata": {},
     "output_type": "display_data"
    },
    {
     "name": "stdout",
     "output_type": "stream",
     "text": [
      "\n"
     ]
    },
    {
     "data": {
      "application/vnd.jupyter.widget-view+json": {
       "model_id": "8cc7e205c55942a7a4d4725d7822c9d4",
       "version_major": 2,
       "version_minor": 0
      },
      "text/plain": [
       "HBox(children=(IntProgress(value=1, bar_style='info', description='build db global caps', max=1, style=Progres…"
      ]
     },
     "metadata": {},
     "output_type": "display_data"
    },
    {
     "name": "stdout",
     "output_type": "stream",
     "text": [
      "\n"
     ]
    },
    {
     "data": {
      "application/vnd.jupyter.widget-view+json": {
       "model_id": "e9873c8aadf74a1daa7ba13a9e4f8e5f",
       "version_major": 2,
       "version_minor": 0
      },
      "text/plain": [
       "HBox(children=(IntProgress(value=0, description='scoremat_rga_img', max=3074, style=ProgressStyle(description_…"
      ]
     },
     "metadata": {},
     "output_type": "display_data"
    },
    {
     "name": "stdout",
     "output_type": "stream",
     "text": [
      "\n",
      "> <ipython-input-4-616a6b5cdf57>(73)regional_alignment_image()\n",
      "-> return np.array(scoremats).transpose(1,0)\n",
      "(Pdb) c\n"
     ]
    },
    {
     "data": {
      "application/vnd.jupyter.widget-view+json": {
       "model_id": "272f94fee93b49ccbc86dc4300155e5b",
       "version_major": 2,
       "version_minor": 0
      },
      "text/plain": [
       "HBox(children=(IntProgress(value=1, bar_style='info', description='scoremat_rga_cap(nps)', max=1, style=Progre…"
      ]
     },
     "metadata": {},
     "output_type": "display_data"
    },
    {
     "name": "stdout",
     "output_type": "stream",
     "text": [
      "\n",
      "> <ipython-input-4-616a6b5cdf57>(97)evaluate()\n",
      "-> acc = self.compute_acc(scoremat_global, output_path)\n"
     ]
    }
   ],
   "source": [
    "from tqdm import tqdm_notebook as tqdm\n",
    "manager.melt_img_layer(num_layer_to_melt=3)\n",
    "param_to_optimize = build_graph_optimizer([manager.model, manager.id_cls])\n",
    "optimizer = optim.Adam(param_to_optimize, lr=2e-4, weight_decay=5e-4)\n",
    "scheduler = optim.lr_scheduler.StepLR(optimizer, step_size=10)\n",
    "train_epoch = manager.train_epoch_regional if cfg.np else manager.train_epoch_global\n",
    "for epoch in range(15):\n",
    "    train_epoch(train_loader, optimizer, epoch, \"train-stage-2\")\n",
    "    if cfg.np:\n",
    "        cos_acc = cos_evaluator.evaluate(manager.model, manager.rga_img_mlp, manager.rga_cap_mlp)\n",
    "    else:\n",
    "        cos_acc = cos_evaluator.evaluate(manager.model)\n",
    "    logger.log('[cosine   ][global] R@1: %.4f | R@5: %.4f | R@10: %.4f' % (cos_acc['top-1'], cos_acc['top-5'], cos_acc['top-10']))\n",
    "    scheduler.step()"
   ]
  },
  {
   "cell_type": "code",
   "execution_count": null,
   "metadata": {},
   "outputs": [],
   "source": [
    "manager.save_ckpt(epoch, acc, \"match_stage2_trained.pt\")"
   ]
  },
  {
   "cell_type": "markdown",
   "metadata": {},
   "source": []
  }
 ],
 "metadata": {
  "kernelspec": {
   "display_name": "Python 3",
   "language": "python",
   "name": "python3"
  },
  "language_info": {
   "codemirror_mode": {
    "name": "ipython",
    "version": 3
   },
   "file_extension": ".py",
   "mimetype": "text/x-python",
   "name": "python",
   "nbconvert_exporter": "python",
   "pygments_lexer": "ipython3",
   "version": "3.7.3"
  },
  "toc": {
   "base_numbering": 1,
   "nav_menu": {},
   "number_sections": true,
   "sideBar": true,
   "skip_h1_title": false,
   "title_cell": "Table of Contents",
   "title_sidebar": "Contents",
   "toc_cell": false,
   "toc_position": {},
   "toc_section_display": true,
   "toc_window_display": false
  },
  "varInspector": {
   "cols": {
    "lenName": 16,
    "lenType": 16,
    "lenVar": 40
   },
   "kernels_config": {
    "python": {
     "delete_cmd_postfix": "",
     "delete_cmd_prefix": "del ",
     "library": "var_list.py",
     "varRefreshCmd": "print(var_dic_list())"
    },
    "r": {
     "delete_cmd_postfix": ") ",
     "delete_cmd_prefix": "rm(",
     "library": "var_list.r",
     "varRefreshCmd": "cat(var_dic_list()) "
    }
   },
   "types_to_exclude": [
    "module",
    "function",
    "builtin_function_or_method",
    "instance",
    "_Feature"
   ],
   "window_display": false
  }
 },
 "nbformat": 4,
 "nbformat_minor": 2
}
