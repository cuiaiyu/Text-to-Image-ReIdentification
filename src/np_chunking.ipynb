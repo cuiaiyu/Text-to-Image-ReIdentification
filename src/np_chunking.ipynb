{
 "cells": [
  {
   "cell_type": "markdown",
   "metadata": {},
   "source": [
    "# References\n",
    "https://github.com/lukewrites/NP_chunking_with_nltk/blob/master/NP_chunking_with_the_NLTK.ipynb"
   ]
  },
  {
   "cell_type": "code",
   "execution_count": 1,
   "metadata": {
    "code_folding": [
     13,
     42,
     67,
     110
    ]
   },
   "outputs": [],
   "source": [
    "import nltk\n",
    "import re\n",
    "import pprint\n",
    "from nltk import Tree\n",
    "\n",
    "from datasets.np_chunks import NPExtractor"
   ]
  },
  {
   "cell_type": "code",
   "execution_count": 2,
   "metadata": {
    "code_folding": [
     0,
     29,
     55,
     98
    ]
   },
   "outputs": [],
   "source": [
    "np_extractor = NPExtractor()\n",
    "index = 56\n",
    "\n"
   ]
  },
  {
   "cell_type": "code",
   "execution_count": 3,
   "metadata": {},
   "outputs": [],
   "source": [
    "from configs.args import load_arg_parser\n",
    "import os\n",
    "parser = load_arg_parser()\n",
    "cfg = parser.parse_args(\"\")\n",
    "cfg.data_root = \"/data/aiyucui2/wider\"\n",
    "root = cfg.data_root\n",
    "\n",
    "# data path\n",
    "cfg.anno_path = os.path.join(root, cfg.anno_path)\n",
    "cfg.img_dir = os.path.join(root, cfg.img_dir)\n",
    "cfg.val_anno_path = os.path.join(root, cfg.val_anno_path)\n",
    "cfg.val_img_dir = os.path.join(root, cfg.val_img_dir)\n",
    "cfg.gt_file_fn = os.path.join(root, cfg.gt_file_fn)\n",
    "\n",
    "# meta data path\n",
    "cfg.cheap_candidate_fn = os.path.join(root, cfg.cheap_candidate_fn)\n",
    "cfg.vocab_path = os.path.join(root, cfg.vocab_path)\n",
    "\n",
    "# sys path\n",
    "cfg.model_path = os.path.join(root, cfg.model_path)\n",
    "cfg.output_path = os.path.join(root, cfg.output_path)\n",
    "cfg.debug = False\n",
    "cfg.embed_size = 512\n",
    "cfg.batch_size = 96\n",
    "cfg.img_backbone_opt = \"resnet18\"\n",
    "cfg.cap_backbone_opt = \"bigru\"\n",
    "cfg.dim = (384,128)\n",
    "cfg.dist_fn_opt = \"cosine\"\n"
   ]
  },
  {
   "cell_type": "code",
   "execution_count": 4,
   "metadata": {
    "code_folding": [
     49
    ]
   },
   "outputs": [],
   "source": [
    "from datasets.WIDERTriplet import *\n",
    "from datasets.tokenizers import *\n",
    "from datasets.text_test_datasets import *\n",
    "\n",
    "\n",
    "class WIDERImageDataset(data.Dataset):\n",
    "    def __init__(self,img_dir,transform=None,split='val',debug=False):\n",
    "        super(WIDERImageDataset,self).__init__()\n",
    "        self.img_dir = img_dir\n",
    "        if split == 'val' or split == 'train':\n",
    "            subfolders = os.listdir(img_dir)\n",
    "            self.img_fns = []\n",
    "            for subfolder in subfolders:\n",
    "                for fn in os.listdir(os.path.join(img_dir,subfolder)):\n",
    "                    self.img_fns.append(os.path.join(subfolder,fn))\n",
    "        else:\n",
    "            self.img_fns = os.listdir(img_dir)\n",
    "        if debug:\n",
    "            self.img_fns = self.img_fns[:500]\n",
    "        #self.img_fns = [img for img in self.img_fns if img.endswith('.jpg')]\n",
    "        self.transform=transform\n",
    "    \n",
    "    def get_all_keys(self):\n",
    "        return self.img_fns\n",
    "    \n",
    "    def __len__(self):\n",
    "        return len(self.img_fns)\n",
    "    \n",
    "    def _load_img(self,index):\n",
    "        img_fn = self.img_fns[index]\n",
    "        fn = os.path.join(self.img_dir,img_fn)\n",
    "        image = Image.open(fn).convert('RGB')\n",
    "        if self.transform:\n",
    "            image = self.transform(image)\n",
    "        return image,img_fn\n",
    "    \n",
    "    def __getitem__(self,index):\n",
    "        image,image_fn = self._load_img(index)\n",
    "        return image,image_fn\n",
    "    \n",
    "def build_test_image_loader(cfg):\n",
    "    normalize = transforms.Normalize(mean=[0.485, 0.456, 0.406],\n",
    "                                     std=[0.229, 0.224, 0.225])\n",
    "    \n",
    "    transform_test = transforms.Compose([\n",
    "                                    transforms.Resize(dim),\n",
    "                                    transforms.ToTensor(),\n",
    "                                    normalize,\n",
    "                            ])\n",
    "    ds_image = WIDERImageDataset(img_dir=cfg.img_dir, transform=transform_test, debug=cfg.debug)\n",
    "    dl_image = data.DataLoader(ds_image,\n",
    "                               batch_size=cfg.batch_size,\n",
    "                               shuffle=False,\n",
    "                               num_workers=cfg.num_workers, \n",
    "                               pin_memory=True)\n",
    "    \n",
    "    "
   ]
  },
  {
   "cell_type": "code",
   "execution_count": 5,
   "metadata": {},
   "outputs": [
    {
     "ename": "NameError",
     "evalue": "name 'build_test_text_loader' is not defined",
     "output_type": "error",
     "traceback": [
      "\u001b[0;31m---------------------------------------------------------------------------\u001b[0m",
      "\u001b[0;31mNameError\u001b[0m                                 Traceback (most recent call last)",
      "\u001b[0;32m<ipython-input-5-baccfb41072f>\u001b[0m in \u001b[0;36m<module>\u001b[0;34m\u001b[0m\n\u001b[0;32m----> 1\u001b[0;31m \u001b[0mtest_text_loader\u001b[0m \u001b[0;34m=\u001b[0m \u001b[0mbuild_test_text_loader\u001b[0m\u001b[0;34m(\u001b[0m\u001b[0mcfg\u001b[0m\u001b[0;34m)\u001b[0m\u001b[0;34m\u001b[0m\u001b[0;34m\u001b[0m\u001b[0m\n\u001b[0m",
      "\u001b[0;31mNameError\u001b[0m: name 'build_test_text_loader' is not defined"
     ]
    }
   ],
   "source": [
    "test_text_loader = build_test_text_loader(cfg)"
   ]
  },
  {
   "cell_type": "code",
   "execution_count": null,
   "metadata": {},
   "outputs": [],
   "source": [
    "captions = test_text_loader.dataset.captions\n",
    "print(len(captions))\n",
    "print(len(test_text_loader.dataset))\n",
    "test_text_loader.dataset[0][0].size()\n",
    "for data in test_text_loader:\n",
    "    caps, nps, np2cap, image_fn = data\n",
    "    import pdb; pdb.set_trace()"
   ]
  },
  {
   "cell_type": "code",
   "execution_count": null,
   "metadata": {},
   "outputs": [],
   "source": [
    "index = 56\n",
    "\n",
    "\n",
    "print(captions[index].lower())\n",
    "print(sent_parse(captions[index]))\n",
    "print(find_nps(captions[index]))"
   ]
  }
 ],
 "metadata": {
  "kernelspec": {
   "display_name": "Python 3",
   "language": "python",
   "name": "python3"
  },
  "language_info": {
   "codemirror_mode": {
    "name": "ipython",
    "version": 3
   },
   "file_extension": ".py",
   "mimetype": "text/x-python",
   "name": "python",
   "nbconvert_exporter": "python",
   "pygments_lexer": "ipython3",
   "version": "3.7.3"
  },
  "toc": {
   "base_numbering": 1,
   "nav_menu": {},
   "number_sections": true,
   "sideBar": true,
   "skip_h1_title": false,
   "title_cell": "Table of Contents",
   "title_sidebar": "Contents",
   "toc_cell": false,
   "toc_position": {},
   "toc_section_display": true,
   "toc_window_display": false
  },
  "varInspector": {
   "cols": {
    "lenName": 16,
    "lenType": 16,
    "lenVar": 40
   },
   "kernels_config": {
    "python": {
     "delete_cmd_postfix": "",
     "delete_cmd_prefix": "del ",
     "library": "var_list.py",
     "varRefreshCmd": "print(var_dic_list())"
    },
    "r": {
     "delete_cmd_postfix": ") ",
     "delete_cmd_prefix": "rm(",
     "library": "var_list.r",
     "varRefreshCmd": "cat(var_dic_list()) "
    }
   },
   "types_to_exclude": [
    "module",
    "function",
    "builtin_function_or_method",
    "instance",
    "_Feature"
   ],
   "window_display": false
  }
 },
 "nbformat": 4,
 "nbformat_minor": 2
}
