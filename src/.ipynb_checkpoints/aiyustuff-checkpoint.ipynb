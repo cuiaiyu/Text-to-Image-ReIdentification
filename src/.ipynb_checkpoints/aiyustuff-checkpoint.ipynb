{
 "cells": [
  {
   "cell_type": "markdown",
   "metadata": {},
   "source": [
    "# Active FULL Training Code (Basic - Global)"
   ]
  },
  {
   "cell_type": "code",
   "execution_count": 1,
   "metadata": {},
   "outputs": [],
   "source": [
    "from datasets.wider_global_dataset import build_wider_dataloader\n",
    "from datasets.wider_global_test_dataset import build_wider_test_dataloader\n",
    "from models.texts.gru_backbone import BiGRUBackbone as CaptionBackbone\n",
    "from models.images.image_backbones import ImageBackbone\n",
    "from evaluators.global_evaluator import GlobalEvaluator\n",
    "from loss.loss import crossmodal_triplet_loss\n",
    "\n",
    "from tqdm import tqdm_notebook as tqdm\n",
    "from sklearn.neighbors import DistanceMetric\n",
    "import os\n",
    "\n",
    "import torch.nn as nn\n",
    "import torch.optim as optim\n",
    "\n",
    "from configs.args import load_arg_parser"
   ]
  },
  {
   "cell_type": "markdown",
   "metadata": {},
   "source": [
    "## config"
   ]
  },
  {
   "cell_type": "code",
   "execution_count": 2,
   "metadata": {
    "code_folding": [
     2
    ]
   },
   "outputs": [],
   "source": [
    "parser = load_arg_parser()\n",
    "cfg = parser.parse_args(\"\")\n",
    "\n",
    "root = cfg.data_root\n",
    "\n",
    "# data path\n",
    "cfg.anno_path = os.path.join(root, cfg.anno_path)\n",
    "cfg.img_dir = os.path.join(root, cfg.img_dir)\n",
    "cfg.val_anno_path = os.path.join(root, cfg.val_anno_path)\n",
    "cfg.val_img_dir = os.path.join(root, cfg.val_img_dir)\n",
    "cfg.gt_file_fn = os.path.join(root, cfg.gt_file_fn)\n",
    "\n",
    "# meta data path\n",
    "cfg.cheap_candidate_fn = os.path.join(root, cfg.cheap_candidate_fn)\n",
    "cfg.vocab_path = os.path.join(root, cfg.vocab_path)\n",
    "\n",
    "# sys path\n",
    "cfg.model_path = os.path.join(root, cfg.model_path)\n",
    "cfg.output_path = os.path.join(root, cfg.output_path)\n",
    "\n",
    "\n",
    "cfg.debug = False\n",
    "cfg.embed_size = 512\n",
    "cfg.batch_size = 128\n",
    "cfg.img_backbone_opt = \"resnet18\"\n",
    "cfg.cap_backbone_opt = \"bigru\"\n",
    "cfg.dim = (384,128)\n",
    "cfg.dist_fn_opt = \"cosine\""
   ]
  },
  {
   "cell_type": "markdown",
   "metadata": {},
   "source": [
    "## Loading data"
   ]
  },
  {
   "cell_type": "code",
   "execution_count": 3,
   "metadata": {
    "code_folding": [],
    "scrolled": true
   },
   "outputs": [
    {
     "name": "stdout",
     "output_type": "stream",
     "text": [
      "[ds] load annotations from /shared/rsaas/aiyucui2/wider_person/wider/train/train_anns_train.json\n",
      "size of dataset: 37132\n"
     ]
    }
   ],
   "source": [
    "# train loader\n",
    "train_loader = build_wider_dataloader(anno_path=cfg.anno_path,\n",
    "                                    img_dir=cfg.img_dir,\n",
    "                                    vocab_fn=cfg.vocab_path, \n",
    "                                    dim=cfg.dim,\n",
    "                                    token_length=40,\n",
    "                                    train=True,\n",
    "                                    batch_size=cfg.batch_size,\n",
    "                                    num_workers=8,\n",
    "                                    debug=cfg.debug)\n",
    "\n",
    "# test loader (loading image and text separately)\n",
    "test_text_loader, test_image_loader = build_wider_test_dataloader(anno_path=cfg.val_anno_path,\n",
    "                                                              img_dir=cfg.val_img_dir,\n",
    "                                                              vocab_fn=cfg.vocab_path, \n",
    "                                                              dim=cfg.dim,\n",
    "                                                              batch_size=cfg.batch_size,\n",
    "                                                              num_workers=8,\n",
    "                                                              debug=cfg.debug)"
   ]
  },
  {
   "cell_type": "code",
   "execution_count": 4,
   "metadata": {},
   "outputs": [
    {
     "name": "stdout",
     "output_type": "stream",
     "text": [
      "12003\n"
     ]
    }
   ],
   "source": [
    "print(len(train_loader.dataset.person2label.values()))"
   ]
  },
  {
   "cell_type": "code",
   "execution_count": 5,
   "metadata": {},
   "outputs": [
    {
     "name": "stdout",
     "output_type": "stream",
     "text": [
      "(tensor([  9,  14,   6,   8,   2,  24,   4,  10,  97, 144,  58,   4,  59,  17,\n",
      "          3,  19,  16,  50, 494, 123,  30, 141,   3,   1,   1,   1,   1,   1,\n",
      "          1,   1,   1,   1,   1,   1,   1,   1,   1,   1,   1,   1]), 'train_query/p8848_s17661.jpg')\n",
      "tensor([   9,   21,    6,    8,    2,   33,    7,    0,    7,  128,    7,  637,\n",
      "          38,    4,  130,    3,   22,    6,    8,   35, 1111,   99,    4,    2,\n",
      "          43,    3,    1,    1,    1,    1,    1,    1,    1,    1,    1,    1,\n",
      "           1,    1,    1,    1])\n"
     ]
    },
    {
     "name": "stderr",
     "output_type": "stream",
     "text": [
      "Clipping input data to the valid range for imshow with RGB data ([0..1] for floats or [0..255] for integers).\n"
     ]
    },
    {
     "data": {
      "text/plain": [
       "<Figure size 640x480 with 1 Axes>"
      ]
     },
     "metadata": {},
     "output_type": "display_data"
    }
   ],
   "source": [
    "import matplotlib.pyplot as plt\n",
    "import numpy as np\n",
    "import torchvision\n",
    "# functions to show an image\n",
    "print(test_text_loader.dataset[1])\n",
    "print(train_loader.dataset[1][5])\n",
    "def imshow(img):\n",
    "    img = img / 2 + 0.5     # unnormalize\n",
    "    npimg = img.numpy()\n",
    "    plt.imshow(np.transpose(npimg, (1, 2, 0)))\n",
    "    plt.show()\n",
    "dataiter = iter(test_image_loader)\n",
    "images, labels = dataiter.next()\n",
    "\n",
    "# show images\n",
    "imshow(images[0])"
   ]
  },
  {
   "cell_type": "markdown",
   "metadata": {},
   "source": [
    "## Define Model"
   ]
  },
  {
   "cell_type": "code",
   "execution_count": 6,
   "metadata": {},
   "outputs": [],
   "source": [
    "class Model(nn.Module):\n",
    "    def __init__(self, embed_size, image_opt=\"resnet50\", caption_opt=\"bigru\"):\n",
    "        super(Model, self).__init__()\n",
    "        self.img_backbone = ImageBackbone(embed_size, image_opt)\n",
    "        self.cap_backbone = CaptionBackbone(embed_size=embed_size, caption_opt=caption_opt)\n",
    "        \n",
    "    def forward(self,x):\n",
    "        if len(x.size()) == 4:\n",
    "            x = self.img_backbone(x)\n",
    "        elif len(x.size()) == 2 or len(x.size()) == 3:\n",
    "            x = self.cap_backbone(x)\n",
    "        else:\n",
    "            assert False\n",
    "        return x        \n",
    "\n"
   ]
  },
  {
   "cell_type": "code",
   "execution_count": 7,
   "metadata": {},
   "outputs": [],
   "source": [
    "model = Model(embed_size=cfg.embed_size, \n",
    "              image_opt=cfg.img_backbone_opt, \n",
    "              caption_opt=cfg.cap_backbone_opt).cuda()\n",
    "\n",
    "#classifier = nn.Sequential(\n",
    "#    nn.Linear(cfg.embed_size, 12003),\n",
    "#    nn.Softmax()\n",
    "#).cuda()"
   ]
  },
  {
   "cell_type": "markdown",
   "metadata": {},
   "source": [
    "### Distance Metrics"
   ]
  },
  {
   "cell_type": "code",
   "execution_count": 8,
   "metadata": {
    "code_folding": []
   },
   "outputs": [],
   "source": [
    "def cos_distance(x,y):\n",
    "    eps = 1e-12\n",
    "    dot_prod = np.dot(x,y.transpose(1,0))\n",
    "    x_norm = np.linalg.norm(x, axis=1, keepdims=True)\n",
    "    y_norm = np.linalg.norm(y, axis=1, keepdims=True)\n",
    "    tmp = dot_prod / (np.dot(x_norm, y_norm.transpose(1,0)) + eps)\n",
    "    return 1 - tmp\n",
    "\n",
    "def triplet_loss_cosine(x, pos, neg, margin=1):\n",
    "    #import pdb; pdb.set_trace()\n",
    "    pos_dist = F.cosine_similarity(x, pos).diag()\n",
    "    neg_dist = F.cosine_similarity(x, neg).diag()\n",
    "    return torch.clamp(margin-pos_dist+neg_dist, min=0).sum()\n",
    "\n",
    "    \n",
    "if cfg.dist_fn_opt == \"euclidean\":\n",
    "    dist_fn = DistanceMetric.get_metric('euclidean').pairwise\n",
    "    triplet_loss = nn.TripletMarginLoss()\n",
    "elif cfg.dist_fn_opt == \"cosine\":\n",
    "    dist_fn = cos_distance\n",
    "    triplet_loss = nn.CosineEmbeddingLoss()"
   ]
  },
  {
   "cell_type": "markdown",
   "metadata": {},
   "source": [
    "### Train Misc Setup"
   ]
  },
  {
   "cell_type": "code",
   "execution_count": 9,
   "metadata": {
    "code_folding": [
     8
    ]
   },
   "outputs": [
    {
     "name": "stdout",
     "output_type": "stream",
     "text": [
      "<function cos_distance at 0x2b5a2a007400>\n"
     ]
    }
   ],
   "source": [
    "print(dist_fn)\n",
    "evaluator = GlobalEvaluator(img_loader=test_image_loader, \n",
    "                          cap_loader=test_text_loader, \n",
    "                          gt_file_path=cfg.gt_file_fn,\n",
    "                          embed_size=cfg.embed_size,\n",
    "                          dist_fn=dist_fn)\n",
    "#acc = evaluator.evaluate(model)\n",
    "\n",
    "def build_graph_optimizer(models):\n",
    "    if not isinstance(models, list):\n",
    "        models = [models]\n",
    "    params_to_optimize = []\n",
    "    for model in models:\n",
    "        if model and hasattr(model, '_parameters'):\n",
    "            for param in model.parameters():\n",
    "                if param.requires_grad == True:\n",
    "                    params_to_optimize.append(param)\n",
    "    return params_to_optimize"
   ]
  },
  {
   "cell_type": "code",
   "execution_count": 10,
   "metadata": {
    "code_folding": [
     2
    ]
   },
   "outputs": [
    {
     "ename": "NameError",
     "evalue": "name 'classifier' is not defined",
     "output_type": "error",
     "traceback": [
      "\u001b[0;31m---------------------------------------------------------------------------\u001b[0m",
      "\u001b[0;31mNameError\u001b[0m                                 Traceback (most recent call last)",
      "\u001b[0;32m<ipython-input-10-dd2260ff4951>\u001b[0m in \u001b[0;36m<module>\u001b[0;34m\u001b[0m\n\u001b[1;32m     28\u001b[0m \u001b[0mcls_loss\u001b[0m \u001b[0;34m=\u001b[0m \u001b[0mnn\u001b[0m\u001b[0;34m.\u001b[0m\u001b[0mCrossEntropyLoss\u001b[0m\u001b[0;34m(\u001b[0m\u001b[0;34m)\u001b[0m\u001b[0;34m\u001b[0m\u001b[0;34m\u001b[0m\u001b[0m\n\u001b[1;32m     29\u001b[0m \u001b[0mmodel\u001b[0m\u001b[0;34m.\u001b[0m\u001b[0mimg_backbone\u001b[0m\u001b[0;34m.\u001b[0m\u001b[0mmelt_layer\u001b[0m\u001b[0;34m(\u001b[0m\u001b[0;36m8\u001b[0m\u001b[0;34m)\u001b[0m\u001b[0;34m\u001b[0m\u001b[0;34m\u001b[0m\u001b[0m\n\u001b[0;32m---> 30\u001b[0;31m \u001b[0mparam_to_optimize\u001b[0m \u001b[0;34m=\u001b[0m \u001b[0mbuild_graph_optimizer\u001b[0m\u001b[0;34m(\u001b[0m\u001b[0;34m[\u001b[0m\u001b[0mmodel\u001b[0m\u001b[0;34m,\u001b[0m \u001b[0mclassifier\u001b[0m\u001b[0;34m]\u001b[0m\u001b[0;34m)\u001b[0m\u001b[0;34m\u001b[0m\u001b[0;34m\u001b[0m\u001b[0m\n\u001b[0m\u001b[1;32m     31\u001b[0m \u001b[0moptimizer\u001b[0m \u001b[0;34m=\u001b[0m \u001b[0moptim\u001b[0m\u001b[0;34m.\u001b[0m\u001b[0mAdam\u001b[0m\u001b[0;34m(\u001b[0m\u001b[0mparam_to_optimize\u001b[0m\u001b[0;34m,\u001b[0m \u001b[0mlr\u001b[0m\u001b[0;34m=\u001b[0m\u001b[0;36m1e-3\u001b[0m\u001b[0;34m,\u001b[0m \u001b[0mweight_decay\u001b[0m\u001b[0;34m=\u001b[0m\u001b[0;36m1e-5\u001b[0m\u001b[0;34m)\u001b[0m\u001b[0;34m\u001b[0m\u001b[0;34m\u001b[0m\u001b[0m\n\u001b[1;32m     32\u001b[0m \u001b[0mscheduler\u001b[0m \u001b[0;34m=\u001b[0m \u001b[0moptim\u001b[0m\u001b[0;34m.\u001b[0m\u001b[0mlr_scheduler\u001b[0m\u001b[0;34m.\u001b[0m\u001b[0mStepLR\u001b[0m\u001b[0;34m(\u001b[0m\u001b[0moptimizer\u001b[0m\u001b[0;34m,\u001b[0m \u001b[0mstep_size\u001b[0m\u001b[0;34m=\u001b[0m\u001b[0;36m20\u001b[0m\u001b[0;34m)\u001b[0m\u001b[0;34m\u001b[0m\u001b[0;34m\u001b[0m\u001b[0m\n",
      "\u001b[0;31mNameError\u001b[0m: name 'classifier' is not defined"
     ]
    }
   ],
   "source": [
    "def train_epoch_stage1(train_data, model, classifier, optimizer, cls_loss, note=\"train\"):\n",
    "    model.train()\n",
    "    cum_loss = 0.0\n",
    "    for i, data in tqdm(enumerate(train_data), \"%s, epoch%d\" % (note,epoch)):\n",
    "        # load data\n",
    "        (img,pos_img,neg_img, cap, pos_cap, neg_cap, pid, pos_pid, neg_pid) = data\n",
    "        img, pos_img, neg_img = model(img.cuda()), model(pos_img.cuda()), model(neg_img.cuda())\n",
    "        cap, pos_cap, neg_cap = model(cap.cuda()), model(pos_cap.cuda()), model(neg_cap.cuda())\n",
    "        \n",
    "        # loss\n",
    "        loss = 0.0\n",
    "        loss = loss + cls_loss(classifier(img), pid.cuda()) +  cls_loss(classifier(cap), pid.cuda())\n",
    "        \n",
    "        # backpropagation\n",
    "        optimizer.zero_grad()\n",
    "        loss.backward()\n",
    "        optimizer.step()\n",
    "        cum_loss += loss.item()\n",
    "        \n",
    "        # log\n",
    "        if (i+1) % 64 == 0:\n",
    "            print(\"batch %d, loss %.6f\" % (i, cum_loss/64))\n",
    "            cum_loss = 0.0\n",
    "    return model\n",
    "\n",
    "\n",
    "# stage 1 - image channel forzen\n",
    "cls_loss = nn.CrossEntropyLoss()\n",
    "model.img_backbone.melt_layer(8)\n",
    "param_to_optimize = build_graph_optimizer([model, classifier])\n",
    "optimizer = optim.Adam(param_to_optimize, lr=1e-3, weight_decay=1e-5)\n",
    "scheduler = optim.lr_scheduler.StepLR(optimizer, step_size=20)\n",
    "for epoch in range(10):\n",
    "    model = train_epoch_stage1(train_loader, model, classifier, optimizer, cls_loss, \"train-stage-1\")\n",
    "    acc = evaluator.evaluate(model)\n",
    "    scheduler.step()\n",
    "    "
   ]
  },
  {
   "cell_type": "code",
   "execution_count": null,
   "metadata": {},
   "outputs": [
    {
     "data": {
      "application/vnd.jupyter.widget-view+json": {
       "model_id": "9d54f748c3b9429bbd691223f8009be7",
       "version_major": 2,
       "version_minor": 0
      },
      "text/plain": [
       "HBox(children=(IntProgress(value=1, bar_style='info', description='train-stage-1, epoch0', max=1, style=Progre…"
      ]
     },
     "metadata": {},
     "output_type": "display_data"
    },
    {
     "name": "stdout",
     "output_type": "stream",
     "text": [
      "batch 63, [tri-loss] 2.987790\n",
      "batch 127, [tri-loss] 2.450860\n"
     ]
    }
   ],
   "source": [
    "import torch\n",
    "\n",
    "def crossmodal_triplet_loss(img, pos_img, neg_img, cap, pos_cap, neg_cap, triplet_loss, dist_fn_opt):\n",
    "    loss = 0.0\n",
    "    if dist_fn_opt == \"euclidean\":\n",
    "        loss = loss + triplet_loss(img, pos_img, neg_img)\n",
    "        loss = loss + triplet_loss(cap, pos_cap, neg_cap)\n",
    "\n",
    "        loss = loss + triplet_loss(img, pos_cap, neg_cap)\n",
    "        loss = loss + triplet_loss(img, pos_cap, neg_img)\n",
    "        loss = loss + triplet_loss(img, pos_img, neg_cap)\n",
    "        loss = loss + triplet_loss(cap, pos_img, neg_img)\n",
    "        loss = loss + triplet_loss(cap, pos_img, neg_cap)\n",
    "        loss = loss + triplet_loss(cap, pos_cap, neg_img)\n",
    "\n",
    "        loss = loss + triplet_loss(pos_cap, pos_img, neg_cap)\n",
    "        loss = loss + triplet_loss(pos_cap, pos_img, neg_img)\n",
    "        loss = loss + triplet_loss(cap, img, neg_cap)\n",
    "        loss = loss + triplet_loss(cap, img, neg_img)\n",
    "    elif dist_fn_opt == \"cosine\":\n",
    "        same = torch.Tensor(img.size(0)).fill_(1).cuda()\n",
    "        diff = torch.Tensor(img.size(0)).fill_(-1).cuda()\n",
    "        \n",
    "        loss = loss + triplet_loss(img, cap, same)\n",
    "        loss = loss + triplet_loss(img, img, same)\n",
    "        loss = loss + triplet_loss(pos_img, pos_cap, same)\n",
    "\n",
    "        loss = loss + triplet_loss(img, neg_img, diff)\n",
    "        loss = loss + triplet_loss(cap, neg_img, diff)\n",
    "        loss = loss + triplet_loss(img, neg_cap, diff)\n",
    "        loss = loss + triplet_loss(cap, neg_cap, diff)\n",
    "\n",
    "        loss = loss + triplet_loss(pos_img, neg_img, diff)\n",
    "        loss = loss + triplet_loss(pos_cap, neg_img, diff)\n",
    "        loss = loss + triplet_loss(pos_img, neg_cap, diff)\n",
    "        loss = loss + triplet_loss(pos_cap, neg_cap, diff)\n",
    "    return loss\n",
    "\n",
    "def train_epoch(train_data, model, optimizer, triplet_loss, note=\"train\"):\n",
    "    model.train()\n",
    "    cum_tri_loss, cum_id_loss = 0.0, 0.0\n",
    "    for i, data in tqdm(enumerate(train_data), \"%s, epoch%d\" % (note,epoch)):\n",
    "        # load data\n",
    "        (img,pos_img,neg_img, cap, pos_cap, neg_cap, pid, pos_pid, neg_pid) = data\n",
    "        img, pos_img, neg_img = model(img.cuda()), model(pos_img.cuda()), model(neg_img.cuda())\n",
    "        cap, pos_cap, neg_cap = model(cap.cuda()), model(pos_cap.cuda()), model(neg_cap.cuda())\n",
    "        \n",
    "        # loss\n",
    "        tri_loss =  crossmodal_triplet_loss(img,pos_img,neg_img, \n",
    "                                              cap, pos_cap, neg_cap, \n",
    "                                              triplet_loss, cfg.dist_fn_opt)  \n",
    "        loss = tri_loss\n",
    "        # backpropagation\n",
    "        optimizer.zero_grad()\n",
    "        loss.backward()\n",
    "        optimizer.step()\n",
    "        cum_tri_loss += tri_loss.item()\n",
    "        \n",
    "        # log\n",
    "        if (i+1) % 64 == 0:\n",
    "            print(\"batch %d, [tri-loss] %.6f\" % (i, cum_tri_loss/64))\n",
    "            cum_tri_loss = 0.0\n",
    "    return model\n",
    "\n",
    "# stage 1 - image channel forzen\n",
    "model.img_backbone.melt_layer(8)\n",
    "param_to_optimize = build_graph_optimizer([model])\n",
    "optimizer = optim.Adam(param_to_optimize, lr=1e-3, weight_decay=1e-5)\n",
    "scheduler = optim.lr_scheduler.StepLR(optimizer, step_size=20)\n",
    "for epoch in range(10):\n",
    "    model = train_epoch(train_loader, model, optimizer, triplet_loss, \"train-stage-1\")\n",
    "    acc = evaluator.evaluate(model)\n",
    "    scheduler.step()\n",
    "    \n",
    "# stage 2 - train all\n",
    "model.img_backbone.melt_layer(7)\n",
    "param_to_optimize = build_graph_optimizer([model])\n",
    "optimizer = optim.Adam(param_to_optimize, lr=2e-4, weight_decay=1e-5)\n",
    "scheduler = optim.lr_scheduler.StepLR(optimizer, step_size=20)\n",
    "for epoch in range(60):\n",
    "    model = train_epoch(train_loader, model, optimizer, triplet_loss, \"train-stage-2\")\n",
    "    acc = evaluator.evaluate(model)\n",
    "    scheduler.step()"
   ]
  },
  {
   "cell_type": "code",
   "execution_count": null,
   "metadata": {},
   "outputs": [],
   "source": []
  }
 ],
 "metadata": {
  "kernelspec": {
   "display_name": "Python 3",
   "language": "python",
   "name": "python3"
  },
  "language_info": {
   "codemirror_mode": {
    "name": "ipython",
    "version": 3
   },
   "file_extension": ".py",
   "mimetype": "text/x-python",
   "name": "python",
   "nbconvert_exporter": "python",
   "pygments_lexer": "ipython3",
   "version": "3.7.3"
  },
  "toc": {
   "base_numbering": 1,
   "nav_menu": {},
   "number_sections": true,
   "sideBar": true,
   "skip_h1_title": false,
   "title_cell": "Table of Contents",
   "title_sidebar": "Contents",
   "toc_cell": false,
   "toc_position": {},
   "toc_section_display": true,
   "toc_window_display": false
  },
  "varInspector": {
   "cols": {
    "lenName": 16,
    "lenType": 16,
    "lenVar": 40
   },
   "kernels_config": {
    "python": {
     "delete_cmd_postfix": "",
     "delete_cmd_prefix": "del ",
     "library": "var_list.py",
     "varRefreshCmd": "print(var_dic_list())"
    },
    "r": {
     "delete_cmd_postfix": ") ",
     "delete_cmd_prefix": "rm(",
     "library": "var_list.r",
     "varRefreshCmd": "cat(var_dic_list()) "
    }
   },
   "types_to_exclude": [
    "module",
    "function",
    "builtin_function_or_method",
    "instance",
    "_Feature"
   ],
   "window_display": false
  }
 },
 "nbformat": 4,
 "nbformat_minor": 2
}
