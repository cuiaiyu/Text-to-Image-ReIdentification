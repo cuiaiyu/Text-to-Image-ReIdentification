{
 "cells": [
  {
   "cell_type": "markdown",
   "metadata": {},
   "source": [
    "## Build Vocabulary"
   ]
  },
  {
   "cell_type": "code",
   "execution_count": 1,
   "metadata": {},
   "outputs": [],
   "source": [
    "import json\n",
    "import collections\n",
    "import nltk\n",
    "import operator"
   ]
  },
  {
   "cell_type": "code",
   "execution_count": 9,
   "metadata": {},
   "outputs": [
    {
     "name": "stdout",
     "output_type": "stream",
     "text": [
      "74284 captions are loaded for building vocab.\n"
     ]
    }
   ],
   "source": [
    "# load all captions\n",
    "with open(\"../data/wider/train/train_anns_train.json\") as f:\n",
    "    train_anns = json.load(f)\n",
    "all_caps = []\n",
    "for ann in train_anns:\n",
    "    all_caps.extend(ann[\"captions\"])\n",
    "print(\"%d captions are loaded for building vocab.\" % len(all_caps))\n",
    "\n",
    "# count words\n",
    "vocab = collections.defaultdict(int)\n",
    "for cap in all_caps:\n",
    "    for w in nltk.word_tokenize(cap.lower()):\n",
    "        vocab[w] += 1\n",
    "sorted_vocab = sorted(vocab.items(), key=operator.itemgetter(1), reverse=True)"
   ]
  },
  {
   "cell_type": "code",
   "execution_count": 10,
   "metadata": {},
   "outputs": [
    {
     "name": "stdout",
     "output_type": "stream",
     "text": [
      "1285 word are picked, which covers 98.77 of all words.\n"
     ]
    }
   ],
   "source": [
    "total = 0\n",
    "cum_vocab = []\n",
    "ratio_vocab = []\n",
    "for a,b in sorted_vocab:\n",
    "    c = total + b\n",
    "    total = total + b\n",
    "    cum_vocab.append((a,b,c))\n",
    "for a,b,c in cum_vocab:\n",
    "    d = 1.0*c/total\n",
    "    ratio_vocab.append((a,b,c,d))\n",
    "interested_vocab = [a for a,b,c,d in ratio_vocab if b > 20]\n",
    "print(\"%d word are picked, which covers %.2f of all words.\" % (len(interested_vocab), \n",
    "                                                              ratio_vocab[len(interested_vocab)][-1]*100))\n",
    "final_vocab = {word: i+2 for i, word in enumerate(interested_vocab)}\n",
    "final_vocab[\"<UNK>\"] = 0\n",
    "final_vocab[\"<END>\"] =1\n",
    "with open(\"raw_vocab_th20.json\", \"w\") as f: \n",
    "    json.dump({\n",
    "        \"vocab\": final_vocab,\n",
    "        \"coverage\": ratio_vocab[len(interested_vocab)][-1]\n",
    "    },f)"
   ]
  },
  {
   "cell_type": "code",
   "execution_count": 11,
   "metadata": {},
   "outputs": [
    {
     "name": "stdout",
     "output_type": "stream",
     "text": [
      "1286\n"
     ]
    }
   ],
   "source": [
    "print(max(final_vocab.values()))"
   ]
  }
 ],
 "metadata": {
  "kernelspec": {
   "display_name": "Python 3",
   "language": "python",
   "name": "python3"
  },
  "language_info": {
   "codemirror_mode": {
    "name": "ipython",
    "version": 3
   },
   "file_extension": ".py",
   "mimetype": "text/x-python",
   "name": "python",
   "nbconvert_exporter": "python",
   "pygments_lexer": "ipython3",
   "version": "3.7.3"
  },
  "toc": {
   "base_numbering": 1,
   "nav_menu": {},
   "number_sections": true,
   "sideBar": true,
   "skip_h1_title": false,
   "title_cell": "Table of Contents",
   "title_sidebar": "Contents",
   "toc_cell": false,
   "toc_position": {},
   "toc_section_display": true,
   "toc_window_display": false
  },
  "varInspector": {
   "cols": {
    "lenName": 16,
    "lenType": 16,
    "lenVar": 40
   },
   "kernels_config": {
    "python": {
     "delete_cmd_postfix": "",
     "delete_cmd_prefix": "del ",
     "library": "var_list.py",
     "varRefreshCmd": "print(var_dic_list())"
    },
    "r": {
     "delete_cmd_postfix": ") ",
     "delete_cmd_prefix": "rm(",
     "library": "var_list.r",
     "varRefreshCmd": "cat(var_dic_list()) "
    }
   },
   "types_to_exclude": [
    "module",
    "function",
    "builtin_function_or_method",
    "instance",
    "_Feature"
   ],
   "window_display": false
  }
 },
 "nbformat": 4,
 "nbformat_minor": 2
}
